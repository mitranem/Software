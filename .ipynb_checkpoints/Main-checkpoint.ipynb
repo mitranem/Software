{
 "cells": [
  {
   "cell_type": "code",
   "execution_count": 1,
   "metadata": {},
   "outputs": [
    {
     "name": "stdout",
     "output_type": "stream",
     "text": [
      "Requirement already satisfied: mediapipe in c:\\users\\sangh\\anaconda3\\lib\\site-packages (0.9.1.0)\n",
      "Requirement already satisfied: opencv-python in c:\\users\\sangh\\anaconda3\\lib\\site-packages (4.7.0.72)\n",
      "Requirement already satisfied: msvc-runtime in c:\\users\\sangh\\anaconda3\\lib\\site-packages (14.34.31931)\n",
      "Requirement already satisfied: attrs>=19.1.0 in c:\\users\\sangh\\anaconda3\\lib\\site-packages (from mediapipe) (21.4.0)\n",
      "Requirement already satisfied: protobuf<4,>=3.11 in c:\\users\\sangh\\anaconda3\\lib\\site-packages (from mediapipe) (3.19.1)\n",
      "Requirement already satisfied: opencv-contrib-python in c:\\users\\sangh\\anaconda3\\lib\\site-packages (from mediapipe) (4.7.0.72)\n",
      "Requirement already satisfied: matplotlib in c:\\users\\sangh\\anaconda3\\lib\\site-packages (from mediapipe) (3.5.1)\n",
      "Requirement already satisfied: flatbuffers>=2.0 in c:\\users\\sangh\\anaconda3\\lib\\site-packages (from mediapipe) (23.3.3)\n",
      "Requirement already satisfied: numpy in c:\\users\\sangh\\anaconda3\\lib\\site-packages (from mediapipe) (1.21.5)\n",
      "Requirement already satisfied: absl-py in c:\\users\\sangh\\anaconda3\\lib\\site-packages (from mediapipe) (1.4.0)\n",
      "Requirement already satisfied: cycler>=0.10 in c:\\users\\sangh\\anaconda3\\lib\\site-packages (from matplotlib->mediapipe) (0.11.0)\n",
      "Requirement already satisfied: fonttools>=4.22.0 in c:\\users\\sangh\\anaconda3\\lib\\site-packages (from matplotlib->mediapipe) (4.25.0)\n",
      "Requirement already satisfied: pillow>=6.2.0 in c:\\users\\sangh\\anaconda3\\lib\\site-packages (from matplotlib->mediapipe) (9.0.1)\n",
      "Requirement already satisfied: pyparsing>=2.2.1 in c:\\users\\sangh\\anaconda3\\lib\\site-packages (from matplotlib->mediapipe) (3.0.4)\n",
      "Requirement already satisfied: kiwisolver>=1.0.1 in c:\\users\\sangh\\anaconda3\\lib\\site-packages (from matplotlib->mediapipe) (1.3.2)\n",
      "Requirement already satisfied: packaging>=20.0 in c:\\users\\sangh\\anaconda3\\lib\\site-packages (from matplotlib->mediapipe) (21.3)\n",
      "Requirement already satisfied: python-dateutil>=2.7 in c:\\users\\sangh\\anaconda3\\lib\\site-packages (from matplotlib->mediapipe) (2.8.2)\n",
      "Requirement already satisfied: six>=1.5 in c:\\users\\sangh\\anaconda3\\lib\\site-packages (from python-dateutil>=2.7->matplotlib->mediapipe) (1.16.0)\n",
      "Note: you may need to restart the kernel to use updated packages.\n"
     ]
    }
   ],
   "source": [
    "pip install mediapipe opencv-python msvc-runtime"
   ]
  },
  {
   "cell_type": "code",
   "execution_count": 1,
   "metadata": {},
   "outputs": [],
   "source": [
    "import mediapipe as mp\n",
    "import cv2"
   ]
  },
  {
   "cell_type": "code",
   "execution_count": 2,
   "metadata": {},
   "outputs": [],
   "source": [
    "mp_drawing = mp.solutions.drawing_utils\n",
    "mp_holistic = mp.solutions.holistic"
   ]
  },
  {
   "cell_type": "markdown",
   "metadata": {},
   "source": [
    "# Feed from Camera and detection"
   ]
  },
  {
   "cell_type": "code",
   "execution_count": 3,
   "metadata": {},
   "outputs": [],
   "source": [
    "cap = cv2.VideoCapture(0)\n",
    "# Initiate holistic model\n",
    "with mp_holistic.Holistic(min_detection_confidence=0.5, min_tracking_confidence=0.5) as holistic:\n",
    "    \n",
    "    while cap.isOpened():\n",
    "        ret, frame = cap.read()\n",
    "        \n",
    "        # Recolor Feed\n",
    "        image = cv2.cvtColor(frame, cv2.COLOR_BGR2RGB)\n",
    "        image.flags.writeable = False\n",
    "        \n",
    "        # Make Detections\n",
    "        results = holistic.process(image)\n",
    "        # print(results.face_landmarks)\n",
    "        \n",
    "        # face_landmarks, pose_landmarks, left_hand_landmarks, right_hand_landmarks\n",
    "        \n",
    "        # Recolor image back to BGR for rendering\n",
    "        image.flags.writeable = True\n",
    "        image = cv2.cvtColor(image, cv2.COLOR_RGB2BGR)\n",
    "        \n",
    "        # 1. Draw face landmarks\n",
    "        mp_drawing.draw_landmarks(image, results.face_landmarks, mp_holistic.FACEMESH_CONTOURS, \n",
    "                                 mp_drawing.DrawingSpec(color=(80,110,10), thickness=1, circle_radius=1),\n",
    "                                 mp_drawing.DrawingSpec(color=(80,256,121), thickness=1, circle_radius=1)\n",
    "                                 )\n",
    "        \n",
    "        # 2. Right hand\n",
    "        mp_drawing.draw_landmarks(image, results.right_hand_landmarks, mp_holistic.HAND_CONNECTIONS, \n",
    "                                 mp_drawing.DrawingSpec(color=(80,22,10), thickness=2, circle_radius=4),\n",
    "                                 mp_drawing.DrawingSpec(color=(80,44,121), thickness=2, circle_radius=2)\n",
    "                                 )\n",
    "\n",
    "        # 3. Left Hand\n",
    "        mp_drawing.draw_landmarks(image, results.left_hand_landmarks, mp_holistic.HAND_CONNECTIONS, \n",
    "                                 mp_drawing.DrawingSpec(color=(121,22,76), thickness=2, circle_radius=4),\n",
    "                                 mp_drawing.DrawingSpec(color=(121,44,250), thickness=2, circle_radius=2)\n",
    "                                 )\n",
    "\n",
    "        # 4. Pose Detections\n",
    "        mp_drawing.draw_landmarks(image, results.pose_landmarks, mp_holistic.POSE_CONNECTIONS, \n",
    "                                 mp_drawing.DrawingSpec(color=(245,117,66), thickness=2, circle_radius=4),\n",
    "                                 mp_drawing.DrawingSpec(color=(245,66,230), thickness=2, circle_radius=2)\n",
    "                                 )\n",
    "                        \n",
    "        cv2.imshow('Raw Webcam Feed', image)\n",
    "\n",
    "        if cv2.waitKey(10) & 0xFF == ord('q'):\n",
    "            break\n",
    "\n",
    "cap.release()\n",
    "cv2.destroyAllWindows()"
   ]
  },
  {
   "cell_type": "markdown",
   "metadata": {},
   "source": [
    "# Capture Landmark and export to CSV"
   ]
  },
  {
   "cell_type": "code",
   "execution_count": 3,
   "metadata": {},
   "outputs": [],
   "source": [
    "import csv\n",
    "import os\n",
    "import numpy as np"
   ]
  },
  {
   "cell_type": "code",
   "execution_count": 40,
   "metadata": {},
   "outputs": [
    {
     "data": {
      "text/plain": [
       "501"
      ]
     },
     "execution_count": 40,
     "metadata": {},
     "output_type": "execute_result"
    }
   ],
   "source": [
    "num_coords = len(results.pose_landmarks.landmark)+len(results.face_landmarks.landmark)\n",
    "num_coords"
   ]
  },
  {
   "cell_type": "code",
   "execution_count": 41,
   "metadata": {},
   "outputs": [],
   "source": [
    "landmarks = ['class']\n",
    "for val in range(1, num_coords+1):\n",
    "    landmarks += ['x{}'.format(val), 'y{}'.format(val), 'z{}'.format(val), 'v{}'.format(val)]"
   ]
  },
  {
   "cell_type": "code",
   "execution_count": 42,
   "metadata": {},
   "outputs": [
    {
     "data": {
      "text/plain": [
       "['class',\n",
       " 'x1',\n",
       " 'y1',\n",
       " 'z1',\n",
       " 'v1',\n",
       " 'x2',\n",
       " 'y2',\n",
       " 'z2',\n",
       " 'v2',\n",
       " 'x3',\n",
       " 'y3',\n",
       " 'z3',\n",
       " 'v3',\n",
       " 'x4',\n",
       " 'y4',\n",
       " 'z4',\n",
       " 'v4',\n",
       " 'x5',\n",
       " 'y5',\n",
       " 'z5',\n",
       " 'v5',\n",
       " 'x6',\n",
       " 'y6',\n",
       " 'z6',\n",
       " 'v6',\n",
       " 'x7',\n",
       " 'y7',\n",
       " 'z7',\n",
       " 'v7',\n",
       " 'x8',\n",
       " 'y8',\n",
       " 'z8',\n",
       " 'v8',\n",
       " 'x9',\n",
       " 'y9',\n",
       " 'z9',\n",
       " 'v9',\n",
       " 'x10',\n",
       " 'y10',\n",
       " 'z10',\n",
       " 'v10',\n",
       " 'x11',\n",
       " 'y11',\n",
       " 'z11',\n",
       " 'v11',\n",
       " 'x12',\n",
       " 'y12',\n",
       " 'z12',\n",
       " 'v12',\n",
       " 'x13',\n",
       " 'y13',\n",
       " 'z13',\n",
       " 'v13',\n",
       " 'x14',\n",
       " 'y14',\n",
       " 'z14',\n",
       " 'v14',\n",
       " 'x15',\n",
       " 'y15',\n",
       " 'z15',\n",
       " 'v15',\n",
       " 'x16',\n",
       " 'y16',\n",
       " 'z16',\n",
       " 'v16',\n",
       " 'x17',\n",
       " 'y17',\n",
       " 'z17',\n",
       " 'v17',\n",
       " 'x18',\n",
       " 'y18',\n",
       " 'z18',\n",
       " 'v18',\n",
       " 'x19',\n",
       " 'y19',\n",
       " 'z19',\n",
       " 'v19',\n",
       " 'x20',\n",
       " 'y20',\n",
       " 'z20',\n",
       " 'v20',\n",
       " 'x21',\n",
       " 'y21',\n",
       " 'z21',\n",
       " 'v21',\n",
       " 'x22',\n",
       " 'y22',\n",
       " 'z22',\n",
       " 'v22',\n",
       " 'x23',\n",
       " 'y23',\n",
       " 'z23',\n",
       " 'v23',\n",
       " 'x24',\n",
       " 'y24',\n",
       " 'z24',\n",
       " 'v24',\n",
       " 'x25',\n",
       " 'y25',\n",
       " 'z25',\n",
       " 'v25',\n",
       " 'x26',\n",
       " 'y26',\n",
       " 'z26',\n",
       " 'v26',\n",
       " 'x27',\n",
       " 'y27',\n",
       " 'z27',\n",
       " 'v27',\n",
       " 'x28',\n",
       " 'y28',\n",
       " 'z28',\n",
       " 'v28',\n",
       " 'x29',\n",
       " 'y29',\n",
       " 'z29',\n",
       " 'v29',\n",
       " 'x30',\n",
       " 'y30',\n",
       " 'z30',\n",
       " 'v30',\n",
       " 'x31',\n",
       " 'y31',\n",
       " 'z31',\n",
       " 'v31',\n",
       " 'x32',\n",
       " 'y32',\n",
       " 'z32',\n",
       " 'v32',\n",
       " 'x33',\n",
       " 'y33',\n",
       " 'z33',\n",
       " 'v33',\n",
       " 'x34',\n",
       " 'y34',\n",
       " 'z34',\n",
       " 'v34',\n",
       " 'x35',\n",
       " 'y35',\n",
       " 'z35',\n",
       " 'v35',\n",
       " 'x36',\n",
       " 'y36',\n",
       " 'z36',\n",
       " 'v36',\n",
       " 'x37',\n",
       " 'y37',\n",
       " 'z37',\n",
       " 'v37',\n",
       " 'x38',\n",
       " 'y38',\n",
       " 'z38',\n",
       " 'v38',\n",
       " 'x39',\n",
       " 'y39',\n",
       " 'z39',\n",
       " 'v39',\n",
       " 'x40',\n",
       " 'y40',\n",
       " 'z40',\n",
       " 'v40',\n",
       " 'x41',\n",
       " 'y41',\n",
       " 'z41',\n",
       " 'v41',\n",
       " 'x42',\n",
       " 'y42',\n",
       " 'z42',\n",
       " 'v42',\n",
       " 'x43',\n",
       " 'y43',\n",
       " 'z43',\n",
       " 'v43',\n",
       " 'x44',\n",
       " 'y44',\n",
       " 'z44',\n",
       " 'v44',\n",
       " 'x45',\n",
       " 'y45',\n",
       " 'z45',\n",
       " 'v45',\n",
       " 'x46',\n",
       " 'y46',\n",
       " 'z46',\n",
       " 'v46',\n",
       " 'x47',\n",
       " 'y47',\n",
       " 'z47',\n",
       " 'v47',\n",
       " 'x48',\n",
       " 'y48',\n",
       " 'z48',\n",
       " 'v48',\n",
       " 'x49',\n",
       " 'y49',\n",
       " 'z49',\n",
       " 'v49',\n",
       " 'x50',\n",
       " 'y50',\n",
       " 'z50',\n",
       " 'v50',\n",
       " 'x51',\n",
       " 'y51',\n",
       " 'z51',\n",
       " 'v51',\n",
       " 'x52',\n",
       " 'y52',\n",
       " 'z52',\n",
       " 'v52',\n",
       " 'x53',\n",
       " 'y53',\n",
       " 'z53',\n",
       " 'v53',\n",
       " 'x54',\n",
       " 'y54',\n",
       " 'z54',\n",
       " 'v54',\n",
       " 'x55',\n",
       " 'y55',\n",
       " 'z55',\n",
       " 'v55',\n",
       " 'x56',\n",
       " 'y56',\n",
       " 'z56',\n",
       " 'v56',\n",
       " 'x57',\n",
       " 'y57',\n",
       " 'z57',\n",
       " 'v57',\n",
       " 'x58',\n",
       " 'y58',\n",
       " 'z58',\n",
       " 'v58',\n",
       " 'x59',\n",
       " 'y59',\n",
       " 'z59',\n",
       " 'v59',\n",
       " 'x60',\n",
       " 'y60',\n",
       " 'z60',\n",
       " 'v60',\n",
       " 'x61',\n",
       " 'y61',\n",
       " 'z61',\n",
       " 'v61',\n",
       " 'x62',\n",
       " 'y62',\n",
       " 'z62',\n",
       " 'v62',\n",
       " 'x63',\n",
       " 'y63',\n",
       " 'z63',\n",
       " 'v63',\n",
       " 'x64',\n",
       " 'y64',\n",
       " 'z64',\n",
       " 'v64',\n",
       " 'x65',\n",
       " 'y65',\n",
       " 'z65',\n",
       " 'v65',\n",
       " 'x66',\n",
       " 'y66',\n",
       " 'z66',\n",
       " 'v66',\n",
       " 'x67',\n",
       " 'y67',\n",
       " 'z67',\n",
       " 'v67',\n",
       " 'x68',\n",
       " 'y68',\n",
       " 'z68',\n",
       " 'v68',\n",
       " 'x69',\n",
       " 'y69',\n",
       " 'z69',\n",
       " 'v69',\n",
       " 'x70',\n",
       " 'y70',\n",
       " 'z70',\n",
       " 'v70',\n",
       " 'x71',\n",
       " 'y71',\n",
       " 'z71',\n",
       " 'v71',\n",
       " 'x72',\n",
       " 'y72',\n",
       " 'z72',\n",
       " 'v72',\n",
       " 'x73',\n",
       " 'y73',\n",
       " 'z73',\n",
       " 'v73',\n",
       " 'x74',\n",
       " 'y74',\n",
       " 'z74',\n",
       " 'v74',\n",
       " 'x75',\n",
       " 'y75',\n",
       " 'z75',\n",
       " 'v75',\n",
       " 'x76',\n",
       " 'y76',\n",
       " 'z76',\n",
       " 'v76',\n",
       " 'x77',\n",
       " 'y77',\n",
       " 'z77',\n",
       " 'v77',\n",
       " 'x78',\n",
       " 'y78',\n",
       " 'z78',\n",
       " 'v78',\n",
       " 'x79',\n",
       " 'y79',\n",
       " 'z79',\n",
       " 'v79',\n",
       " 'x80',\n",
       " 'y80',\n",
       " 'z80',\n",
       " 'v80',\n",
       " 'x81',\n",
       " 'y81',\n",
       " 'z81',\n",
       " 'v81',\n",
       " 'x82',\n",
       " 'y82',\n",
       " 'z82',\n",
       " 'v82',\n",
       " 'x83',\n",
       " 'y83',\n",
       " 'z83',\n",
       " 'v83',\n",
       " 'x84',\n",
       " 'y84',\n",
       " 'z84',\n",
       " 'v84',\n",
       " 'x85',\n",
       " 'y85',\n",
       " 'z85',\n",
       " 'v85',\n",
       " 'x86',\n",
       " 'y86',\n",
       " 'z86',\n",
       " 'v86',\n",
       " 'x87',\n",
       " 'y87',\n",
       " 'z87',\n",
       " 'v87',\n",
       " 'x88',\n",
       " 'y88',\n",
       " 'z88',\n",
       " 'v88',\n",
       " 'x89',\n",
       " 'y89',\n",
       " 'z89',\n",
       " 'v89',\n",
       " 'x90',\n",
       " 'y90',\n",
       " 'z90',\n",
       " 'v90',\n",
       " 'x91',\n",
       " 'y91',\n",
       " 'z91',\n",
       " 'v91',\n",
       " 'x92',\n",
       " 'y92',\n",
       " 'z92',\n",
       " 'v92',\n",
       " 'x93',\n",
       " 'y93',\n",
       " 'z93',\n",
       " 'v93',\n",
       " 'x94',\n",
       " 'y94',\n",
       " 'z94',\n",
       " 'v94',\n",
       " 'x95',\n",
       " 'y95',\n",
       " 'z95',\n",
       " 'v95',\n",
       " 'x96',\n",
       " 'y96',\n",
       " 'z96',\n",
       " 'v96',\n",
       " 'x97',\n",
       " 'y97',\n",
       " 'z97',\n",
       " 'v97',\n",
       " 'x98',\n",
       " 'y98',\n",
       " 'z98',\n",
       " 'v98',\n",
       " 'x99',\n",
       " 'y99',\n",
       " 'z99',\n",
       " 'v99',\n",
       " 'x100',\n",
       " 'y100',\n",
       " 'z100',\n",
       " 'v100',\n",
       " 'x101',\n",
       " 'y101',\n",
       " 'z101',\n",
       " 'v101',\n",
       " 'x102',\n",
       " 'y102',\n",
       " 'z102',\n",
       " 'v102',\n",
       " 'x103',\n",
       " 'y103',\n",
       " 'z103',\n",
       " 'v103',\n",
       " 'x104',\n",
       " 'y104',\n",
       " 'z104',\n",
       " 'v104',\n",
       " 'x105',\n",
       " 'y105',\n",
       " 'z105',\n",
       " 'v105',\n",
       " 'x106',\n",
       " 'y106',\n",
       " 'z106',\n",
       " 'v106',\n",
       " 'x107',\n",
       " 'y107',\n",
       " 'z107',\n",
       " 'v107',\n",
       " 'x108',\n",
       " 'y108',\n",
       " 'z108',\n",
       " 'v108',\n",
       " 'x109',\n",
       " 'y109',\n",
       " 'z109',\n",
       " 'v109',\n",
       " 'x110',\n",
       " 'y110',\n",
       " 'z110',\n",
       " 'v110',\n",
       " 'x111',\n",
       " 'y111',\n",
       " 'z111',\n",
       " 'v111',\n",
       " 'x112',\n",
       " 'y112',\n",
       " 'z112',\n",
       " 'v112',\n",
       " 'x113',\n",
       " 'y113',\n",
       " 'z113',\n",
       " 'v113',\n",
       " 'x114',\n",
       " 'y114',\n",
       " 'z114',\n",
       " 'v114',\n",
       " 'x115',\n",
       " 'y115',\n",
       " 'z115',\n",
       " 'v115',\n",
       " 'x116',\n",
       " 'y116',\n",
       " 'z116',\n",
       " 'v116',\n",
       " 'x117',\n",
       " 'y117',\n",
       " 'z117',\n",
       " 'v117',\n",
       " 'x118',\n",
       " 'y118',\n",
       " 'z118',\n",
       " 'v118',\n",
       " 'x119',\n",
       " 'y119',\n",
       " 'z119',\n",
       " 'v119',\n",
       " 'x120',\n",
       " 'y120',\n",
       " 'z120',\n",
       " 'v120',\n",
       " 'x121',\n",
       " 'y121',\n",
       " 'z121',\n",
       " 'v121',\n",
       " 'x122',\n",
       " 'y122',\n",
       " 'z122',\n",
       " 'v122',\n",
       " 'x123',\n",
       " 'y123',\n",
       " 'z123',\n",
       " 'v123',\n",
       " 'x124',\n",
       " 'y124',\n",
       " 'z124',\n",
       " 'v124',\n",
       " 'x125',\n",
       " 'y125',\n",
       " 'z125',\n",
       " 'v125',\n",
       " 'x126',\n",
       " 'y126',\n",
       " 'z126',\n",
       " 'v126',\n",
       " 'x127',\n",
       " 'y127',\n",
       " 'z127',\n",
       " 'v127',\n",
       " 'x128',\n",
       " 'y128',\n",
       " 'z128',\n",
       " 'v128',\n",
       " 'x129',\n",
       " 'y129',\n",
       " 'z129',\n",
       " 'v129',\n",
       " 'x130',\n",
       " 'y130',\n",
       " 'z130',\n",
       " 'v130',\n",
       " 'x131',\n",
       " 'y131',\n",
       " 'z131',\n",
       " 'v131',\n",
       " 'x132',\n",
       " 'y132',\n",
       " 'z132',\n",
       " 'v132',\n",
       " 'x133',\n",
       " 'y133',\n",
       " 'z133',\n",
       " 'v133',\n",
       " 'x134',\n",
       " 'y134',\n",
       " 'z134',\n",
       " 'v134',\n",
       " 'x135',\n",
       " 'y135',\n",
       " 'z135',\n",
       " 'v135',\n",
       " 'x136',\n",
       " 'y136',\n",
       " 'z136',\n",
       " 'v136',\n",
       " 'x137',\n",
       " 'y137',\n",
       " 'z137',\n",
       " 'v137',\n",
       " 'x138',\n",
       " 'y138',\n",
       " 'z138',\n",
       " 'v138',\n",
       " 'x139',\n",
       " 'y139',\n",
       " 'z139',\n",
       " 'v139',\n",
       " 'x140',\n",
       " 'y140',\n",
       " 'z140',\n",
       " 'v140',\n",
       " 'x141',\n",
       " 'y141',\n",
       " 'z141',\n",
       " 'v141',\n",
       " 'x142',\n",
       " 'y142',\n",
       " 'z142',\n",
       " 'v142',\n",
       " 'x143',\n",
       " 'y143',\n",
       " 'z143',\n",
       " 'v143',\n",
       " 'x144',\n",
       " 'y144',\n",
       " 'z144',\n",
       " 'v144',\n",
       " 'x145',\n",
       " 'y145',\n",
       " 'z145',\n",
       " 'v145',\n",
       " 'x146',\n",
       " 'y146',\n",
       " 'z146',\n",
       " 'v146',\n",
       " 'x147',\n",
       " 'y147',\n",
       " 'z147',\n",
       " 'v147',\n",
       " 'x148',\n",
       " 'y148',\n",
       " 'z148',\n",
       " 'v148',\n",
       " 'x149',\n",
       " 'y149',\n",
       " 'z149',\n",
       " 'v149',\n",
       " 'x150',\n",
       " 'y150',\n",
       " 'z150',\n",
       " 'v150',\n",
       " 'x151',\n",
       " 'y151',\n",
       " 'z151',\n",
       " 'v151',\n",
       " 'x152',\n",
       " 'y152',\n",
       " 'z152',\n",
       " 'v152',\n",
       " 'x153',\n",
       " 'y153',\n",
       " 'z153',\n",
       " 'v153',\n",
       " 'x154',\n",
       " 'y154',\n",
       " 'z154',\n",
       " 'v154',\n",
       " 'x155',\n",
       " 'y155',\n",
       " 'z155',\n",
       " 'v155',\n",
       " 'x156',\n",
       " 'y156',\n",
       " 'z156',\n",
       " 'v156',\n",
       " 'x157',\n",
       " 'y157',\n",
       " 'z157',\n",
       " 'v157',\n",
       " 'x158',\n",
       " 'y158',\n",
       " 'z158',\n",
       " 'v158',\n",
       " 'x159',\n",
       " 'y159',\n",
       " 'z159',\n",
       " 'v159',\n",
       " 'x160',\n",
       " 'y160',\n",
       " 'z160',\n",
       " 'v160',\n",
       " 'x161',\n",
       " 'y161',\n",
       " 'z161',\n",
       " 'v161',\n",
       " 'x162',\n",
       " 'y162',\n",
       " 'z162',\n",
       " 'v162',\n",
       " 'x163',\n",
       " 'y163',\n",
       " 'z163',\n",
       " 'v163',\n",
       " 'x164',\n",
       " 'y164',\n",
       " 'z164',\n",
       " 'v164',\n",
       " 'x165',\n",
       " 'y165',\n",
       " 'z165',\n",
       " 'v165',\n",
       " 'x166',\n",
       " 'y166',\n",
       " 'z166',\n",
       " 'v166',\n",
       " 'x167',\n",
       " 'y167',\n",
       " 'z167',\n",
       " 'v167',\n",
       " 'x168',\n",
       " 'y168',\n",
       " 'z168',\n",
       " 'v168',\n",
       " 'x169',\n",
       " 'y169',\n",
       " 'z169',\n",
       " 'v169',\n",
       " 'x170',\n",
       " 'y170',\n",
       " 'z170',\n",
       " 'v170',\n",
       " 'x171',\n",
       " 'y171',\n",
       " 'z171',\n",
       " 'v171',\n",
       " 'x172',\n",
       " 'y172',\n",
       " 'z172',\n",
       " 'v172',\n",
       " 'x173',\n",
       " 'y173',\n",
       " 'z173',\n",
       " 'v173',\n",
       " 'x174',\n",
       " 'y174',\n",
       " 'z174',\n",
       " 'v174',\n",
       " 'x175',\n",
       " 'y175',\n",
       " 'z175',\n",
       " 'v175',\n",
       " 'x176',\n",
       " 'y176',\n",
       " 'z176',\n",
       " 'v176',\n",
       " 'x177',\n",
       " 'y177',\n",
       " 'z177',\n",
       " 'v177',\n",
       " 'x178',\n",
       " 'y178',\n",
       " 'z178',\n",
       " 'v178',\n",
       " 'x179',\n",
       " 'y179',\n",
       " 'z179',\n",
       " 'v179',\n",
       " 'x180',\n",
       " 'y180',\n",
       " 'z180',\n",
       " 'v180',\n",
       " 'x181',\n",
       " 'y181',\n",
       " 'z181',\n",
       " 'v181',\n",
       " 'x182',\n",
       " 'y182',\n",
       " 'z182',\n",
       " 'v182',\n",
       " 'x183',\n",
       " 'y183',\n",
       " 'z183',\n",
       " 'v183',\n",
       " 'x184',\n",
       " 'y184',\n",
       " 'z184',\n",
       " 'v184',\n",
       " 'x185',\n",
       " 'y185',\n",
       " 'z185',\n",
       " 'v185',\n",
       " 'x186',\n",
       " 'y186',\n",
       " 'z186',\n",
       " 'v186',\n",
       " 'x187',\n",
       " 'y187',\n",
       " 'z187',\n",
       " 'v187',\n",
       " 'x188',\n",
       " 'y188',\n",
       " 'z188',\n",
       " 'v188',\n",
       " 'x189',\n",
       " 'y189',\n",
       " 'z189',\n",
       " 'v189',\n",
       " 'x190',\n",
       " 'y190',\n",
       " 'z190',\n",
       " 'v190',\n",
       " 'x191',\n",
       " 'y191',\n",
       " 'z191',\n",
       " 'v191',\n",
       " 'x192',\n",
       " 'y192',\n",
       " 'z192',\n",
       " 'v192',\n",
       " 'x193',\n",
       " 'y193',\n",
       " 'z193',\n",
       " 'v193',\n",
       " 'x194',\n",
       " 'y194',\n",
       " 'z194',\n",
       " 'v194',\n",
       " 'x195',\n",
       " 'y195',\n",
       " 'z195',\n",
       " 'v195',\n",
       " 'x196',\n",
       " 'y196',\n",
       " 'z196',\n",
       " 'v196',\n",
       " 'x197',\n",
       " 'y197',\n",
       " 'z197',\n",
       " 'v197',\n",
       " 'x198',\n",
       " 'y198',\n",
       " 'z198',\n",
       " 'v198',\n",
       " 'x199',\n",
       " 'y199',\n",
       " 'z199',\n",
       " 'v199',\n",
       " 'x200',\n",
       " 'y200',\n",
       " 'z200',\n",
       " 'v200',\n",
       " 'x201',\n",
       " 'y201',\n",
       " 'z201',\n",
       " 'v201',\n",
       " 'x202',\n",
       " 'y202',\n",
       " 'z202',\n",
       " 'v202',\n",
       " 'x203',\n",
       " 'y203',\n",
       " 'z203',\n",
       " 'v203',\n",
       " 'x204',\n",
       " 'y204',\n",
       " 'z204',\n",
       " 'v204',\n",
       " 'x205',\n",
       " 'y205',\n",
       " 'z205',\n",
       " 'v205',\n",
       " 'x206',\n",
       " 'y206',\n",
       " 'z206',\n",
       " 'v206',\n",
       " 'x207',\n",
       " 'y207',\n",
       " 'z207',\n",
       " 'v207',\n",
       " 'x208',\n",
       " 'y208',\n",
       " 'z208',\n",
       " 'v208',\n",
       " 'x209',\n",
       " 'y209',\n",
       " 'z209',\n",
       " 'v209',\n",
       " 'x210',\n",
       " 'y210',\n",
       " 'z210',\n",
       " 'v210',\n",
       " 'x211',\n",
       " 'y211',\n",
       " 'z211',\n",
       " 'v211',\n",
       " 'x212',\n",
       " 'y212',\n",
       " 'z212',\n",
       " 'v212',\n",
       " 'x213',\n",
       " 'y213',\n",
       " 'z213',\n",
       " 'v213',\n",
       " 'x214',\n",
       " 'y214',\n",
       " 'z214',\n",
       " 'v214',\n",
       " 'x215',\n",
       " 'y215',\n",
       " 'z215',\n",
       " 'v215',\n",
       " 'x216',\n",
       " 'y216',\n",
       " 'z216',\n",
       " 'v216',\n",
       " 'x217',\n",
       " 'y217',\n",
       " 'z217',\n",
       " 'v217',\n",
       " 'x218',\n",
       " 'y218',\n",
       " 'z218',\n",
       " 'v218',\n",
       " 'x219',\n",
       " 'y219',\n",
       " 'z219',\n",
       " 'v219',\n",
       " 'x220',\n",
       " 'y220',\n",
       " 'z220',\n",
       " 'v220',\n",
       " 'x221',\n",
       " 'y221',\n",
       " 'z221',\n",
       " 'v221',\n",
       " 'x222',\n",
       " 'y222',\n",
       " 'z222',\n",
       " 'v222',\n",
       " 'x223',\n",
       " 'y223',\n",
       " 'z223',\n",
       " 'v223',\n",
       " 'x224',\n",
       " 'y224',\n",
       " 'z224',\n",
       " 'v224',\n",
       " 'x225',\n",
       " 'y225',\n",
       " 'z225',\n",
       " 'v225',\n",
       " 'x226',\n",
       " 'y226',\n",
       " 'z226',\n",
       " 'v226',\n",
       " 'x227',\n",
       " 'y227',\n",
       " 'z227',\n",
       " 'v227',\n",
       " 'x228',\n",
       " 'y228',\n",
       " 'z228',\n",
       " 'v228',\n",
       " 'x229',\n",
       " 'y229',\n",
       " 'z229',\n",
       " 'v229',\n",
       " 'x230',\n",
       " 'y230',\n",
       " 'z230',\n",
       " 'v230',\n",
       " 'x231',\n",
       " 'y231',\n",
       " 'z231',\n",
       " 'v231',\n",
       " 'x232',\n",
       " 'y232',\n",
       " 'z232',\n",
       " 'v232',\n",
       " 'x233',\n",
       " 'y233',\n",
       " 'z233',\n",
       " 'v233',\n",
       " 'x234',\n",
       " 'y234',\n",
       " 'z234',\n",
       " 'v234',\n",
       " 'x235',\n",
       " 'y235',\n",
       " 'z235',\n",
       " 'v235',\n",
       " 'x236',\n",
       " 'y236',\n",
       " 'z236',\n",
       " 'v236',\n",
       " 'x237',\n",
       " 'y237',\n",
       " 'z237',\n",
       " 'v237',\n",
       " 'x238',\n",
       " 'y238',\n",
       " 'z238',\n",
       " 'v238',\n",
       " 'x239',\n",
       " 'y239',\n",
       " 'z239',\n",
       " 'v239',\n",
       " 'x240',\n",
       " 'y240',\n",
       " 'z240',\n",
       " 'v240',\n",
       " 'x241',\n",
       " 'y241',\n",
       " 'z241',\n",
       " 'v241',\n",
       " 'x242',\n",
       " 'y242',\n",
       " 'z242',\n",
       " 'v242',\n",
       " 'x243',\n",
       " 'y243',\n",
       " 'z243',\n",
       " 'v243',\n",
       " 'x244',\n",
       " 'y244',\n",
       " 'z244',\n",
       " 'v244',\n",
       " 'x245',\n",
       " 'y245',\n",
       " 'z245',\n",
       " 'v245',\n",
       " 'x246',\n",
       " 'y246',\n",
       " 'z246',\n",
       " 'v246',\n",
       " 'x247',\n",
       " 'y247',\n",
       " 'z247',\n",
       " 'v247',\n",
       " 'x248',\n",
       " 'y248',\n",
       " 'z248',\n",
       " 'v248',\n",
       " 'x249',\n",
       " 'y249',\n",
       " 'z249',\n",
       " 'v249',\n",
       " 'x250',\n",
       " 'y250',\n",
       " 'z250',\n",
       " ...]"
      ]
     },
     "execution_count": 42,
     "metadata": {},
     "output_type": "execute_result"
    }
   ],
   "source": [
    "landmarks"
   ]
  },
  {
   "cell_type": "code",
   "execution_count": 43,
   "metadata": {},
   "outputs": [],
   "source": [
    "with open('coords.csv', mode='w', newline='') as f:\n",
    "    csv_writer = csv.writer(f, delimiter=',', quotechar='\"', quoting=csv.QUOTE_MINIMAL)\n",
    "    csv_writer.writerow(landmarks)"
   ]
  },
  {
   "cell_type": "code",
   "execution_count": 40,
   "metadata": {},
   "outputs": [],
   "source": [
    "class_name = \"Angry\""
   ]
  },
  {
   "cell_type": "code",
   "execution_count": 41,
   "metadata": {},
   "outputs": [],
   "source": [
    "cap = cv2.VideoCapture(0)\n",
    "# Initiate holistic model\n",
    "with mp_holistic.Holistic(min_detection_confidence=0.5, min_tracking_confidence=0.5) as holistic:\n",
    "    \n",
    "    while cap.isOpened():\n",
    "        ret, frame = cap.read()\n",
    "        \n",
    "        # Recolor Feed\n",
    "        image = cv2.cvtColor(frame, cv2.COLOR_BGR2RGB)\n",
    "        image.flags.writeable = False        \n",
    "        \n",
    "        # Make Detections\n",
    "        results = holistic.process(image)\n",
    "        # print(results.face_landmarks)\n",
    "        \n",
    "        # face_landmarks, pose_landmarks, left_hand_landmarks, right_hand_landmarks\n",
    "        \n",
    "        # Recolor image back to BGR for rendering\n",
    "        image.flags.writeable = True   \n",
    "        image = cv2.cvtColor(image, cv2.COLOR_RGB2BGR)\n",
    "        \n",
    "        # 1. Draw face landmarks\n",
    "        mp_drawing.draw_landmarks(image, results.face_landmarks, mp_holistic.FACEMESH_CONTOURS, \n",
    "                                 mp_drawing.DrawingSpec(color=(80,110,10), thickness=1, circle_radius=1),\n",
    "                                 mp_drawing.DrawingSpec(color=(80,256,121), thickness=1, circle_radius=1)\n",
    "                                 )\n",
    "        \n",
    "        # 2. Right hand\n",
    "        mp_drawing.draw_landmarks(image, results.right_hand_landmarks, mp_holistic.HAND_CONNECTIONS, \n",
    "                                 mp_drawing.DrawingSpec(color=(80,22,10), thickness=2, circle_radius=4),\n",
    "                                 mp_drawing.DrawingSpec(color=(80,44,121), thickness=2, circle_radius=2)\n",
    "                                 )\n",
    "\n",
    "        # 3. Left Hand\n",
    "        mp_drawing.draw_landmarks(image, results.left_hand_landmarks, mp_holistic.HAND_CONNECTIONS, \n",
    "                                 mp_drawing.DrawingSpec(color=(121,22,76), thickness=2, circle_radius=4),\n",
    "                                 mp_drawing.DrawingSpec(color=(121,44,250), thickness=2, circle_radius=2)\n",
    "                                 )\n",
    "        # 4. Pose Detections\n",
    "        mp_drawing.draw_landmarks(image, results.pose_landmarks, mp_holistic.POSE_CONNECTIONS, \n",
    "                                 mp_drawing.DrawingSpec(color=(245,117,66), thickness=2, circle_radius=4),\n",
    "                                 mp_drawing.DrawingSpec(color=(245,66,230), thickness=2, circle_radius=2)\n",
    "                                 )\n",
    "        # Export coordinates\n",
    "        try:\n",
    "            # Extract Pose landmarks\n",
    "            pose = results.pose_landmarks.landmark\n",
    "            pose_row = list(np.array([[landmark.x, landmark.y, landmark.z, landmark.visibility] for landmark in pose]).flatten())\n",
    "            \n",
    "            # Extract Face landmarks\n",
    "            face = results.face_landmarks.landmark\n",
    "            face_row = list(np.array([[landmark.x, landmark.y, landmark.z, landmark.visibility] for landmark in face]).flatten())\n",
    "            \n",
    "            # Concate rows\n",
    "            row = pose_row+face_row\n",
    "            \n",
    "            # Append class name \n",
    "            row.insert(0, class_name)\n",
    "            \n",
    "            # Export to CSV\n",
    "            with open('coords.csv', mode='a', newline='') as f:\n",
    "                csv_writer = csv.writer(f, delimiter=',', quotechar='\"', quoting=csv.QUOTE_MINIMAL)\n",
    "                csv_writer.writerow(row) \n",
    "            \n",
    "        except:\n",
    "            pass\n",
    "                        \n",
    "        cv2.imshow('Raw Webcam Feed', image)\n",
    "\n",
    "        if cv2.waitKey(10) & 0xFF == ord('q'):\n",
    "            break\n",
    "\n",
    "cap.release()\n",
    "cv2.destroyAllWindows()"
   ]
  },
  {
   "cell_type": "markdown",
   "metadata": {},
   "source": [
    "# Splitting into train and test"
   ]
  },
  {
   "cell_type": "code",
   "execution_count": 42,
   "metadata": {},
   "outputs": [],
   "source": [
    "import pandas as pd\n",
    "from sklearn.model_selection import train_test_split"
   ]
  },
  {
   "cell_type": "code",
   "execution_count": 43,
   "metadata": {},
   "outputs": [],
   "source": [
    "df = pd.read_csv('coords.csv')"
   ]
  },
  {
   "cell_type": "code",
   "execution_count": 44,
   "metadata": {},
   "outputs": [
    {
     "data": {
      "text/html": [
       "<div>\n",
       "<style scoped>\n",
       "    .dataframe tbody tr th:only-of-type {\n",
       "        vertical-align: middle;\n",
       "    }\n",
       "\n",
       "    .dataframe tbody tr th {\n",
       "        vertical-align: top;\n",
       "    }\n",
       "\n",
       "    .dataframe thead th {\n",
       "        text-align: right;\n",
       "    }\n",
       "</style>\n",
       "<table border=\"1\" class=\"dataframe\">\n",
       "  <thead>\n",
       "    <tr style=\"text-align: right;\">\n",
       "      <th></th>\n",
       "      <th>class</th>\n",
       "      <th>x1</th>\n",
       "      <th>y1</th>\n",
       "      <th>z1</th>\n",
       "      <th>v1</th>\n",
       "      <th>x2</th>\n",
       "      <th>y2</th>\n",
       "      <th>z2</th>\n",
       "      <th>v2</th>\n",
       "      <th>x3</th>\n",
       "      <th>...</th>\n",
       "      <th>z499</th>\n",
       "      <th>v499</th>\n",
       "      <th>x500</th>\n",
       "      <th>y500</th>\n",
       "      <th>z500</th>\n",
       "      <th>v500</th>\n",
       "      <th>x501</th>\n",
       "      <th>y501</th>\n",
       "      <th>z501</th>\n",
       "      <th>v501</th>\n",
       "    </tr>\n",
       "  </thead>\n",
       "  <tbody>\n",
       "    <tr>\n",
       "      <th>0</th>\n",
       "      <td>Happy</td>\n",
       "      <td>0.555191</td>\n",
       "      <td>0.424818</td>\n",
       "      <td>-0.924550</td>\n",
       "      <td>0.999843</td>\n",
       "      <td>0.585117</td>\n",
       "      <td>0.366638</td>\n",
       "      <td>-0.869280</td>\n",
       "      <td>0.999716</td>\n",
       "      <td>0.601657</td>\n",
       "      <td>...</td>\n",
       "      <td>0.002308</td>\n",
       "      <td>0.0</td>\n",
       "      <td>0.622270</td>\n",
       "      <td>0.370657</td>\n",
       "      <td>0.023865</td>\n",
       "      <td>0.0</td>\n",
       "      <td>0.628124</td>\n",
       "      <td>0.363688</td>\n",
       "      <td>0.025023</td>\n",
       "      <td>0.0</td>\n",
       "    </tr>\n",
       "    <tr>\n",
       "      <th>1</th>\n",
       "      <td>Happy</td>\n",
       "      <td>0.553396</td>\n",
       "      <td>0.424802</td>\n",
       "      <td>-0.868458</td>\n",
       "      <td>0.999837</td>\n",
       "      <td>0.583560</td>\n",
       "      <td>0.367680</td>\n",
       "      <td>-0.815320</td>\n",
       "      <td>0.999705</td>\n",
       "      <td>0.600429</td>\n",
       "      <td>...</td>\n",
       "      <td>0.001675</td>\n",
       "      <td>0.0</td>\n",
       "      <td>0.623723</td>\n",
       "      <td>0.369771</td>\n",
       "      <td>0.023615</td>\n",
       "      <td>0.0</td>\n",
       "      <td>0.629637</td>\n",
       "      <td>0.362319</td>\n",
       "      <td>0.024811</td>\n",
       "      <td>0.0</td>\n",
       "    </tr>\n",
       "    <tr>\n",
       "      <th>2</th>\n",
       "      <td>Happy</td>\n",
       "      <td>0.552587</td>\n",
       "      <td>0.424805</td>\n",
       "      <td>-0.879474</td>\n",
       "      <td>0.999839</td>\n",
       "      <td>0.583082</td>\n",
       "      <td>0.368508</td>\n",
       "      <td>-0.825656</td>\n",
       "      <td>0.999709</td>\n",
       "      <td>0.600060</td>\n",
       "      <td>...</td>\n",
       "      <td>0.002018</td>\n",
       "      <td>0.0</td>\n",
       "      <td>0.620609</td>\n",
       "      <td>0.373583</td>\n",
       "      <td>0.023040</td>\n",
       "      <td>0.0</td>\n",
       "      <td>0.626578</td>\n",
       "      <td>0.366040</td>\n",
       "      <td>0.024239</td>\n",
       "      <td>0.0</td>\n",
       "    </tr>\n",
       "    <tr>\n",
       "      <th>3</th>\n",
       "      <td>Happy</td>\n",
       "      <td>0.552159</td>\n",
       "      <td>0.424879</td>\n",
       "      <td>-0.837364</td>\n",
       "      <td>0.999840</td>\n",
       "      <td>0.582907</td>\n",
       "      <td>0.369385</td>\n",
       "      <td>-0.785926</td>\n",
       "      <td>0.999712</td>\n",
       "      <td>0.599944</td>\n",
       "      <td>...</td>\n",
       "      <td>0.001427</td>\n",
       "      <td>0.0</td>\n",
       "      <td>0.621939</td>\n",
       "      <td>0.372805</td>\n",
       "      <td>0.022674</td>\n",
       "      <td>0.0</td>\n",
       "      <td>0.627897</td>\n",
       "      <td>0.365139</td>\n",
       "      <td>0.023871</td>\n",
       "      <td>0.0</td>\n",
       "    </tr>\n",
       "    <tr>\n",
       "      <th>4</th>\n",
       "      <td>Happy</td>\n",
       "      <td>0.551131</td>\n",
       "      <td>0.425109</td>\n",
       "      <td>-0.822206</td>\n",
       "      <td>0.999846</td>\n",
       "      <td>0.582344</td>\n",
       "      <td>0.370414</td>\n",
       "      <td>-0.770732</td>\n",
       "      <td>0.999722</td>\n",
       "      <td>0.599474</td>\n",
       "      <td>...</td>\n",
       "      <td>0.001440</td>\n",
       "      <td>0.0</td>\n",
       "      <td>0.622479</td>\n",
       "      <td>0.374962</td>\n",
       "      <td>0.022440</td>\n",
       "      <td>0.0</td>\n",
       "      <td>0.628533</td>\n",
       "      <td>0.367552</td>\n",
       "      <td>0.023593</td>\n",
       "      <td>0.0</td>\n",
       "    </tr>\n",
       "  </tbody>\n",
       "</table>\n",
       "<p>5 rows × 2005 columns</p>\n",
       "</div>"
      ],
      "text/plain": [
       "   class        x1        y1        z1        v1        x2        y2  \\\n",
       "0  Happy  0.555191  0.424818 -0.924550  0.999843  0.585117  0.366638   \n",
       "1  Happy  0.553396  0.424802 -0.868458  0.999837  0.583560  0.367680   \n",
       "2  Happy  0.552587  0.424805 -0.879474  0.999839  0.583082  0.368508   \n",
       "3  Happy  0.552159  0.424879 -0.837364  0.999840  0.582907  0.369385   \n",
       "4  Happy  0.551131  0.425109 -0.822206  0.999846  0.582344  0.370414   \n",
       "\n",
       "         z2        v2        x3  ...      z499  v499      x500      y500  \\\n",
       "0 -0.869280  0.999716  0.601657  ...  0.002308   0.0  0.622270  0.370657   \n",
       "1 -0.815320  0.999705  0.600429  ...  0.001675   0.0  0.623723  0.369771   \n",
       "2 -0.825656  0.999709  0.600060  ...  0.002018   0.0  0.620609  0.373583   \n",
       "3 -0.785926  0.999712  0.599944  ...  0.001427   0.0  0.621939  0.372805   \n",
       "4 -0.770732  0.999722  0.599474  ...  0.001440   0.0  0.622479  0.374962   \n",
       "\n",
       "       z500  v500      x501      y501      z501  v501  \n",
       "0  0.023865   0.0  0.628124  0.363688  0.025023   0.0  \n",
       "1  0.023615   0.0  0.629637  0.362319  0.024811   0.0  \n",
       "2  0.023040   0.0  0.626578  0.366040  0.024239   0.0  \n",
       "3  0.022674   0.0  0.627897  0.365139  0.023871   0.0  \n",
       "4  0.022440   0.0  0.628533  0.367552  0.023593   0.0  \n",
       "\n",
       "[5 rows x 2005 columns]"
      ]
     },
     "execution_count": 44,
     "metadata": {},
     "output_type": "execute_result"
    }
   ],
   "source": [
    "df.head()"
   ]
  },
  {
   "cell_type": "code",
   "execution_count": 45,
   "metadata": {},
   "outputs": [
    {
     "data": {
      "text/html": [
       "<div>\n",
       "<style scoped>\n",
       "    .dataframe tbody tr th:only-of-type {\n",
       "        vertical-align: middle;\n",
       "    }\n",
       "\n",
       "    .dataframe tbody tr th {\n",
       "        vertical-align: top;\n",
       "    }\n",
       "\n",
       "    .dataframe thead th {\n",
       "        text-align: right;\n",
       "    }\n",
       "</style>\n",
       "<table border=\"1\" class=\"dataframe\">\n",
       "  <thead>\n",
       "    <tr style=\"text-align: right;\">\n",
       "      <th></th>\n",
       "      <th>class</th>\n",
       "      <th>x1</th>\n",
       "      <th>y1</th>\n",
       "      <th>z1</th>\n",
       "      <th>v1</th>\n",
       "      <th>x2</th>\n",
       "      <th>y2</th>\n",
       "      <th>z2</th>\n",
       "      <th>v2</th>\n",
       "      <th>x3</th>\n",
       "      <th>...</th>\n",
       "      <th>z499</th>\n",
       "      <th>v499</th>\n",
       "      <th>x500</th>\n",
       "      <th>y500</th>\n",
       "      <th>z500</th>\n",
       "      <th>v500</th>\n",
       "      <th>x501</th>\n",
       "      <th>y501</th>\n",
       "      <th>z501</th>\n",
       "      <th>v501</th>\n",
       "    </tr>\n",
       "  </thead>\n",
       "  <tbody>\n",
       "    <tr>\n",
       "      <th>0</th>\n",
       "      <td>Happy</td>\n",
       "      <td>0.555191</td>\n",
       "      <td>0.424818</td>\n",
       "      <td>-0.924550</td>\n",
       "      <td>0.999843</td>\n",
       "      <td>0.585117</td>\n",
       "      <td>0.366638</td>\n",
       "      <td>-0.869280</td>\n",
       "      <td>0.999716</td>\n",
       "      <td>0.601657</td>\n",
       "      <td>...</td>\n",
       "      <td>0.002308</td>\n",
       "      <td>0.0</td>\n",
       "      <td>0.622270</td>\n",
       "      <td>0.370657</td>\n",
       "      <td>0.023865</td>\n",
       "      <td>0.0</td>\n",
       "      <td>0.628124</td>\n",
       "      <td>0.363688</td>\n",
       "      <td>0.025023</td>\n",
       "      <td>0.0</td>\n",
       "    </tr>\n",
       "    <tr>\n",
       "      <th>1</th>\n",
       "      <td>Happy</td>\n",
       "      <td>0.553396</td>\n",
       "      <td>0.424802</td>\n",
       "      <td>-0.868458</td>\n",
       "      <td>0.999837</td>\n",
       "      <td>0.583560</td>\n",
       "      <td>0.367680</td>\n",
       "      <td>-0.815320</td>\n",
       "      <td>0.999705</td>\n",
       "      <td>0.600429</td>\n",
       "      <td>...</td>\n",
       "      <td>0.001675</td>\n",
       "      <td>0.0</td>\n",
       "      <td>0.623723</td>\n",
       "      <td>0.369771</td>\n",
       "      <td>0.023615</td>\n",
       "      <td>0.0</td>\n",
       "      <td>0.629637</td>\n",
       "      <td>0.362319</td>\n",
       "      <td>0.024811</td>\n",
       "      <td>0.0</td>\n",
       "    </tr>\n",
       "    <tr>\n",
       "      <th>2</th>\n",
       "      <td>Happy</td>\n",
       "      <td>0.552587</td>\n",
       "      <td>0.424805</td>\n",
       "      <td>-0.879474</td>\n",
       "      <td>0.999839</td>\n",
       "      <td>0.583082</td>\n",
       "      <td>0.368508</td>\n",
       "      <td>-0.825656</td>\n",
       "      <td>0.999709</td>\n",
       "      <td>0.600060</td>\n",
       "      <td>...</td>\n",
       "      <td>0.002018</td>\n",
       "      <td>0.0</td>\n",
       "      <td>0.620609</td>\n",
       "      <td>0.373583</td>\n",
       "      <td>0.023040</td>\n",
       "      <td>0.0</td>\n",
       "      <td>0.626578</td>\n",
       "      <td>0.366040</td>\n",
       "      <td>0.024239</td>\n",
       "      <td>0.0</td>\n",
       "    </tr>\n",
       "    <tr>\n",
       "      <th>3</th>\n",
       "      <td>Happy</td>\n",
       "      <td>0.552159</td>\n",
       "      <td>0.424879</td>\n",
       "      <td>-0.837364</td>\n",
       "      <td>0.999840</td>\n",
       "      <td>0.582907</td>\n",
       "      <td>0.369385</td>\n",
       "      <td>-0.785926</td>\n",
       "      <td>0.999712</td>\n",
       "      <td>0.599944</td>\n",
       "      <td>...</td>\n",
       "      <td>0.001427</td>\n",
       "      <td>0.0</td>\n",
       "      <td>0.621939</td>\n",
       "      <td>0.372805</td>\n",
       "      <td>0.022674</td>\n",
       "      <td>0.0</td>\n",
       "      <td>0.627897</td>\n",
       "      <td>0.365139</td>\n",
       "      <td>0.023871</td>\n",
       "      <td>0.0</td>\n",
       "    </tr>\n",
       "    <tr>\n",
       "      <th>4</th>\n",
       "      <td>Happy</td>\n",
       "      <td>0.551131</td>\n",
       "      <td>0.425109</td>\n",
       "      <td>-0.822206</td>\n",
       "      <td>0.999846</td>\n",
       "      <td>0.582344</td>\n",
       "      <td>0.370414</td>\n",
       "      <td>-0.770732</td>\n",
       "      <td>0.999722</td>\n",
       "      <td>0.599474</td>\n",
       "      <td>...</td>\n",
       "      <td>0.001440</td>\n",
       "      <td>0.0</td>\n",
       "      <td>0.622479</td>\n",
       "      <td>0.374962</td>\n",
       "      <td>0.022440</td>\n",
       "      <td>0.0</td>\n",
       "      <td>0.628533</td>\n",
       "      <td>0.367552</td>\n",
       "      <td>0.023593</td>\n",
       "      <td>0.0</td>\n",
       "    </tr>\n",
       "  </tbody>\n",
       "</table>\n",
       "<p>5 rows × 2005 columns</p>\n",
       "</div>"
      ],
      "text/plain": [
       "   class        x1        y1        z1        v1        x2        y2  \\\n",
       "0  Happy  0.555191  0.424818 -0.924550  0.999843  0.585117  0.366638   \n",
       "1  Happy  0.553396  0.424802 -0.868458  0.999837  0.583560  0.367680   \n",
       "2  Happy  0.552587  0.424805 -0.879474  0.999839  0.583082  0.368508   \n",
       "3  Happy  0.552159  0.424879 -0.837364  0.999840  0.582907  0.369385   \n",
       "4  Happy  0.551131  0.425109 -0.822206  0.999846  0.582344  0.370414   \n",
       "\n",
       "         z2        v2        x3  ...      z499  v499      x500      y500  \\\n",
       "0 -0.869280  0.999716  0.601657  ...  0.002308   0.0  0.622270  0.370657   \n",
       "1 -0.815320  0.999705  0.600429  ...  0.001675   0.0  0.623723  0.369771   \n",
       "2 -0.825656  0.999709  0.600060  ...  0.002018   0.0  0.620609  0.373583   \n",
       "3 -0.785926  0.999712  0.599944  ...  0.001427   0.0  0.621939  0.372805   \n",
       "4 -0.770732  0.999722  0.599474  ...  0.001440   0.0  0.622479  0.374962   \n",
       "\n",
       "       z500  v500      x501      y501      z501  v501  \n",
       "0  0.023865   0.0  0.628124  0.363688  0.025023   0.0  \n",
       "1  0.023615   0.0  0.629637  0.362319  0.024811   0.0  \n",
       "2  0.023040   0.0  0.626578  0.366040  0.024239   0.0  \n",
       "3  0.022674   0.0  0.627897  0.365139  0.023871   0.0  \n",
       "4  0.022440   0.0  0.628533  0.367552  0.023593   0.0  \n",
       "\n",
       "[5 rows x 2005 columns]"
      ]
     },
     "execution_count": 45,
     "metadata": {},
     "output_type": "execute_result"
    }
   ],
   "source": [
    "df.head()"
   ]
  },
  {
   "cell_type": "code",
   "execution_count": 46,
   "metadata": {},
   "outputs": [
    {
     "data": {
      "text/html": [
       "<div>\n",
       "<style scoped>\n",
       "    .dataframe tbody tr th:only-of-type {\n",
       "        vertical-align: middle;\n",
       "    }\n",
       "\n",
       "    .dataframe tbody tr th {\n",
       "        vertical-align: top;\n",
       "    }\n",
       "\n",
       "    .dataframe thead th {\n",
       "        text-align: right;\n",
       "    }\n",
       "</style>\n",
       "<table border=\"1\" class=\"dataframe\">\n",
       "  <thead>\n",
       "    <tr style=\"text-align: right;\">\n",
       "      <th></th>\n",
       "      <th>class</th>\n",
       "      <th>x1</th>\n",
       "      <th>y1</th>\n",
       "      <th>z1</th>\n",
       "      <th>v1</th>\n",
       "      <th>x2</th>\n",
       "      <th>y2</th>\n",
       "      <th>z2</th>\n",
       "      <th>v2</th>\n",
       "      <th>x3</th>\n",
       "      <th>...</th>\n",
       "      <th>z499</th>\n",
       "      <th>v499</th>\n",
       "      <th>x500</th>\n",
       "      <th>y500</th>\n",
       "      <th>z500</th>\n",
       "      <th>v500</th>\n",
       "      <th>x501</th>\n",
       "      <th>y501</th>\n",
       "      <th>z501</th>\n",
       "      <th>v501</th>\n",
       "    </tr>\n",
       "  </thead>\n",
       "  <tbody>\n",
       "    <tr>\n",
       "      <th>1368</th>\n",
       "      <td>Angry</td>\n",
       "      <td>0.579903</td>\n",
       "      <td>0.668774</td>\n",
       "      <td>-2.465075</td>\n",
       "      <td>0.998668</td>\n",
       "      <td>0.635810</td>\n",
       "      <td>0.552170</td>\n",
       "      <td>-2.503280</td>\n",
       "      <td>0.998179</td>\n",
       "      <td>0.672760</td>\n",
       "      <td>...</td>\n",
       "      <td>-0.021348</td>\n",
       "      <td>0.0</td>\n",
       "      <td>0.695645</td>\n",
       "      <td>0.523752</td>\n",
       "      <td>-0.013696</td>\n",
       "      <td>0.0</td>\n",
       "      <td>0.705855</td>\n",
       "      <td>0.511838</td>\n",
       "      <td>-0.015029</td>\n",
       "      <td>0.0</td>\n",
       "    </tr>\n",
       "    <tr>\n",
       "      <th>1369</th>\n",
       "      <td>Angry</td>\n",
       "      <td>0.581446</td>\n",
       "      <td>0.668836</td>\n",
       "      <td>-2.330885</td>\n",
       "      <td>0.998762</td>\n",
       "      <td>0.637546</td>\n",
       "      <td>0.552549</td>\n",
       "      <td>-2.359063</td>\n",
       "      <td>0.998293</td>\n",
       "      <td>0.674023</td>\n",
       "      <td>...</td>\n",
       "      <td>-0.021252</td>\n",
       "      <td>0.0</td>\n",
       "      <td>0.697835</td>\n",
       "      <td>0.527585</td>\n",
       "      <td>-0.012501</td>\n",
       "      <td>0.0</td>\n",
       "      <td>0.708189</td>\n",
       "      <td>0.516002</td>\n",
       "      <td>-0.013701</td>\n",
       "      <td>0.0</td>\n",
       "    </tr>\n",
       "    <tr>\n",
       "      <th>1370</th>\n",
       "      <td>Angry</td>\n",
       "      <td>0.581764</td>\n",
       "      <td>0.668419</td>\n",
       "      <td>-2.325972</td>\n",
       "      <td>0.998817</td>\n",
       "      <td>0.638770</td>\n",
       "      <td>0.552597</td>\n",
       "      <td>-2.358325</td>\n",
       "      <td>0.998341</td>\n",
       "      <td>0.674869</td>\n",
       "      <td>...</td>\n",
       "      <td>-0.020151</td>\n",
       "      <td>0.0</td>\n",
       "      <td>0.698332</td>\n",
       "      <td>0.526740</td>\n",
       "      <td>-0.011515</td>\n",
       "      <td>0.0</td>\n",
       "      <td>0.708654</td>\n",
       "      <td>0.515040</td>\n",
       "      <td>-0.012674</td>\n",
       "      <td>0.0</td>\n",
       "    </tr>\n",
       "    <tr>\n",
       "      <th>1371</th>\n",
       "      <td>Angry</td>\n",
       "      <td>0.582317</td>\n",
       "      <td>0.667054</td>\n",
       "      <td>-2.257722</td>\n",
       "      <td>0.998838</td>\n",
       "      <td>0.639631</td>\n",
       "      <td>0.551794</td>\n",
       "      <td>-2.289318</td>\n",
       "      <td>0.998347</td>\n",
       "      <td>0.675629</td>\n",
       "      <td>...</td>\n",
       "      <td>-0.019814</td>\n",
       "      <td>0.0</td>\n",
       "      <td>0.699106</td>\n",
       "      <td>0.529537</td>\n",
       "      <td>-0.010206</td>\n",
       "      <td>0.0</td>\n",
       "      <td>0.709496</td>\n",
       "      <td>0.517552</td>\n",
       "      <td>-0.011236</td>\n",
       "      <td>0.0</td>\n",
       "    </tr>\n",
       "    <tr>\n",
       "      <th>1372</th>\n",
       "      <td>Angry</td>\n",
       "      <td>0.582808</td>\n",
       "      <td>0.667347</td>\n",
       "      <td>-2.379858</td>\n",
       "      <td>0.998824</td>\n",
       "      <td>0.640077</td>\n",
       "      <td>0.552259</td>\n",
       "      <td>-2.412934</td>\n",
       "      <td>0.998256</td>\n",
       "      <td>0.676110</td>\n",
       "      <td>...</td>\n",
       "      <td>-0.018958</td>\n",
       "      <td>0.0</td>\n",
       "      <td>0.699814</td>\n",
       "      <td>0.529584</td>\n",
       "      <td>-0.008977</td>\n",
       "      <td>0.0</td>\n",
       "      <td>0.710270</td>\n",
       "      <td>0.517341</td>\n",
       "      <td>-0.009875</td>\n",
       "      <td>0.0</td>\n",
       "    </tr>\n",
       "  </tbody>\n",
       "</table>\n",
       "<p>5 rows × 2005 columns</p>\n",
       "</div>"
      ],
      "text/plain": [
       "      class        x1        y1        z1        v1        x2        y2  \\\n",
       "1368  Angry  0.579903  0.668774 -2.465075  0.998668  0.635810  0.552170   \n",
       "1369  Angry  0.581446  0.668836 -2.330885  0.998762  0.637546  0.552549   \n",
       "1370  Angry  0.581764  0.668419 -2.325972  0.998817  0.638770  0.552597   \n",
       "1371  Angry  0.582317  0.667054 -2.257722  0.998838  0.639631  0.551794   \n",
       "1372  Angry  0.582808  0.667347 -2.379858  0.998824  0.640077  0.552259   \n",
       "\n",
       "            z2        v2        x3  ...      z499  v499      x500      y500  \\\n",
       "1368 -2.503280  0.998179  0.672760  ... -0.021348   0.0  0.695645  0.523752   \n",
       "1369 -2.359063  0.998293  0.674023  ... -0.021252   0.0  0.697835  0.527585   \n",
       "1370 -2.358325  0.998341  0.674869  ... -0.020151   0.0  0.698332  0.526740   \n",
       "1371 -2.289318  0.998347  0.675629  ... -0.019814   0.0  0.699106  0.529537   \n",
       "1372 -2.412934  0.998256  0.676110  ... -0.018958   0.0  0.699814  0.529584   \n",
       "\n",
       "          z500  v500      x501      y501      z501  v501  \n",
       "1368 -0.013696   0.0  0.705855  0.511838 -0.015029   0.0  \n",
       "1369 -0.012501   0.0  0.708189  0.516002 -0.013701   0.0  \n",
       "1370 -0.011515   0.0  0.708654  0.515040 -0.012674   0.0  \n",
       "1371 -0.010206   0.0  0.709496  0.517552 -0.011236   0.0  \n",
       "1372 -0.008977   0.0  0.710270  0.517341 -0.009875   0.0  \n",
       "\n",
       "[5 rows x 2005 columns]"
      ]
     },
     "execution_count": 46,
     "metadata": {},
     "output_type": "execute_result"
    }
   ],
   "source": [
    "df.tail()"
   ]
  },
  {
   "cell_type": "code",
   "execution_count": 47,
   "metadata": {},
   "outputs": [
    {
     "data": {
      "text/html": [
       "<div>\n",
       "<style scoped>\n",
       "    .dataframe tbody tr th:only-of-type {\n",
       "        vertical-align: middle;\n",
       "    }\n",
       "\n",
       "    .dataframe tbody tr th {\n",
       "        vertical-align: top;\n",
       "    }\n",
       "\n",
       "    .dataframe thead th {\n",
       "        text-align: right;\n",
       "    }\n",
       "</style>\n",
       "<table border=\"1\" class=\"dataframe\">\n",
       "  <thead>\n",
       "    <tr style=\"text-align: right;\">\n",
       "      <th></th>\n",
       "      <th>class</th>\n",
       "      <th>x1</th>\n",
       "      <th>y1</th>\n",
       "      <th>z1</th>\n",
       "      <th>v1</th>\n",
       "      <th>x2</th>\n",
       "      <th>y2</th>\n",
       "      <th>z2</th>\n",
       "      <th>v2</th>\n",
       "      <th>x3</th>\n",
       "      <th>...</th>\n",
       "      <th>z499</th>\n",
       "      <th>v499</th>\n",
       "      <th>x500</th>\n",
       "      <th>y500</th>\n",
       "      <th>z500</th>\n",
       "      <th>v500</th>\n",
       "      <th>x501</th>\n",
       "      <th>y501</th>\n",
       "      <th>z501</th>\n",
       "      <th>v501</th>\n",
       "    </tr>\n",
       "  </thead>\n",
       "  <tbody>\n",
       "    <tr>\n",
       "      <th>143</th>\n",
       "      <td>Sad</td>\n",
       "      <td>0.547988</td>\n",
       "      <td>0.531569</td>\n",
       "      <td>-1.317371</td>\n",
       "      <td>0.999920</td>\n",
       "      <td>0.578150</td>\n",
       "      <td>0.474134</td>\n",
       "      <td>-1.275516</td>\n",
       "      <td>0.999747</td>\n",
       "      <td>0.593993</td>\n",
       "      <td>...</td>\n",
       "      <td>-0.005057</td>\n",
       "      <td>0.0</td>\n",
       "      <td>0.634026</td>\n",
       "      <td>0.426672</td>\n",
       "      <td>0.014195</td>\n",
       "      <td>0.0</td>\n",
       "      <td>0.639209</td>\n",
       "      <td>0.420250</td>\n",
       "      <td>0.014757</td>\n",
       "      <td>0.0</td>\n",
       "    </tr>\n",
       "    <tr>\n",
       "      <th>144</th>\n",
       "      <td>Sad</td>\n",
       "      <td>0.552713</td>\n",
       "      <td>0.524375</td>\n",
       "      <td>-1.307510</td>\n",
       "      <td>0.999854</td>\n",
       "      <td>0.580686</td>\n",
       "      <td>0.459353</td>\n",
       "      <td>-1.245407</td>\n",
       "      <td>0.999683</td>\n",
       "      <td>0.596457</td>\n",
       "      <td>...</td>\n",
       "      <td>-0.004329</td>\n",
       "      <td>0.0</td>\n",
       "      <td>0.635699</td>\n",
       "      <td>0.435010</td>\n",
       "      <td>0.017187</td>\n",
       "      <td>0.0</td>\n",
       "      <td>0.640913</td>\n",
       "      <td>0.429342</td>\n",
       "      <td>0.017855</td>\n",
       "      <td>0.0</td>\n",
       "    </tr>\n",
       "    <tr>\n",
       "      <th>145</th>\n",
       "      <td>Sad</td>\n",
       "      <td>0.556677</td>\n",
       "      <td>0.518284</td>\n",
       "      <td>-1.280295</td>\n",
       "      <td>0.999832</td>\n",
       "      <td>0.584176</td>\n",
       "      <td>0.448969</td>\n",
       "      <td>-1.211141</td>\n",
       "      <td>0.999668</td>\n",
       "      <td>0.600023</td>\n",
       "      <td>...</td>\n",
       "      <td>-0.004750</td>\n",
       "      <td>0.0</td>\n",
       "      <td>0.633235</td>\n",
       "      <td>0.436921</td>\n",
       "      <td>0.016048</td>\n",
       "      <td>0.0</td>\n",
       "      <td>0.638683</td>\n",
       "      <td>0.430813</td>\n",
       "      <td>0.016734</td>\n",
       "      <td>0.0</td>\n",
       "    </tr>\n",
       "    <tr>\n",
       "      <th>146</th>\n",
       "      <td>Sad</td>\n",
       "      <td>0.558943</td>\n",
       "      <td>0.516369</td>\n",
       "      <td>-1.329321</td>\n",
       "      <td>0.999812</td>\n",
       "      <td>0.585916</td>\n",
       "      <td>0.444778</td>\n",
       "      <td>-1.252496</td>\n",
       "      <td>0.999651</td>\n",
       "      <td>0.601560</td>\n",
       "      <td>...</td>\n",
       "      <td>-0.005116</td>\n",
       "      <td>0.0</td>\n",
       "      <td>0.632514</td>\n",
       "      <td>0.437445</td>\n",
       "      <td>0.014858</td>\n",
       "      <td>0.0</td>\n",
       "      <td>0.638110</td>\n",
       "      <td>0.431113</td>\n",
       "      <td>0.015474</td>\n",
       "      <td>0.0</td>\n",
       "    </tr>\n",
       "    <tr>\n",
       "      <th>147</th>\n",
       "      <td>Sad</td>\n",
       "      <td>0.561839</td>\n",
       "      <td>0.513795</td>\n",
       "      <td>-1.331403</td>\n",
       "      <td>0.999799</td>\n",
       "      <td>0.587888</td>\n",
       "      <td>0.441973</td>\n",
       "      <td>-1.255923</td>\n",
       "      <td>0.999634</td>\n",
       "      <td>0.603336</td>\n",
       "      <td>...</td>\n",
       "      <td>-0.004717</td>\n",
       "      <td>0.0</td>\n",
       "      <td>0.632958</td>\n",
       "      <td>0.438864</td>\n",
       "      <td>0.015314</td>\n",
       "      <td>0.0</td>\n",
       "      <td>0.638533</td>\n",
       "      <td>0.432415</td>\n",
       "      <td>0.015948</td>\n",
       "      <td>0.0</td>\n",
       "    </tr>\n",
       "    <tr>\n",
       "      <th>...</th>\n",
       "      <td>...</td>\n",
       "      <td>...</td>\n",
       "      <td>...</td>\n",
       "      <td>...</td>\n",
       "      <td>...</td>\n",
       "      <td>...</td>\n",
       "      <td>...</td>\n",
       "      <td>...</td>\n",
       "      <td>...</td>\n",
       "      <td>...</td>\n",
       "      <td>...</td>\n",
       "      <td>...</td>\n",
       "      <td>...</td>\n",
       "      <td>...</td>\n",
       "      <td>...</td>\n",
       "      <td>...</td>\n",
       "      <td>...</td>\n",
       "      <td>...</td>\n",
       "      <td>...</td>\n",
       "      <td>...</td>\n",
       "      <td>...</td>\n",
       "    </tr>\n",
       "    <tr>\n",
       "      <th>1183</th>\n",
       "      <td>Sad</td>\n",
       "      <td>0.635573</td>\n",
       "      <td>0.731915</td>\n",
       "      <td>-2.176198</td>\n",
       "      <td>0.999662</td>\n",
       "      <td>0.663751</td>\n",
       "      <td>0.650467</td>\n",
       "      <td>-2.156887</td>\n",
       "      <td>0.999448</td>\n",
       "      <td>0.683241</td>\n",
       "      <td>...</td>\n",
       "      <td>-0.009636</td>\n",
       "      <td>0.0</td>\n",
       "      <td>0.710049</td>\n",
       "      <td>0.635578</td>\n",
       "      <td>0.015403</td>\n",
       "      <td>0.0</td>\n",
       "      <td>0.716098</td>\n",
       "      <td>0.626077</td>\n",
       "      <td>0.016257</td>\n",
       "      <td>0.0</td>\n",
       "    </tr>\n",
       "    <tr>\n",
       "      <th>1184</th>\n",
       "      <td>Sad</td>\n",
       "      <td>0.637461</td>\n",
       "      <td>0.738229</td>\n",
       "      <td>-2.288253</td>\n",
       "      <td>0.999665</td>\n",
       "      <td>0.665018</td>\n",
       "      <td>0.657501</td>\n",
       "      <td>-2.263877</td>\n",
       "      <td>0.999472</td>\n",
       "      <td>0.684155</td>\n",
       "      <td>...</td>\n",
       "      <td>-0.007001</td>\n",
       "      <td>0.0</td>\n",
       "      <td>0.709015</td>\n",
       "      <td>0.637071</td>\n",
       "      <td>0.019196</td>\n",
       "      <td>0.0</td>\n",
       "      <td>0.714986</td>\n",
       "      <td>0.628352</td>\n",
       "      <td>0.020113</td>\n",
       "      <td>0.0</td>\n",
       "    </tr>\n",
       "    <tr>\n",
       "      <th>1185</th>\n",
       "      <td>Sad</td>\n",
       "      <td>0.638317</td>\n",
       "      <td>0.740455</td>\n",
       "      <td>-2.007548</td>\n",
       "      <td>0.999681</td>\n",
       "      <td>0.665160</td>\n",
       "      <td>0.660113</td>\n",
       "      <td>-2.002033</td>\n",
       "      <td>0.999503</td>\n",
       "      <td>0.684274</td>\n",
       "      <td>...</td>\n",
       "      <td>-0.007397</td>\n",
       "      <td>0.0</td>\n",
       "      <td>0.707996</td>\n",
       "      <td>0.638585</td>\n",
       "      <td>0.019495</td>\n",
       "      <td>0.0</td>\n",
       "      <td>0.714011</td>\n",
       "      <td>0.629591</td>\n",
       "      <td>0.020444</td>\n",
       "      <td>0.0</td>\n",
       "    </tr>\n",
       "    <tr>\n",
       "      <th>1186</th>\n",
       "      <td>Sad</td>\n",
       "      <td>0.638162</td>\n",
       "      <td>0.741945</td>\n",
       "      <td>-2.027364</td>\n",
       "      <td>0.999700</td>\n",
       "      <td>0.665097</td>\n",
       "      <td>0.660997</td>\n",
       "      <td>-2.024568</td>\n",
       "      <td>0.999536</td>\n",
       "      <td>0.684162</td>\n",
       "      <td>...</td>\n",
       "      <td>-0.006056</td>\n",
       "      <td>0.0</td>\n",
       "      <td>0.705988</td>\n",
       "      <td>0.637666</td>\n",
       "      <td>0.020110</td>\n",
       "      <td>0.0</td>\n",
       "      <td>0.711905</td>\n",
       "      <td>0.629314</td>\n",
       "      <td>0.020980</td>\n",
       "      <td>0.0</td>\n",
       "    </tr>\n",
       "    <tr>\n",
       "      <th>1187</th>\n",
       "      <td>Sad</td>\n",
       "      <td>0.637985</td>\n",
       "      <td>0.742881</td>\n",
       "      <td>-1.628350</td>\n",
       "      <td>0.999720</td>\n",
       "      <td>0.664752</td>\n",
       "      <td>0.662305</td>\n",
       "      <td>-1.622972</td>\n",
       "      <td>0.999566</td>\n",
       "      <td>0.683778</td>\n",
       "      <td>...</td>\n",
       "      <td>-0.006145</td>\n",
       "      <td>0.0</td>\n",
       "      <td>0.708869</td>\n",
       "      <td>0.630973</td>\n",
       "      <td>0.021432</td>\n",
       "      <td>0.0</td>\n",
       "      <td>0.714786</td>\n",
       "      <td>0.622830</td>\n",
       "      <td>0.022342</td>\n",
       "      <td>0.0</td>\n",
       "    </tr>\n",
       "  </tbody>\n",
       "</table>\n",
       "<p>446 rows × 2005 columns</p>\n",
       "</div>"
      ],
      "text/plain": [
       "     class        x1        y1        z1        v1        x2        y2  \\\n",
       "143    Sad  0.547988  0.531569 -1.317371  0.999920  0.578150  0.474134   \n",
       "144    Sad  0.552713  0.524375 -1.307510  0.999854  0.580686  0.459353   \n",
       "145    Sad  0.556677  0.518284 -1.280295  0.999832  0.584176  0.448969   \n",
       "146    Sad  0.558943  0.516369 -1.329321  0.999812  0.585916  0.444778   \n",
       "147    Sad  0.561839  0.513795 -1.331403  0.999799  0.587888  0.441973   \n",
       "...    ...       ...       ...       ...       ...       ...       ...   \n",
       "1183   Sad  0.635573  0.731915 -2.176198  0.999662  0.663751  0.650467   \n",
       "1184   Sad  0.637461  0.738229 -2.288253  0.999665  0.665018  0.657501   \n",
       "1185   Sad  0.638317  0.740455 -2.007548  0.999681  0.665160  0.660113   \n",
       "1186   Sad  0.638162  0.741945 -2.027364  0.999700  0.665097  0.660997   \n",
       "1187   Sad  0.637985  0.742881 -1.628350  0.999720  0.664752  0.662305   \n",
       "\n",
       "            z2        v2        x3  ...      z499  v499      x500      y500  \\\n",
       "143  -1.275516  0.999747  0.593993  ... -0.005057   0.0  0.634026  0.426672   \n",
       "144  -1.245407  0.999683  0.596457  ... -0.004329   0.0  0.635699  0.435010   \n",
       "145  -1.211141  0.999668  0.600023  ... -0.004750   0.0  0.633235  0.436921   \n",
       "146  -1.252496  0.999651  0.601560  ... -0.005116   0.0  0.632514  0.437445   \n",
       "147  -1.255923  0.999634  0.603336  ... -0.004717   0.0  0.632958  0.438864   \n",
       "...        ...       ...       ...  ...       ...   ...       ...       ...   \n",
       "1183 -2.156887  0.999448  0.683241  ... -0.009636   0.0  0.710049  0.635578   \n",
       "1184 -2.263877  0.999472  0.684155  ... -0.007001   0.0  0.709015  0.637071   \n",
       "1185 -2.002033  0.999503  0.684274  ... -0.007397   0.0  0.707996  0.638585   \n",
       "1186 -2.024568  0.999536  0.684162  ... -0.006056   0.0  0.705988  0.637666   \n",
       "1187 -1.622972  0.999566  0.683778  ... -0.006145   0.0  0.708869  0.630973   \n",
       "\n",
       "          z500  v500      x501      y501      z501  v501  \n",
       "143   0.014195   0.0  0.639209  0.420250  0.014757   0.0  \n",
       "144   0.017187   0.0  0.640913  0.429342  0.017855   0.0  \n",
       "145   0.016048   0.0  0.638683  0.430813  0.016734   0.0  \n",
       "146   0.014858   0.0  0.638110  0.431113  0.015474   0.0  \n",
       "147   0.015314   0.0  0.638533  0.432415  0.015948   0.0  \n",
       "...        ...   ...       ...       ...       ...   ...  \n",
       "1183  0.015403   0.0  0.716098  0.626077  0.016257   0.0  \n",
       "1184  0.019196   0.0  0.714986  0.628352  0.020113   0.0  \n",
       "1185  0.019495   0.0  0.714011  0.629591  0.020444   0.0  \n",
       "1186  0.020110   0.0  0.711905  0.629314  0.020980   0.0  \n",
       "1187  0.021432   0.0  0.714786  0.622830  0.022342   0.0  \n",
       "\n",
       "[446 rows x 2005 columns]"
      ]
     },
     "execution_count": 47,
     "metadata": {},
     "output_type": "execute_result"
    }
   ],
   "source": [
    "df[df['class']=='Sad']"
   ]
  },
  {
   "cell_type": "code",
   "execution_count": 48,
   "metadata": {},
   "outputs": [],
   "source": [
    "X = df.drop('class', axis=1) # features\n",
    "y = df['class'] # target value"
   ]
  },
  {
   "cell_type": "code",
   "execution_count": 49,
   "metadata": {},
   "outputs": [],
   "source": [
    "X_train, X_test, y_train, y_test = train_test_split(X, y, test_size=0.3, random_state=1234)"
   ]
  },
  {
   "cell_type": "code",
   "execution_count": 50,
   "metadata": {},
   "outputs": [
    {
     "data": {
      "text/plain": [
       "1275      Angry\n",
       "851       Happy\n",
       "1306      Angry\n",
       "78        Happy\n",
       "137       Happy\n",
       "         ...   \n",
       "1228      Angry\n",
       "1077        Sad\n",
       "1318      Angry\n",
       "723     Shocked\n",
       "815       Happy\n",
       "Name: class, Length: 961, dtype: object"
      ]
     },
     "execution_count": 50,
     "metadata": {},
     "output_type": "execute_result"
    }
   ],
   "source": [
    "y_train"
   ]
  },
  {
   "cell_type": "markdown",
   "metadata": {},
   "source": [
    "# Training and Evaluating Model"
   ]
  },
  {
   "cell_type": "code",
   "execution_count": 51,
   "metadata": {},
   "outputs": [],
   "source": [
    "from sklearn.pipeline import make_pipeline \n",
    "from sklearn.preprocessing import StandardScaler \n",
    "\n",
    "from sklearn.linear_model import LogisticRegression, RidgeClassifier\n",
    "from sklearn.ensemble import RandomForestClassifier, GradientBoostingClassifier"
   ]
  },
  {
   "cell_type": "code",
   "execution_count": 52,
   "metadata": {},
   "outputs": [],
   "source": [
    "pipelines = {\n",
    "    'lr':make_pipeline(StandardScaler(), LogisticRegression(max_iter=1000)),\n",
    "    'rc':make_pipeline(StandardScaler(), RidgeClassifier()),\n",
    "    'rf':make_pipeline(StandardScaler(), RandomForestClassifier()),\n",
    "    'gb':make_pipeline(StandardScaler(), GradientBoostingClassifier()),\n",
    "}"
   ]
  },
  {
   "cell_type": "code",
   "execution_count": 53,
   "metadata": {},
   "outputs": [],
   "source": [
    "fit_models = {}\n",
    "for algo, pipeline in pipelines.items():\n",
    "    model = pipeline.fit(X_train, y_train)\n",
    "    fit_models[algo] = model"
   ]
  },
  {
   "cell_type": "code",
   "execution_count": 54,
   "metadata": {},
   "outputs": [
    {
     "data": {
      "text/plain": [
       "{'lr': Pipeline(steps=[('standardscaler', StandardScaler()),\n",
       "                 ('logisticregression', LogisticRegression(max_iter=1000))]),\n",
       " 'rc': Pipeline(steps=[('standardscaler', StandardScaler()),\n",
       "                 ('ridgeclassifier', RidgeClassifier())]),\n",
       " 'rf': Pipeline(steps=[('standardscaler', StandardScaler()),\n",
       "                 ('randomforestclassifier', RandomForestClassifier())]),\n",
       " 'gb': Pipeline(steps=[('standardscaler', StandardScaler()),\n",
       "                 ('gradientboostingclassifier', GradientBoostingClassifier())])}"
      ]
     },
     "execution_count": 54,
     "metadata": {},
     "output_type": "execute_result"
    }
   ],
   "source": [
    "fit_models"
   ]
  },
  {
   "cell_type": "code",
   "execution_count": 55,
   "metadata": {},
   "outputs": [
    {
     "data": {
      "text/plain": [
       "array(['Angry', 'Sad', 'Happy', 'Sad', 'Sad', 'Angry', 'Angry', 'Happy',\n",
       "       'Happy', 'Happy', 'Sad', 'Happy', 'Shocked', 'Angry', 'Shocked',\n",
       "       'Happy', 'Angry', 'Angry', 'Angry', 'Happy', 'Sad', 'Happy',\n",
       "       'Happy', 'Angry', 'Angry', 'Angry', 'Sad', 'Happy', 'Happy',\n",
       "       'Happy', 'Shocked', 'Sad', 'Happy', 'Sad', 'Angry', 'Shocked',\n",
       "       'Sad', 'Shocked', 'Sad', 'Angry', 'Shocked', 'Angry', 'Angry',\n",
       "       'Angry', 'Sad', 'Happy', 'Sad', 'Shocked', 'Sad', 'Happy', 'Angry',\n",
       "       'Shocked', 'Sad', 'Sad', 'Sad', 'Sad', 'Sad', 'Sad', 'Sad',\n",
       "       'Angry', 'Angry', 'Sad', 'Happy', 'Shocked', 'Sad', 'Sad', 'Sad',\n",
       "       'Angry', 'Angry', 'Angry', 'Happy', 'Sad', 'Angry', 'Happy',\n",
       "       'Angry', 'Sad', 'Sad', 'Shocked', 'Sad', 'Happy', 'Sad', 'Happy',\n",
       "       'Sad', 'Angry', 'Angry', 'Happy', 'Sad', 'Angry', 'Sad', 'Happy',\n",
       "       'Angry', 'Angry', 'Sad', 'Angry', 'Angry', 'Happy', 'Sad', 'Angry',\n",
       "       'Angry', 'Angry', 'Sad', 'Angry', 'Sad', 'Sad', 'Angry', 'Shocked',\n",
       "       'Shocked', 'Angry', 'Sad', 'Angry', 'Angry', 'Angry', 'Angry',\n",
       "       'Happy', 'Happy', 'Angry', 'Sad', 'Happy', 'Happy', 'Sad', 'Sad',\n",
       "       'Happy', 'Angry', 'Angry', 'Happy', 'Sad', 'Sad', 'Happy', 'Sad',\n",
       "       'Happy', 'Angry', 'Angry', 'Happy', 'Sad', 'Angry', 'Sad', 'Sad',\n",
       "       'Sad', 'Sad', 'Sad', 'Angry', 'Happy', 'Angry', 'Angry', 'Angry',\n",
       "       'Sad', 'Sad', 'Happy', 'Sad', 'Happy', 'Sad', 'Sad', 'Happy',\n",
       "       'Happy', 'Sad', 'Angry', 'Sad', 'Angry', 'Angry', 'Sad', 'Sad',\n",
       "       'Angry', 'Angry', 'Angry', 'Sad', 'Sad', 'Sad', 'Sad', 'Sad',\n",
       "       'Angry', 'Sad', 'Happy', 'Sad', 'Happy', 'Happy', 'Happy', 'Happy',\n",
       "       'Angry', 'Angry', 'Shocked', 'Sad', 'Angry', 'Happy', 'Sad',\n",
       "       'Happy', 'Sad', 'Angry', 'Angry', 'Happy', 'Angry', 'Angry', 'Sad',\n",
       "       'Happy', 'Sad', 'Happy', 'Shocked', 'Happy', 'Angry', 'Happy',\n",
       "       'Angry', 'Angry', 'Angry', 'Sad', 'Happy', 'Angry', 'Happy',\n",
       "       'Happy', 'Angry', 'Happy', 'Shocked', 'Happy', 'Angry', 'Sad',\n",
       "       'Happy', 'Sad', 'Happy', 'Sad', 'Sad', 'Shocked', 'Happy', 'Sad',\n",
       "       'Angry', 'Sad', 'Sad', 'Happy', 'Happy', 'Happy', 'Happy', 'Sad',\n",
       "       'Angry', 'Sad', 'Happy', 'Happy', 'Shocked', 'Happy', 'Angry',\n",
       "       'Happy', 'Angry', 'Angry', 'Happy', 'Happy', 'Shocked', 'Happy',\n",
       "       'Sad', 'Angry', 'Sad', 'Angry', 'Angry', 'Happy', 'Angry', 'Happy',\n",
       "       'Sad', 'Shocked', 'Angry', 'Angry', 'Angry', 'Happy', 'Angry',\n",
       "       'Shocked', 'Angry', 'Happy', 'Happy', 'Happy', 'Happy', 'Sad',\n",
       "       'Sad', 'Sad', 'Happy', 'Angry', 'Sad', 'Sad', 'Angry', 'Sad',\n",
       "       'Angry', 'Sad', 'Happy', 'Sad', 'Sad', 'Sad', 'Angry', 'Sad',\n",
       "       'Sad', 'Happy', 'Happy', 'Shocked', 'Happy', 'Shocked', 'Angry',\n",
       "       'Sad', 'Angry', 'Sad', 'Happy', 'Sad', 'Happy', 'Shocked', 'Happy',\n",
       "       'Sad', 'Sad', 'Sad', 'Angry', 'Sad', 'Angry', 'Shocked', 'Angry',\n",
       "       'Sad', 'Happy', 'Angry', 'Sad', 'Sad', 'Angry', 'Shocked', 'Happy',\n",
       "       'Angry', 'Sad', 'Sad', 'Angry', 'Sad', 'Sad', 'Happy', 'Happy',\n",
       "       'Shocked', 'Happy', 'Sad', 'Happy', 'Happy', 'Angry', 'Sad',\n",
       "       'Happy', 'Happy', 'Sad', 'Happy', 'Sad', 'Happy', 'Angry', 'Angry',\n",
       "       'Sad', 'Shocked', 'Angry', 'Happy', 'Angry', 'Shocked', 'Angry',\n",
       "       'Happy', 'Angry', 'Sad', 'Happy', 'Sad', 'Sad', 'Happy', 'Sad',\n",
       "       'Angry', 'Angry', 'Shocked', 'Happy', 'Sad', 'Happy', 'Happy',\n",
       "       'Happy', 'Happy', 'Happy', 'Angry', 'Angry', 'Angry', 'Happy',\n",
       "       'Sad', 'Sad', 'Angry', 'Shocked', 'Angry', 'Angry', 'Angry',\n",
       "       'Shocked', 'Angry', 'Angry', 'Angry', 'Sad', 'Angry', 'Angry',\n",
       "       'Sad', 'Shocked', 'Shocked', 'Sad', 'Angry', 'Angry', 'Happy',\n",
       "       'Shocked', 'Happy', 'Angry', 'Angry', 'Sad', 'Happy', 'Angry',\n",
       "       'Angry', 'Angry', 'Sad', 'Angry', 'Angry', 'Angry', 'Sad', 'Sad',\n",
       "       'Sad', 'Happy', 'Happy', 'Angry', 'Happy', 'Angry', 'Sad', 'Sad',\n",
       "       'Sad', 'Sad', 'Happy', 'Angry'], dtype='<U7')"
      ]
     },
     "execution_count": 55,
     "metadata": {},
     "output_type": "execute_result"
    }
   ],
   "source": [
    "fit_models['rc'].predict(X_test)"
   ]
  },
  {
   "cell_type": "code",
   "execution_count": 56,
   "metadata": {},
   "outputs": [],
   "source": [
    "from sklearn.metrics import accuracy_score # Accuracy metrics \n",
    "import pickle "
   ]
  },
  {
   "cell_type": "code",
   "execution_count": 57,
   "metadata": {},
   "outputs": [
    {
     "name": "stdout",
     "output_type": "stream",
     "text": [
      "lr 0.9927184466019418\n",
      "rc 0.9878640776699029\n",
      "rf 0.9927184466019418\n",
      "gb 0.9902912621359223\n"
     ]
    }
   ],
   "source": [
    "for algo, model in fit_models.items():\n",
    "    yhat = model.predict(X_test)\n",
    "    print(algo, accuracy_score(y_test, yhat))"
   ]
  },
  {
   "cell_type": "code",
   "execution_count": 58,
   "metadata": {},
   "outputs": [
    {
     "data": {
      "text/plain": [
       "array(['Angry', 'Sad', 'Happy', 'Sad', 'Sad', 'Angry', 'Angry', 'Happy',\n",
       "       'Happy', 'Happy', 'Sad', 'Happy', 'Shocked', 'Angry', 'Shocked',\n",
       "       'Happy', 'Angry', 'Angry', 'Angry', 'Happy', 'Sad', 'Happy',\n",
       "       'Happy', 'Angry', 'Angry', 'Angry', 'Sad', 'Happy', 'Happy',\n",
       "       'Happy', 'Shocked', 'Sad', 'Happy', 'Sad', 'Angry', 'Shocked',\n",
       "       'Sad', 'Shocked', 'Sad', 'Angry', 'Shocked', 'Angry', 'Angry',\n",
       "       'Angry', 'Sad', 'Happy', 'Sad', 'Shocked', 'Sad', 'Happy', 'Angry',\n",
       "       'Shocked', 'Sad', 'Sad', 'Sad', 'Sad', 'Sad', 'Sad', 'Sad',\n",
       "       'Angry', 'Angry', 'Sad', 'Happy', 'Shocked', 'Sad', 'Sad', 'Sad',\n",
       "       'Angry', 'Angry', 'Angry', 'Happy', 'Sad', 'Angry', 'Happy',\n",
       "       'Angry', 'Sad', 'Sad', 'Shocked', 'Sad', 'Happy', 'Sad', 'Happy',\n",
       "       'Sad', 'Angry', 'Angry', 'Happy', 'Sad', 'Angry', 'Sad', 'Happy',\n",
       "       'Angry', 'Angry', 'Sad', 'Angry', 'Angry', 'Happy', 'Sad', 'Angry',\n",
       "       'Angry', 'Angry', 'Sad', 'Angry', 'Sad', 'Sad', 'Angry', 'Shocked',\n",
       "       'Shocked', 'Angry', 'Sad', 'Angry', 'Angry', 'Angry', 'Angry',\n",
       "       'Happy', 'Sad', 'Angry', 'Sad', 'Happy', 'Happy', 'Sad', 'Sad',\n",
       "       'Happy', 'Angry', 'Angry', 'Happy', 'Sad', 'Sad', 'Happy', 'Sad',\n",
       "       'Happy', 'Angry', 'Angry', 'Happy', 'Sad', 'Angry', 'Sad', 'Sad',\n",
       "       'Sad', 'Sad', 'Sad', 'Angry', 'Happy', 'Angry', 'Angry', 'Angry',\n",
       "       'Sad', 'Sad', 'Happy', 'Sad', 'Happy', 'Sad', 'Sad', 'Happy',\n",
       "       'Happy', 'Sad', 'Angry', 'Sad', 'Angry', 'Angry', 'Angry', 'Sad',\n",
       "       'Angry', 'Angry', 'Angry', 'Sad', 'Sad', 'Sad', 'Sad', 'Sad',\n",
       "       'Angry', 'Sad', 'Happy', 'Sad', 'Happy', 'Happy', 'Happy', 'Happy',\n",
       "       'Angry', 'Angry', 'Shocked', 'Sad', 'Angry', 'Happy', 'Sad',\n",
       "       'Happy', 'Sad', 'Angry', 'Angry', 'Happy', 'Angry', 'Angry', 'Sad',\n",
       "       'Happy', 'Sad', 'Happy', 'Shocked', 'Happy', 'Angry', 'Happy',\n",
       "       'Angry', 'Angry', 'Angry', 'Sad', 'Happy', 'Angry', 'Happy',\n",
       "       'Happy', 'Angry', 'Happy', 'Shocked', 'Happy', 'Angry', 'Sad',\n",
       "       'Sad', 'Sad', 'Happy', 'Sad', 'Sad', 'Shocked', 'Happy', 'Sad',\n",
       "       'Angry', 'Sad', 'Sad', 'Happy', 'Happy', 'Sad', 'Happy', 'Sad',\n",
       "       'Angry', 'Sad', 'Happy', 'Happy', 'Shocked', 'Happy', 'Angry',\n",
       "       'Happy', 'Angry', 'Angry', 'Happy', 'Happy', 'Shocked', 'Happy',\n",
       "       'Sad', 'Sad', 'Sad', 'Angry', 'Angry', 'Sad', 'Angry', 'Happy',\n",
       "       'Sad', 'Shocked', 'Angry', 'Angry', 'Angry', 'Happy', 'Angry',\n",
       "       'Shocked', 'Angry', 'Happy', 'Happy', 'Happy', 'Happy', 'Angry',\n",
       "       'Sad', 'Sad', 'Happy', 'Angry', 'Sad', 'Sad', 'Angry', 'Sad',\n",
       "       'Angry', 'Sad', 'Happy', 'Sad', 'Sad', 'Sad', 'Angry', 'Sad',\n",
       "       'Sad', 'Happy', 'Happy', 'Shocked', 'Happy', 'Shocked', 'Sad',\n",
       "       'Sad', 'Angry', 'Sad', 'Happy', 'Sad', 'Happy', 'Shocked', 'Happy',\n",
       "       'Sad', 'Sad', 'Sad', 'Angry', 'Sad', 'Angry', 'Shocked', 'Angry',\n",
       "       'Sad', 'Happy', 'Angry', 'Sad', 'Sad', 'Angry', 'Shocked', 'Happy',\n",
       "       'Angry', 'Sad', 'Sad', 'Angry', 'Sad', 'Sad', 'Happy', 'Happy',\n",
       "       'Shocked', 'Happy', 'Sad', 'Happy', 'Happy', 'Angry', 'Sad',\n",
       "       'Happy', 'Happy', 'Sad', 'Happy', 'Sad', 'Happy', 'Angry', 'Angry',\n",
       "       'Sad', 'Shocked', 'Angry', 'Happy', 'Angry', 'Shocked', 'Angry',\n",
       "       'Happy', 'Angry', 'Sad', 'Happy', 'Sad', 'Sad', 'Happy', 'Sad',\n",
       "       'Angry', 'Angry', 'Shocked', 'Happy', 'Sad', 'Happy', 'Happy',\n",
       "       'Happy', 'Happy', 'Happy', 'Angry', 'Angry', 'Angry', 'Happy',\n",
       "       'Sad', 'Sad', 'Angry', 'Shocked', 'Angry', 'Angry', 'Angry',\n",
       "       'Shocked', 'Angry', 'Angry', 'Angry', 'Sad', 'Angry', 'Angry',\n",
       "       'Sad', 'Shocked', 'Shocked', 'Sad', 'Angry', 'Angry', 'Happy',\n",
       "       'Shocked', 'Happy', 'Angry', 'Angry', 'Sad', 'Happy', 'Angry',\n",
       "       'Angry', 'Angry', 'Sad', 'Angry', 'Angry', 'Angry', 'Sad', 'Sad',\n",
       "       'Sad', 'Happy', 'Happy', 'Angry', 'Happy', 'Angry', 'Sad', 'Sad',\n",
       "       'Sad', 'Sad', 'Happy', 'Angry'], dtype=object)"
      ]
     },
     "execution_count": 58,
     "metadata": {},
     "output_type": "execute_result"
    }
   ],
   "source": [
    "fit_models['rf'].predict(X_test)"
   ]
  },
  {
   "cell_type": "code",
   "execution_count": 59,
   "metadata": {},
   "outputs": [
    {
     "data": {
      "text/plain": [
       "1336    Angry\n",
       "375       Sad\n",
       "768     Happy\n",
       "1085      Sad\n",
       "1048      Sad\n",
       "        ...  \n",
       "1091      Sad\n",
       "261       Sad\n",
       "319       Sad\n",
       "71      Happy\n",
       "456     Angry\n",
       "Name: class, Length: 412, dtype: object"
      ]
     },
     "execution_count": 59,
     "metadata": {},
     "output_type": "execute_result"
    }
   ],
   "source": [
    "y_test"
   ]
  },
  {
   "cell_type": "code",
   "execution_count": 60,
   "metadata": {},
   "outputs": [],
   "source": [
    "with open('body_language.pkl', 'wb') as f:\n",
    "    pickle.dump(fit_models['rf'], f)"
   ]
  },
  {
   "cell_type": "markdown",
   "metadata": {},
   "source": [
    "# Make Detections"
   ]
  },
  {
   "cell_type": "code",
   "execution_count": 61,
   "metadata": {},
   "outputs": [],
   "source": [
    "import pickle\n",
    "with open('body_language.pkl', 'rb') as f:\n",
    "    model = pickle.load(f)"
   ]
  },
  {
   "cell_type": "code",
   "execution_count": 62,
   "metadata": {},
   "outputs": [
    {
     "data": {
      "text/plain": [
       "Pipeline(steps=[('standardscaler', StandardScaler()),\n",
       "                ('randomforestclassifier', RandomForestClassifier())])"
      ]
     },
     "execution_count": 62,
     "metadata": {},
     "output_type": "execute_result"
    }
   ],
   "source": [
    "model"
   ]
  },
  {
   "cell_type": "code",
   "execution_count": 28,
   "metadata": {},
   "outputs": [
    {
     "data": {
      "text/plain": [
       "str"
      ]
     },
     "execution_count": 28,
     "metadata": {},
     "output_type": "execute_result"
    }
   ],
   "source": [
    "type(body_language_class.split(' ')[0])"
   ]
  },
  {
   "cell_type": "code",
   "execution_count": 79,
   "metadata": {},
   "outputs": [
    {
     "name": "stderr",
     "output_type": "stream",
     "text": [
      "C:\\Users\\sangh\\anaconda3\\lib\\site-packages\\sklearn\\base.py:450: UserWarning: X does not have valid feature names, but StandardScaler was fitted with feature names\n",
      "  warnings.warn(\n",
      "C:\\Users\\sangh\\anaconda3\\lib\\site-packages\\sklearn\\base.py:450: UserWarning: X does not have valid feature names, but StandardScaler was fitted with feature names\n",
      "  warnings.warn(\n"
     ]
    },
    {
     "name": "stdout",
     "output_type": "stream",
     "text": [
      "Angry [0.36 0.36 0.15 0.13]\n"
     ]
    },
    {
     "name": "stderr",
     "output_type": "stream",
     "text": [
      "C:\\Users\\sangh\\anaconda3\\lib\\site-packages\\sklearn\\base.py:450: UserWarning: X does not have valid feature names, but StandardScaler was fitted with feature names\n",
      "  warnings.warn(\n",
      "C:\\Users\\sangh\\anaconda3\\lib\\site-packages\\sklearn\\base.py:450: UserWarning: X does not have valid feature names, but StandardScaler was fitted with feature names\n",
      "  warnings.warn(\n"
     ]
    },
    {
     "name": "stdout",
     "output_type": "stream",
     "text": [
      "Angry [0.41 0.3  0.12 0.17]\n"
     ]
    },
    {
     "name": "stderr",
     "output_type": "stream",
     "text": [
      "C:\\Users\\sangh\\anaconda3\\lib\\site-packages\\sklearn\\base.py:450: UserWarning: X does not have valid feature names, but StandardScaler was fitted with feature names\n",
      "  warnings.warn(\n",
      "C:\\Users\\sangh\\anaconda3\\lib\\site-packages\\sklearn\\base.py:450: UserWarning: X does not have valid feature names, but StandardScaler was fitted with feature names\n",
      "  warnings.warn(\n"
     ]
    },
    {
     "name": "stdout",
     "output_type": "stream",
     "text": [
      "Angry [0.47 0.25 0.14 0.14]\n"
     ]
    },
    {
     "name": "stderr",
     "output_type": "stream",
     "text": [
      "C:\\Users\\sangh\\anaconda3\\lib\\site-packages\\sklearn\\base.py:450: UserWarning: X does not have valid feature names, but StandardScaler was fitted with feature names\n",
      "  warnings.warn(\n",
      "C:\\Users\\sangh\\anaconda3\\lib\\site-packages\\sklearn\\base.py:450: UserWarning: X does not have valid feature names, but StandardScaler was fitted with feature names\n",
      "  warnings.warn(\n"
     ]
    },
    {
     "name": "stdout",
     "output_type": "stream",
     "text": [
      "Angry [0.43 0.28 0.16 0.13]\n"
     ]
    },
    {
     "name": "stderr",
     "output_type": "stream",
     "text": [
      "C:\\Users\\sangh\\anaconda3\\lib\\site-packages\\sklearn\\base.py:450: UserWarning: X does not have valid feature names, but StandardScaler was fitted with feature names\n",
      "  warnings.warn(\n",
      "C:\\Users\\sangh\\anaconda3\\lib\\site-packages\\sklearn\\base.py:450: UserWarning: X does not have valid feature names, but StandardScaler was fitted with feature names\n",
      "  warnings.warn(\n"
     ]
    },
    {
     "name": "stdout",
     "output_type": "stream",
     "text": [
      "Happy [0.38 0.4  0.15 0.07]\n"
     ]
    },
    {
     "name": "stderr",
     "output_type": "stream",
     "text": [
      "C:\\Users\\sangh\\anaconda3\\lib\\site-packages\\sklearn\\base.py:450: UserWarning: X does not have valid feature names, but StandardScaler was fitted with feature names\n",
      "  warnings.warn(\n",
      "C:\\Users\\sangh\\anaconda3\\lib\\site-packages\\sklearn\\base.py:450: UserWarning: X does not have valid feature names, but StandardScaler was fitted with feature names\n",
      "  warnings.warn(\n"
     ]
    },
    {
     "name": "stdout",
     "output_type": "stream",
     "text": [
      "Sad [0.41 0.05 0.53 0.01]\n"
     ]
    },
    {
     "name": "stderr",
     "output_type": "stream",
     "text": [
      "C:\\Users\\sangh\\anaconda3\\lib\\site-packages\\sklearn\\base.py:450: UserWarning: X does not have valid feature names, but StandardScaler was fitted with feature names\n",
      "  warnings.warn(\n",
      "C:\\Users\\sangh\\anaconda3\\lib\\site-packages\\sklearn\\base.py:450: UserWarning: X does not have valid feature names, but StandardScaler was fitted with feature names\n",
      "  warnings.warn(\n"
     ]
    },
    {
     "name": "stdout",
     "output_type": "stream",
     "text": [
      "Sad [0.42 0.04 0.54 0.  ]\n"
     ]
    },
    {
     "name": "stderr",
     "output_type": "stream",
     "text": [
      "C:\\Users\\sangh\\anaconda3\\lib\\site-packages\\sklearn\\base.py:450: UserWarning: X does not have valid feature names, but StandardScaler was fitted with feature names\n",
      "  warnings.warn(\n",
      "C:\\Users\\sangh\\anaconda3\\lib\\site-packages\\sklearn\\base.py:450: UserWarning: X does not have valid feature names, but StandardScaler was fitted with feature names\n",
      "  warnings.warn(\n"
     ]
    },
    {
     "name": "stdout",
     "output_type": "stream",
     "text": [
      "Happy [0.05 0.61 0.26 0.08]\n"
     ]
    },
    {
     "name": "stderr",
     "output_type": "stream",
     "text": [
      "C:\\Users\\sangh\\anaconda3\\lib\\site-packages\\sklearn\\base.py:450: UserWarning: X does not have valid feature names, but StandardScaler was fitted with feature names\n",
      "  warnings.warn(\n",
      "C:\\Users\\sangh\\anaconda3\\lib\\site-packages\\sklearn\\base.py:450: UserWarning: X does not have valid feature names, but StandardScaler was fitted with feature names\n",
      "  warnings.warn(\n",
      "C:\\Users\\sangh\\anaconda3\\lib\\site-packages\\sklearn\\base.py:450: UserWarning: X does not have valid feature names, but StandardScaler was fitted with feature names\n",
      "  warnings.warn(\n"
     ]
    },
    {
     "name": "stdout",
     "output_type": "stream",
     "text": [
      "Happy [0.06 0.61 0.19 0.14]\n",
      "Happy "
     ]
    },
    {
     "name": "stderr",
     "output_type": "stream",
     "text": [
      "C:\\Users\\sangh\\anaconda3\\lib\\site-packages\\sklearn\\base.py:450: UserWarning: X does not have valid feature names, but StandardScaler was fitted with feature names\n",
      "  warnings.warn(\n",
      "C:\\Users\\sangh\\anaconda3\\lib\\site-packages\\sklearn\\base.py:450: UserWarning: X does not have valid feature names, but StandardScaler was fitted with feature names\n",
      "  warnings.warn(\n"
     ]
    },
    {
     "name": "stdout",
     "output_type": "stream",
     "text": [
      "[0.05 0.63 0.2  0.12]\n"
     ]
    },
    {
     "name": "stderr",
     "output_type": "stream",
     "text": [
      "C:\\Users\\sangh\\anaconda3\\lib\\site-packages\\sklearn\\base.py:450: UserWarning: X does not have valid feature names, but StandardScaler was fitted with feature names\n",
      "  warnings.warn(\n",
      "C:\\Users\\sangh\\anaconda3\\lib\\site-packages\\sklearn\\base.py:450: UserWarning: X does not have valid feature names, but StandardScaler was fitted with feature names\n",
      "  warnings.warn(\n"
     ]
    },
    {
     "name": "stdout",
     "output_type": "stream",
     "text": [
      "Happy [0.13 0.39 0.26 0.22]\n"
     ]
    },
    {
     "name": "stderr",
     "output_type": "stream",
     "text": [
      "C:\\Users\\sangh\\anaconda3\\lib\\site-packages\\sklearn\\base.py:450: UserWarning: X does not have valid feature names, but StandardScaler was fitted with feature names\n",
      "  warnings.warn(\n",
      "C:\\Users\\sangh\\anaconda3\\lib\\site-packages\\sklearn\\base.py:450: UserWarning: X does not have valid feature names, but StandardScaler was fitted with feature names\n",
      "  warnings.warn(\n"
     ]
    },
    {
     "name": "stdout",
     "output_type": "stream",
     "text": [
      "Happy [0.13 0.43 0.25 0.19]\n"
     ]
    },
    {
     "name": "stderr",
     "output_type": "stream",
     "text": [
      "C:\\Users\\sangh\\anaconda3\\lib\\site-packages\\sklearn\\base.py:450: UserWarning: X does not have valid feature names, but StandardScaler was fitted with feature names\n",
      "  warnings.warn(\n",
      "C:\\Users\\sangh\\anaconda3\\lib\\site-packages\\sklearn\\base.py:450: UserWarning: X does not have valid feature names, but StandardScaler was fitted with feature names\n",
      "  warnings.warn(\n",
      "C:\\Users\\sangh\\anaconda3\\lib\\site-packages\\sklearn\\base.py:450: UserWarning: X does not have valid feature names, but StandardScaler was fitted with feature names\n",
      "  warnings.warn(\n"
     ]
    },
    {
     "name": "stdout",
     "output_type": "stream",
     "text": [
      "Happy [0.1  0.43 0.26 0.21]\n",
      "Happy [0.12 0.42 0.28 0.18]\n"
     ]
    },
    {
     "name": "stderr",
     "output_type": "stream",
     "text": [
      "C:\\Users\\sangh\\anaconda3\\lib\\site-packages\\sklearn\\base.py:450: UserWarning: X does not have valid feature names, but StandardScaler was fitted with feature names\n",
      "  warnings.warn(\n",
      "C:\\Users\\sangh\\anaconda3\\lib\\site-packages\\sklearn\\base.py:450: UserWarning: X does not have valid feature names, but StandardScaler was fitted with feature names\n",
      "  warnings.warn(\n"
     ]
    },
    {
     "name": "stdout",
     "output_type": "stream",
     "text": [
      "Happy [0.24 0.5  0.24 0.02]\n",
      "Happy [0.37 0.55 0.08 0.  ]\n"
     ]
    },
    {
     "name": "stderr",
     "output_type": "stream",
     "text": [
      "C:\\Users\\sangh\\anaconda3\\lib\\site-packages\\sklearn\\base.py:450: UserWarning: X does not have valid feature names, but StandardScaler was fitted with feature names\n",
      "  warnings.warn(\n",
      "C:\\Users\\sangh\\anaconda3\\lib\\site-packages\\sklearn\\base.py:450: UserWarning: X does not have valid feature names, but StandardScaler was fitted with feature names\n",
      "  warnings.warn(\n",
      "C:\\Users\\sangh\\anaconda3\\lib\\site-packages\\sklearn\\base.py:450: UserWarning: X does not have valid feature names, but StandardScaler was fitted with feature names\n",
      "  warnings.warn(\n",
      "C:\\Users\\sangh\\anaconda3\\lib\\site-packages\\sklearn\\base.py:450: UserWarning: X does not have valid feature names, but StandardScaler was fitted with feature names\n",
      "  warnings.warn(\n",
      "C:\\Users\\sangh\\anaconda3\\lib\\site-packages\\sklearn\\base.py:450: UserWarning: X does not have valid feature names, but StandardScaler was fitted with feature names\n",
      "  warnings.warn(\n",
      "C:\\Users\\sangh\\anaconda3\\lib\\site-packages\\sklearn\\base.py:450: UserWarning: X does not have valid feature names, but StandardScaler was fitted with feature names\n",
      "  warnings.warn(\n"
     ]
    },
    {
     "name": "stdout",
     "output_type": "stream",
     "text": [
      "Happy [0.08 0.64 0.19 0.09]\n",
      "Happy [0.1  0.52 0.28 0.1 ]\n"
     ]
    },
    {
     "name": "stderr",
     "output_type": "stream",
     "text": [
      "C:\\Users\\sangh\\anaconda3\\lib\\site-packages\\sklearn\\base.py:450: UserWarning: X does not have valid feature names, but StandardScaler was fitted with feature names\n",
      "  warnings.warn(\n",
      "C:\\Users\\sangh\\anaconda3\\lib\\site-packages\\sklearn\\base.py:450: UserWarning: X does not have valid feature names, but StandardScaler was fitted with feature names\n",
      "  warnings.warn(\n"
     ]
    },
    {
     "name": "stdout",
     "output_type": "stream",
     "text": [
      "Happy [0.07 0.78 0.12 0.03]\n"
     ]
    },
    {
     "name": "stderr",
     "output_type": "stream",
     "text": [
      "C:\\Users\\sangh\\anaconda3\\lib\\site-packages\\sklearn\\base.py:450: UserWarning: X does not have valid feature names, but StandardScaler was fitted with feature names\n",
      "  warnings.warn(\n",
      "C:\\Users\\sangh\\anaconda3\\lib\\site-packages\\sklearn\\base.py:450: UserWarning: X does not have valid feature names, but StandardScaler was fitted with feature names\n",
      "  warnings.warn(\n",
      "C:\\Users\\sangh\\anaconda3\\lib\\site-packages\\sklearn\\base.py:450: UserWarning: X does not have valid feature names, but StandardScaler was fitted with feature names\n",
      "  warnings.warn(\n"
     ]
    },
    {
     "name": "stdout",
     "output_type": "stream",
     "text": [
      "Happy [0.11 0.57 0.27 0.05]\n"
     ]
    },
    {
     "name": "stderr",
     "output_type": "stream",
     "text": [
      "C:\\Users\\sangh\\anaconda3\\lib\\site-packages\\sklearn\\base.py:450: UserWarning: X does not have valid feature names, but StandardScaler was fitted with feature names\n",
      "  warnings.warn(\n",
      "C:\\Users\\sangh\\anaconda3\\lib\\site-packages\\sklearn\\base.py:450: UserWarning: X does not have valid feature names, but StandardScaler was fitted with feature names\n",
      "  warnings.warn(\n"
     ]
    },
    {
     "name": "stdout",
     "output_type": "stream",
     "text": [
      "Happy [0.02 0.82 0.13 0.03]\n"
     ]
    },
    {
     "name": "stderr",
     "output_type": "stream",
     "text": [
      "C:\\Users\\sangh\\anaconda3\\lib\\site-packages\\sklearn\\base.py:450: UserWarning: X does not have valid feature names, but StandardScaler was fitted with feature names\n",
      "  warnings.warn(\n",
      "C:\\Users\\sangh\\anaconda3\\lib\\site-packages\\sklearn\\base.py:450: UserWarning: X does not have valid feature names, but StandardScaler was fitted with feature names\n",
      "  warnings.warn(\n",
      "C:\\Users\\sangh\\anaconda3\\lib\\site-packages\\sklearn\\base.py:450: UserWarning: X does not have valid feature names, but StandardScaler was fitted with feature names\n",
      "  warnings.warn(\n"
     ]
    },
    {
     "name": "stdout",
     "output_type": "stream",
     "text": [
      "Happy [0.03 0.78 0.14 0.05]\n",
      "Happy [0.03 0.73 0.14 0.1 ]\n"
     ]
    },
    {
     "name": "stderr",
     "output_type": "stream",
     "text": [
      "C:\\Users\\sangh\\anaconda3\\lib\\site-packages\\sklearn\\base.py:450: UserWarning: X does not have valid feature names, but StandardScaler was fitted with feature names\n",
      "  warnings.warn(\n",
      "C:\\Users\\sangh\\anaconda3\\lib\\site-packages\\sklearn\\base.py:450: UserWarning: X does not have valid feature names, but StandardScaler was fitted with feature names\n",
      "  warnings.warn(\n",
      "C:\\Users\\sangh\\anaconda3\\lib\\site-packages\\sklearn\\base.py:450: UserWarning: X does not have valid feature names, but StandardScaler was fitted with feature names\n",
      "  warnings.warn(\n"
     ]
    },
    {
     "name": "stdout",
     "output_type": "stream",
     "text": [
      "Happy [0.02 0.78 0.17 0.03]\n"
     ]
    },
    {
     "name": "stderr",
     "output_type": "stream",
     "text": [
      "C:\\Users\\sangh\\anaconda3\\lib\\site-packages\\sklearn\\base.py:450: UserWarning: X does not have valid feature names, but StandardScaler was fitted with feature names\n",
      "  warnings.warn(\n"
     ]
    },
    {
     "name": "stdout",
     "output_type": "stream",
     "text": [
      "Happy [0.03 0.54 0.28 0.15]\n"
     ]
    },
    {
     "name": "stderr",
     "output_type": "stream",
     "text": [
      "C:\\Users\\sangh\\anaconda3\\lib\\site-packages\\sklearn\\base.py:450: UserWarning: X does not have valid feature names, but StandardScaler was fitted with feature names\n",
      "  warnings.warn(\n",
      "C:\\Users\\sangh\\anaconda3\\lib\\site-packages\\sklearn\\base.py:450: UserWarning: X does not have valid feature names, but StandardScaler was fitted with feature names\n",
      "  warnings.warn(\n",
      "C:\\Users\\sangh\\anaconda3\\lib\\site-packages\\sklearn\\base.py:450: UserWarning: X does not have valid feature names, but StandardScaler was fitted with feature names\n",
      "  warnings.warn(\n"
     ]
    },
    {
     "name": "stdout",
     "output_type": "stream",
     "text": [
      "Happy [0.08 0.46 0.43 0.03]\n"
     ]
    },
    {
     "name": "stderr",
     "output_type": "stream",
     "text": [
      "C:\\Users\\sangh\\anaconda3\\lib\\site-packages\\sklearn\\base.py:450: UserWarning: X does not have valid feature names, but StandardScaler was fitted with feature names\n",
      "  warnings.warn(\n"
     ]
    },
    {
     "name": "stdout",
     "output_type": "stream",
     "text": [
      "Happy [0.13 0.67 0.18 0.02]\n"
     ]
    },
    {
     "name": "stderr",
     "output_type": "stream",
     "text": [
      "C:\\Users\\sangh\\anaconda3\\lib\\site-packages\\sklearn\\base.py:450: UserWarning: X does not have valid feature names, but StandardScaler was fitted with feature names\n",
      "  warnings.warn(\n",
      "C:\\Users\\sangh\\anaconda3\\lib\\site-packages\\sklearn\\base.py:450: UserWarning: X does not have valid feature names, but StandardScaler was fitted with feature names\n",
      "  warnings.warn(\n",
      "C:\\Users\\sangh\\anaconda3\\lib\\site-packages\\sklearn\\base.py:450: UserWarning: X does not have valid feature names, but StandardScaler was fitted with feature names\n",
      "  warnings.warn(\n"
     ]
    },
    {
     "name": "stdout",
     "output_type": "stream",
     "text": [
      "Happy [0.11 0.7  0.15 0.04]\n"
     ]
    },
    {
     "name": "stderr",
     "output_type": "stream",
     "text": [
      "C:\\Users\\sangh\\anaconda3\\lib\\site-packages\\sklearn\\base.py:450: UserWarning: X does not have valid feature names, but StandardScaler was fitted with feature names\n",
      "  warnings.warn(\n",
      "C:\\Users\\sangh\\anaconda3\\lib\\site-packages\\sklearn\\base.py:450: UserWarning: X does not have valid feature names, but StandardScaler was fitted with feature names\n",
      "  warnings.warn(\n"
     ]
    },
    {
     "name": "stdout",
     "output_type": "stream",
     "text": [
      "Happy [0.13 0.52 0.3  0.05]\n"
     ]
    },
    {
     "name": "stderr",
     "output_type": "stream",
     "text": [
      "C:\\Users\\sangh\\anaconda3\\lib\\site-packages\\sklearn\\base.py:450: UserWarning: X does not have valid feature names, but StandardScaler was fitted with feature names\n",
      "  warnings.warn(\n",
      "C:\\Users\\sangh\\anaconda3\\lib\\site-packages\\sklearn\\base.py:450: UserWarning: X does not have valid feature names, but StandardScaler was fitted with feature names\n",
      "  warnings.warn(\n",
      "C:\\Users\\sangh\\anaconda3\\lib\\site-packages\\sklearn\\base.py:450: UserWarning: X does not have valid feature names, but StandardScaler was fitted with feature names\n",
      "  warnings.warn(\n"
     ]
    },
    {
     "name": "stdout",
     "output_type": "stream",
     "text": [
      "Happy [0.04 0.65 0.28 0.03]\n",
      "Happy [0.02 0.8  0.13 0.05]\n"
     ]
    },
    {
     "name": "stderr",
     "output_type": "stream",
     "text": [
      "C:\\Users\\sangh\\anaconda3\\lib\\site-packages\\sklearn\\base.py:450: UserWarning: X does not have valid feature names, but StandardScaler was fitted with feature names\n",
      "  warnings.warn(\n",
      "C:\\Users\\sangh\\anaconda3\\lib\\site-packages\\sklearn\\base.py:450: UserWarning: X does not have valid feature names, but StandardScaler was fitted with feature names\n",
      "  warnings.warn(\n",
      "C:\\Users\\sangh\\anaconda3\\lib\\site-packages\\sklearn\\base.py:450: UserWarning: X does not have valid feature names, but StandardScaler was fitted with feature names\n",
      "  warnings.warn(\n",
      "C:\\Users\\sangh\\anaconda3\\lib\\site-packages\\sklearn\\base.py:450: UserWarning: X does not have valid feature names, but StandardScaler was fitted with feature names\n",
      "  warnings.warn(\n"
     ]
    },
    {
     "name": "stdout",
     "output_type": "stream",
     "text": [
      "Happy [0.03 0.65 0.28 0.04]\n",
      "Happy [0.04 0.72 0.21 0.03]\n"
     ]
    },
    {
     "name": "stderr",
     "output_type": "stream",
     "text": [
      "C:\\Users\\sangh\\anaconda3\\lib\\site-packages\\sklearn\\base.py:450: UserWarning: X does not have valid feature names, but StandardScaler was fitted with feature names\n",
      "  warnings.warn(\n",
      "C:\\Users\\sangh\\anaconda3\\lib\\site-packages\\sklearn\\base.py:450: UserWarning: X does not have valid feature names, but StandardScaler was fitted with feature names\n",
      "  warnings.warn(\n",
      "C:\\Users\\sangh\\anaconda3\\lib\\site-packages\\sklearn\\base.py:450: UserWarning: X does not have valid feature names, but StandardScaler was fitted with feature names\n",
      "  warnings.warn(\n"
     ]
    },
    {
     "name": "stdout",
     "output_type": "stream",
     "text": [
      "Happy [0.19 0.46 0.31 0.04]\n"
     ]
    },
    {
     "name": "stderr",
     "output_type": "stream",
     "text": [
      "C:\\Users\\sangh\\anaconda3\\lib\\site-packages\\sklearn\\base.py:450: UserWarning: X does not have valid feature names, but StandardScaler was fitted with feature names\n",
      "  warnings.warn(\n"
     ]
    },
    {
     "name": "stdout",
     "output_type": "stream",
     "text": [
      "Happy [0.2  0.42 0.35 0.03]\n"
     ]
    },
    {
     "name": "stderr",
     "output_type": "stream",
     "text": [
      "C:\\Users\\sangh\\anaconda3\\lib\\site-packages\\sklearn\\base.py:450: UserWarning: X does not have valid feature names, but StandardScaler was fitted with feature names\n",
      "  warnings.warn(\n",
      "C:\\Users\\sangh\\anaconda3\\lib\\site-packages\\sklearn\\base.py:450: UserWarning: X does not have valid feature names, but StandardScaler was fitted with feature names\n",
      "  warnings.warn(\n"
     ]
    },
    {
     "name": "stdout",
     "output_type": "stream",
     "text": [
      "Sad [0.2  0.37 0.38 0.05]\n"
     ]
    },
    {
     "name": "stderr",
     "output_type": "stream",
     "text": [
      "C:\\Users\\sangh\\anaconda3\\lib\\site-packages\\sklearn\\base.py:450: UserWarning: X does not have valid feature names, but StandardScaler was fitted with feature names\n",
      "  warnings.warn(\n",
      "C:\\Users\\sangh\\anaconda3\\lib\\site-packages\\sklearn\\base.py:450: UserWarning: X does not have valid feature names, but StandardScaler was fitted with feature names\n",
      "  warnings.warn(\n",
      "C:\\Users\\sangh\\anaconda3\\lib\\site-packages\\sklearn\\base.py:450: UserWarning: X does not have valid feature names, but StandardScaler was fitted with feature names\n",
      "  warnings.warn(\n"
     ]
    },
    {
     "name": "stdout",
     "output_type": "stream",
     "text": [
      "Sad [0.24 0.35 0.37 0.04]\n"
     ]
    },
    {
     "name": "stderr",
     "output_type": "stream",
     "text": [
      "C:\\Users\\sangh\\anaconda3\\lib\\site-packages\\sklearn\\base.py:450: UserWarning: X does not have valid feature names, but StandardScaler was fitted with feature names\n",
      "  warnings.warn(\n"
     ]
    },
    {
     "name": "stdout",
     "output_type": "stream",
     "text": [
      "Happy [0.17 0.41 0.31 0.11]\n"
     ]
    },
    {
     "name": "stderr",
     "output_type": "stream",
     "text": [
      "C:\\Users\\sangh\\anaconda3\\lib\\site-packages\\sklearn\\base.py:450: UserWarning: X does not have valid feature names, but StandardScaler was fitted with feature names\n",
      "  warnings.warn(\n",
      "C:\\Users\\sangh\\anaconda3\\lib\\site-packages\\sklearn\\base.py:450: UserWarning: X does not have valid feature names, but StandardScaler was fitted with feature names\n",
      "  warnings.warn(\n"
     ]
    },
    {
     "name": "stdout",
     "output_type": "stream",
     "text": [
      "Happy [0.16 0.38 0.34 0.12]\n"
     ]
    },
    {
     "name": "stderr",
     "output_type": "stream",
     "text": [
      "C:\\Users\\sangh\\anaconda3\\lib\\site-packages\\sklearn\\base.py:450: UserWarning: X does not have valid feature names, but StandardScaler was fitted with feature names\n",
      "  warnings.warn(\n",
      "C:\\Users\\sangh\\anaconda3\\lib\\site-packages\\sklearn\\base.py:450: UserWarning: X does not have valid feature names, but StandardScaler was fitted with feature names\n",
      "  warnings.warn(\n"
     ]
    },
    {
     "name": "stdout",
     "output_type": "stream",
     "text": [
      "Happy [0.16 0.38 0.35 0.11]\n"
     ]
    },
    {
     "name": "stderr",
     "output_type": "stream",
     "text": [
      "C:\\Users\\sangh\\anaconda3\\lib\\site-packages\\sklearn\\base.py:450: UserWarning: X does not have valid feature names, but StandardScaler was fitted with feature names\n",
      "  warnings.warn(\n",
      "C:\\Users\\sangh\\anaconda3\\lib\\site-packages\\sklearn\\base.py:450: UserWarning: X does not have valid feature names, but StandardScaler was fitted with feature names\n",
      "  warnings.warn(\n",
      "C:\\Users\\sangh\\anaconda3\\lib\\site-packages\\sklearn\\base.py:450: UserWarning: X does not have valid feature names, but StandardScaler was fitted with feature names\n",
      "  warnings.warn(\n"
     ]
    },
    {
     "name": "stdout",
     "output_type": "stream",
     "text": [
      "Sad [0.18 0.33 0.37 0.12]\n"
     ]
    },
    {
     "name": "stderr",
     "output_type": "stream",
     "text": [
      "C:\\Users\\sangh\\anaconda3\\lib\\site-packages\\sklearn\\base.py:450: UserWarning: X does not have valid feature names, but StandardScaler was fitted with feature names\n",
      "  warnings.warn(\n"
     ]
    },
    {
     "name": "stdout",
     "output_type": "stream",
     "text": [
      "Happy [0.26 0.37 0.29 0.08]\n"
     ]
    },
    {
     "name": "stderr",
     "output_type": "stream",
     "text": [
      "C:\\Users\\sangh\\anaconda3\\lib\\site-packages\\sklearn\\base.py:450: UserWarning: X does not have valid feature names, but StandardScaler was fitted with feature names\n",
      "  warnings.warn(\n",
      "C:\\Users\\sangh\\anaconda3\\lib\\site-packages\\sklearn\\base.py:450: UserWarning: X does not have valid feature names, but StandardScaler was fitted with feature names\n",
      "  warnings.warn(\n",
      "C:\\Users\\sangh\\anaconda3\\lib\\site-packages\\sklearn\\base.py:450: UserWarning: X does not have valid feature names, but StandardScaler was fitted with feature names\n",
      "  warnings.warn(\n"
     ]
    },
    {
     "name": "stdout",
     "output_type": "stream",
     "text": [
      "Happy [0.09 0.58 0.3  0.03]\n"
     ]
    },
    {
     "name": "stderr",
     "output_type": "stream",
     "text": [
      "C:\\Users\\sangh\\anaconda3\\lib\\site-packages\\sklearn\\base.py:450: UserWarning: X does not have valid feature names, but StandardScaler was fitted with feature names\n",
      "  warnings.warn(\n",
      "C:\\Users\\sangh\\anaconda3\\lib\\site-packages\\sklearn\\base.py:450: UserWarning: X does not have valid feature names, but StandardScaler was fitted with feature names\n",
      "  warnings.warn(\n"
     ]
    },
    {
     "name": "stdout",
     "output_type": "stream",
     "text": [
      "Happy [0.09 0.59 0.19 0.13]\n"
     ]
    },
    {
     "name": "stderr",
     "output_type": "stream",
     "text": [
      "C:\\Users\\sangh\\anaconda3\\lib\\site-packages\\sklearn\\base.py:450: UserWarning: X does not have valid feature names, but StandardScaler was fitted with feature names\n",
      "  warnings.warn(\n",
      "C:\\Users\\sangh\\anaconda3\\lib\\site-packages\\sklearn\\base.py:450: UserWarning: X does not have valid feature names, but StandardScaler was fitted with feature names\n",
      "  warnings.warn(\n"
     ]
    },
    {
     "name": "stdout",
     "output_type": "stream",
     "text": [
      "Happy [0.06 0.57 0.2  0.17]\n"
     ]
    },
    {
     "name": "stderr",
     "output_type": "stream",
     "text": [
      "C:\\Users\\sangh\\anaconda3\\lib\\site-packages\\sklearn\\base.py:450: UserWarning: X does not have valid feature names, but StandardScaler was fitted with feature names\n",
      "  warnings.warn(\n",
      "C:\\Users\\sangh\\anaconda3\\lib\\site-packages\\sklearn\\base.py:450: UserWarning: X does not have valid feature names, but StandardScaler was fitted with feature names\n",
      "  warnings.warn(\n",
      "C:\\Users\\sangh\\anaconda3\\lib\\site-packages\\sklearn\\base.py:450: UserWarning: X does not have valid feature names, but StandardScaler was fitted with feature names\n",
      "  warnings.warn(\n"
     ]
    },
    {
     "name": "stdout",
     "output_type": "stream",
     "text": [
      "Happy [0.06 0.6  0.2  0.14]\n",
      "Happy [0.03 0.76 0.2  0.01]\n"
     ]
    },
    {
     "name": "stderr",
     "output_type": "stream",
     "text": [
      "C:\\Users\\sangh\\anaconda3\\lib\\site-packages\\sklearn\\base.py:450: UserWarning: X does not have valid feature names, but StandardScaler was fitted with feature names\n",
      "  warnings.warn(\n",
      "C:\\Users\\sangh\\anaconda3\\lib\\site-packages\\sklearn\\base.py:450: UserWarning: X does not have valid feature names, but StandardScaler was fitted with feature names\n",
      "  warnings.warn(\n",
      "C:\\Users\\sangh\\anaconda3\\lib\\site-packages\\sklearn\\base.py:450: UserWarning: X does not have valid feature names, but StandardScaler was fitted with feature names\n",
      "  warnings.warn(\n"
     ]
    },
    {
     "name": "stdout",
     "output_type": "stream",
     "text": [
      "Happy [0.03 0.78 0.17 0.02]\n"
     ]
    },
    {
     "name": "stderr",
     "output_type": "stream",
     "text": [
      "C:\\Users\\sangh\\anaconda3\\lib\\site-packages\\sklearn\\base.py:450: UserWarning: X does not have valid feature names, but StandardScaler was fitted with feature names\n",
      "  warnings.warn(\n",
      "C:\\Users\\sangh\\anaconda3\\lib\\site-packages\\sklearn\\base.py:450: UserWarning: X does not have valid feature names, but StandardScaler was fitted with feature names\n",
      "  warnings.warn(\n",
      "C:\\Users\\sangh\\anaconda3\\lib\\site-packages\\sklearn\\base.py:450: UserWarning: X does not have valid feature names, but StandardScaler was fitted with feature names\n",
      "  warnings.warn(\n"
     ]
    },
    {
     "name": "stdout",
     "output_type": "stream",
     "text": [
      "Happy [0.01 0.81 0.16 0.02]\n",
      "Happy [0.02 0.78 0.17 0.03]\n"
     ]
    },
    {
     "name": "stderr",
     "output_type": "stream",
     "text": [
      "C:\\Users\\sangh\\anaconda3\\lib\\site-packages\\sklearn\\base.py:450: UserWarning: X does not have valid feature names, but StandardScaler was fitted with feature names\n",
      "  warnings.warn(\n",
      "C:\\Users\\sangh\\anaconda3\\lib\\site-packages\\sklearn\\base.py:450: UserWarning: X does not have valid feature names, but StandardScaler was fitted with feature names\n",
      "  warnings.warn(\n"
     ]
    },
    {
     "name": "stdout",
     "output_type": "stream",
     "text": [
      "Happy [0.02 0.81 0.14 0.03]\n"
     ]
    },
    {
     "name": "stderr",
     "output_type": "stream",
     "text": [
      "C:\\Users\\sangh\\anaconda3\\lib\\site-packages\\sklearn\\base.py:450: UserWarning: X does not have valid feature names, but StandardScaler was fitted with feature names\n",
      "  warnings.warn(\n",
      "C:\\Users\\sangh\\anaconda3\\lib\\site-packages\\sklearn\\base.py:450: UserWarning: X does not have valid feature names, but StandardScaler was fitted with feature names\n",
      "  warnings.warn(\n",
      "C:\\Users\\sangh\\anaconda3\\lib\\site-packages\\sklearn\\base.py:450: UserWarning: X does not have valid feature names, but StandardScaler was fitted with feature names\n",
      "  warnings.warn(\n"
     ]
    },
    {
     "name": "stdout",
     "output_type": "stream",
     "text": [
      "Happy [0.04 0.78 0.15 0.03]\n",
      "Happy [0.04 0.79 0.13 0.04]\n"
     ]
    },
    {
     "name": "stderr",
     "output_type": "stream",
     "text": [
      "C:\\Users\\sangh\\anaconda3\\lib\\site-packages\\sklearn\\base.py:450: UserWarning: X does not have valid feature names, but StandardScaler was fitted with feature names\n",
      "  warnings.warn(\n",
      "C:\\Users\\sangh\\anaconda3\\lib\\site-packages\\sklearn\\base.py:450: UserWarning: X does not have valid feature names, but StandardScaler was fitted with feature names\n",
      "  warnings.warn(\n",
      "C:\\Users\\sangh\\anaconda3\\lib\\site-packages\\sklearn\\base.py:450: UserWarning: X does not have valid feature names, but StandardScaler was fitted with feature names\n",
      "  warnings.warn(\n"
     ]
    },
    {
     "name": "stdout",
     "output_type": "stream",
     "text": [
      "Happy [0.06 0.74 0.16 0.04]\n"
     ]
    },
    {
     "name": "stderr",
     "output_type": "stream",
     "text": [
      "C:\\Users\\sangh\\anaconda3\\lib\\site-packages\\sklearn\\base.py:450: UserWarning: X does not have valid feature names, but StandardScaler was fitted with feature names\n",
      "  warnings.warn(\n",
      "C:\\Users\\sangh\\anaconda3\\lib\\site-packages\\sklearn\\base.py:450: UserWarning: X does not have valid feature names, but StandardScaler was fitted with feature names\n",
      "  warnings.warn(\n"
     ]
    },
    {
     "name": "stdout",
     "output_type": "stream",
     "text": [
      "Happy [0.05 0.75 0.16 0.04]\n"
     ]
    },
    {
     "name": "stderr",
     "output_type": "stream",
     "text": [
      "C:\\Users\\sangh\\anaconda3\\lib\\site-packages\\sklearn\\base.py:450: UserWarning: X does not have valid feature names, but StandardScaler was fitted with feature names\n",
      "  warnings.warn(\n",
      "C:\\Users\\sangh\\anaconda3\\lib\\site-packages\\sklearn\\base.py:450: UserWarning: X does not have valid feature names, but StandardScaler was fitted with feature names\n",
      "  warnings.warn(\n"
     ]
    },
    {
     "name": "stdout",
     "output_type": "stream",
     "text": [
      "Happy [0.04 0.78 0.15 0.03]\n"
     ]
    },
    {
     "name": "stderr",
     "output_type": "stream",
     "text": [
      "C:\\Users\\sangh\\anaconda3\\lib\\site-packages\\sklearn\\base.py:450: UserWarning: X does not have valid feature names, but StandardScaler was fitted with feature names\n",
      "  warnings.warn(\n",
      "C:\\Users\\sangh\\anaconda3\\lib\\site-packages\\sklearn\\base.py:450: UserWarning: X does not have valid feature names, but StandardScaler was fitted with feature names\n",
      "  warnings.warn(\n"
     ]
    },
    {
     "name": "stdout",
     "output_type": "stream",
     "text": [
      "Happy [0.04 0.79 0.14 0.03]\n"
     ]
    },
    {
     "name": "stderr",
     "output_type": "stream",
     "text": [
      "C:\\Users\\sangh\\anaconda3\\lib\\site-packages\\sklearn\\base.py:450: UserWarning: X does not have valid feature names, but StandardScaler was fitted with feature names\n",
      "  warnings.warn(\n",
      "C:\\Users\\sangh\\anaconda3\\lib\\site-packages\\sklearn\\base.py:450: UserWarning: X does not have valid feature names, but StandardScaler was fitted with feature names\n",
      "  warnings.warn(\n"
     ]
    },
    {
     "name": "stdout",
     "output_type": "stream",
     "text": [
      "Happy [0.05 0.78 0.14 0.03]\n"
     ]
    },
    {
     "name": "stderr",
     "output_type": "stream",
     "text": [
      "C:\\Users\\sangh\\anaconda3\\lib\\site-packages\\sklearn\\base.py:450: UserWarning: X does not have valid feature names, but StandardScaler was fitted with feature names\n",
      "  warnings.warn(\n",
      "C:\\Users\\sangh\\anaconda3\\lib\\site-packages\\sklearn\\base.py:450: UserWarning: X does not have valid feature names, but StandardScaler was fitted with feature names\n",
      "  warnings.warn(\n"
     ]
    },
    {
     "name": "stdout",
     "output_type": "stream",
     "text": [
      "Happy [0.03 0.8  0.14 0.03]\n"
     ]
    },
    {
     "name": "stderr",
     "output_type": "stream",
     "text": [
      "C:\\Users\\sangh\\anaconda3\\lib\\site-packages\\sklearn\\base.py:450: UserWarning: X does not have valid feature names, but StandardScaler was fitted with feature names\n",
      "  warnings.warn(\n",
      "C:\\Users\\sangh\\anaconda3\\lib\\site-packages\\sklearn\\base.py:450: UserWarning: X does not have valid feature names, but StandardScaler was fitted with feature names\n",
      "  warnings.warn(\n",
      "C:\\Users\\sangh\\anaconda3\\lib\\site-packages\\sklearn\\base.py:450: UserWarning: X does not have valid feature names, but StandardScaler was fitted with feature names\n",
      "  warnings.warn(\n"
     ]
    },
    {
     "name": "stdout",
     "output_type": "stream",
     "text": [
      "Happy [0.04 0.81 0.12 0.03]\n"
     ]
    },
    {
     "name": "stderr",
     "output_type": "stream",
     "text": [
      "C:\\Users\\sangh\\anaconda3\\lib\\site-packages\\sklearn\\base.py:450: UserWarning: X does not have valid feature names, but StandardScaler was fitted with feature names\n",
      "  warnings.warn(\n",
      "C:\\Users\\sangh\\anaconda3\\lib\\site-packages\\sklearn\\base.py:450: UserWarning: X does not have valid feature names, but StandardScaler was fitted with feature names\n",
      "  warnings.warn(\n",
      "C:\\Users\\sangh\\anaconda3\\lib\\site-packages\\sklearn\\base.py:450: UserWarning: X does not have valid feature names, but StandardScaler was fitted with feature names\n",
      "  warnings.warn(\n"
     ]
    },
    {
     "name": "stdout",
     "output_type": "stream",
     "text": [
      "Happy [0.05 0.75 0.17 0.03]\n",
      "Happy [0.04 0.79 0.14 0.03]\n"
     ]
    },
    {
     "name": "stderr",
     "output_type": "stream",
     "text": [
      "C:\\Users\\sangh\\anaconda3\\lib\\site-packages\\sklearn\\base.py:450: UserWarning: X does not have valid feature names, but StandardScaler was fitted with feature names\n",
      "  warnings.warn(\n",
      "C:\\Users\\sangh\\anaconda3\\lib\\site-packages\\sklearn\\base.py:450: UserWarning: X does not have valid feature names, but StandardScaler was fitted with feature names\n",
      "  warnings.warn(\n"
     ]
    },
    {
     "name": "stdout",
     "output_type": "stream",
     "text": [
      "Happy [0.04 0.8  0.13 0.03]\n"
     ]
    },
    {
     "name": "stderr",
     "output_type": "stream",
     "text": [
      "C:\\Users\\sangh\\anaconda3\\lib\\site-packages\\sklearn\\base.py:450: UserWarning: X does not have valid feature names, but StandardScaler was fitted with feature names\n",
      "  warnings.warn(\n",
      "C:\\Users\\sangh\\anaconda3\\lib\\site-packages\\sklearn\\base.py:450: UserWarning: X does not have valid feature names, but StandardScaler was fitted with feature names\n",
      "  warnings.warn(\n",
      "C:\\Users\\sangh\\anaconda3\\lib\\site-packages\\sklearn\\base.py:450: UserWarning: X does not have valid feature names, but StandardScaler was fitted with feature names\n",
      "  warnings.warn(\n",
      "C:\\Users\\sangh\\anaconda3\\lib\\site-packages\\sklearn\\base.py:450: UserWarning: X does not have valid feature names, but StandardScaler was fitted with feature names\n",
      "  warnings.warn(\n"
     ]
    },
    {
     "name": "stdout",
     "output_type": "stream",
     "text": [
      "Happy [0.04 0.8  0.13 0.03]\n",
      "Happy [0.05 0.78 0.15 0.02]\n"
     ]
    },
    {
     "name": "stderr",
     "output_type": "stream",
     "text": [
      "C:\\Users\\sangh\\anaconda3\\lib\\site-packages\\sklearn\\base.py:450: UserWarning: X does not have valid feature names, but StandardScaler was fitted with feature names\n",
      "  warnings.warn(\n",
      "C:\\Users\\sangh\\anaconda3\\lib\\site-packages\\sklearn\\base.py:450: UserWarning: X does not have valid feature names, but StandardScaler was fitted with feature names\n",
      "  warnings.warn(\n",
      "C:\\Users\\sangh\\anaconda3\\lib\\site-packages\\sklearn\\base.py:450: UserWarning: X does not have valid feature names, but StandardScaler was fitted with feature names\n",
      "  warnings.warn(\n"
     ]
    },
    {
     "name": "stdout",
     "output_type": "stream",
     "text": [
      "Happy [0.05 0.66 0.24 0.05]\n",
      "Happy [0.05 0.64 0.26 0.05]\n"
     ]
    },
    {
     "name": "stderr",
     "output_type": "stream",
     "text": [
      "C:\\Users\\sangh\\anaconda3\\lib\\site-packages\\sklearn\\base.py:450: UserWarning: X does not have valid feature names, but StandardScaler was fitted with feature names\n",
      "  warnings.warn(\n",
      "C:\\Users\\sangh\\anaconda3\\lib\\site-packages\\sklearn\\base.py:450: UserWarning: X does not have valid feature names, but StandardScaler was fitted with feature names\n",
      "  warnings.warn(\n",
      "C:\\Users\\sangh\\anaconda3\\lib\\site-packages\\sklearn\\base.py:450: UserWarning: X does not have valid feature names, but StandardScaler was fitted with feature names\n",
      "  warnings.warn(\n",
      "C:\\Users\\sangh\\anaconda3\\lib\\site-packages\\sklearn\\base.py:450: UserWarning: X does not have valid feature names, but StandardScaler was fitted with feature names\n",
      "  warnings.warn(\n",
      "C:\\Users\\sangh\\anaconda3\\lib\\site-packages\\sklearn\\base.py:450: UserWarning: X does not have valid feature names, but StandardScaler was fitted with feature names\n",
      "  warnings.warn(\n"
     ]
    },
    {
     "name": "stdout",
     "output_type": "stream",
     "text": [
      "Happy [0.05 0.68 0.24 0.03]\n",
      "Happy [0.04 0.78 0.15 0.03]\n"
     ]
    },
    {
     "name": "stderr",
     "output_type": "stream",
     "text": [
      "C:\\Users\\sangh\\anaconda3\\lib\\site-packages\\sklearn\\base.py:450: UserWarning: X does not have valid feature names, but StandardScaler was fitted with feature names\n",
      "  warnings.warn(\n",
      "C:\\Users\\sangh\\anaconda3\\lib\\site-packages\\sklearn\\base.py:450: UserWarning: X does not have valid feature names, but StandardScaler was fitted with feature names\n",
      "  warnings.warn(\n",
      "C:\\Users\\sangh\\anaconda3\\lib\\site-packages\\sklearn\\base.py:450: UserWarning: X does not have valid feature names, but StandardScaler was fitted with feature names\n",
      "  warnings.warn(\n"
     ]
    },
    {
     "name": "stdout",
     "output_type": "stream",
     "text": [
      "Happy [0.05 0.7  0.21 0.04]\n"
     ]
    },
    {
     "name": "stderr",
     "output_type": "stream",
     "text": [
      "C:\\Users\\sangh\\anaconda3\\lib\\site-packages\\sklearn\\base.py:450: UserWarning: X does not have valid feature names, but StandardScaler was fitted with feature names\n",
      "  warnings.warn(\n",
      "C:\\Users\\sangh\\anaconda3\\lib\\site-packages\\sklearn\\base.py:450: UserWarning: X does not have valid feature names, but StandardScaler was fitted with feature names\n",
      "  warnings.warn(\n",
      "C:\\Users\\sangh\\anaconda3\\lib\\site-packages\\sklearn\\base.py:450: UserWarning: X does not have valid feature names, but StandardScaler was fitted with feature names\n",
      "  warnings.warn(\n"
     ]
    },
    {
     "name": "stdout",
     "output_type": "stream",
     "text": [
      "Happy [0.05 0.71 0.2  0.04]\n",
      "Happy [0.08 0.63 0.21 0.08]\n"
     ]
    },
    {
     "name": "stderr",
     "output_type": "stream",
     "text": [
      "C:\\Users\\sangh\\anaconda3\\lib\\site-packages\\sklearn\\base.py:450: UserWarning: X does not have valid feature names, but StandardScaler was fitted with feature names\n",
      "  warnings.warn(\n",
      "C:\\Users\\sangh\\anaconda3\\lib\\site-packages\\sklearn\\base.py:450: UserWarning: X does not have valid feature names, but StandardScaler was fitted with feature names\n",
      "  warnings.warn(\n",
      "C:\\Users\\sangh\\anaconda3\\lib\\site-packages\\sklearn\\base.py:450: UserWarning: X does not have valid feature names, but StandardScaler was fitted with feature names\n",
      "  warnings.warn(\n",
      "C:\\Users\\sangh\\anaconda3\\lib\\site-packages\\sklearn\\base.py:450: UserWarning: X does not have valid feature names, but StandardScaler was fitted with feature names\n",
      "  warnings.warn(\n"
     ]
    },
    {
     "name": "stdout",
     "output_type": "stream",
     "text": [
      "Happy [0.08 0.59 0.21 0.12]\n",
      "Happy [0.05 0.71 0.19 0.05]\n"
     ]
    },
    {
     "name": "stderr",
     "output_type": "stream",
     "text": [
      "C:\\Users\\sangh\\anaconda3\\lib\\site-packages\\sklearn\\base.py:450: UserWarning: X does not have valid feature names, but StandardScaler was fitted with feature names\n",
      "  warnings.warn(\n",
      "C:\\Users\\sangh\\anaconda3\\lib\\site-packages\\sklearn\\base.py:450: UserWarning: X does not have valid feature names, but StandardScaler was fitted with feature names\n",
      "  warnings.warn(\n"
     ]
    },
    {
     "name": "stdout",
     "output_type": "stream",
     "text": [
      "Happy [0.06 0.7  0.2  0.04]\n"
     ]
    },
    {
     "name": "stderr",
     "output_type": "stream",
     "text": [
      "C:\\Users\\sangh\\anaconda3\\lib\\site-packages\\sklearn\\base.py:450: UserWarning: X does not have valid feature names, but StandardScaler was fitted with feature names\n",
      "  warnings.warn(\n",
      "C:\\Users\\sangh\\anaconda3\\lib\\site-packages\\sklearn\\base.py:450: UserWarning: X does not have valid feature names, but StandardScaler was fitted with feature names\n",
      "  warnings.warn(\n"
     ]
    },
    {
     "name": "stdout",
     "output_type": "stream",
     "text": [
      "Happy [0.06 0.7  0.2  0.04]\n",
      "Happy [0.08 0.59 0.25 0.08]\n"
     ]
    },
    {
     "name": "stderr",
     "output_type": "stream",
     "text": [
      "C:\\Users\\sangh\\anaconda3\\lib\\site-packages\\sklearn\\base.py:450: UserWarning: X does not have valid feature names, but StandardScaler was fitted with feature names\n",
      "  warnings.warn(\n",
      "C:\\Users\\sangh\\anaconda3\\lib\\site-packages\\sklearn\\base.py:450: UserWarning: X does not have valid feature names, but StandardScaler was fitted with feature names\n",
      "  warnings.warn(\n",
      "C:\\Users\\sangh\\anaconda3\\lib\\site-packages\\sklearn\\base.py:450: UserWarning: X does not have valid feature names, but StandardScaler was fitted with feature names\n",
      "  warnings.warn(\n",
      "C:\\Users\\sangh\\anaconda3\\lib\\site-packages\\sklearn\\base.py:450: UserWarning: X does not have valid feature names, but StandardScaler was fitted with feature names\n",
      "  warnings.warn(\n",
      "C:\\Users\\sangh\\anaconda3\\lib\\site-packages\\sklearn\\base.py:450: UserWarning: X does not have valid feature names, but StandardScaler was fitted with feature names\n",
      "  warnings.warn(\n"
     ]
    },
    {
     "name": "stdout",
     "output_type": "stream",
     "text": [
      "Happy [0.07 0.62 0.24 0.07]\n"
     ]
    },
    {
     "name": "stderr",
     "output_type": "stream",
     "text": [
      "C:\\Users\\sangh\\anaconda3\\lib\\site-packages\\sklearn\\base.py:450: UserWarning: X does not have valid feature names, but StandardScaler was fitted with feature names\n",
      "  warnings.warn(\n",
      "C:\\Users\\sangh\\anaconda3\\lib\\site-packages\\sklearn\\base.py:450: UserWarning: X does not have valid feature names, but StandardScaler was fitted with feature names\n",
      "  warnings.warn(\n"
     ]
    },
    {
     "name": "stdout",
     "output_type": "stream",
     "text": [
      "Happy [0.09 0.57 0.23 0.11]\n"
     ]
    },
    {
     "name": "stderr",
     "output_type": "stream",
     "text": [
      "C:\\Users\\sangh\\anaconda3\\lib\\site-packages\\sklearn\\base.py:450: UserWarning: X does not have valid feature names, but StandardScaler was fitted with feature names\n",
      "  warnings.warn(\n",
      "C:\\Users\\sangh\\anaconda3\\lib\\site-packages\\sklearn\\base.py:450: UserWarning: X does not have valid feature names, but StandardScaler was fitted with feature names\n",
      "  warnings.warn(\n",
      "C:\\Users\\sangh\\anaconda3\\lib\\site-packages\\sklearn\\base.py:450: UserWarning: X does not have valid feature names, but StandardScaler was fitted with feature names\n",
      "  warnings.warn(\n"
     ]
    },
    {
     "name": "stdout",
     "output_type": "stream",
     "text": [
      "Happy [0.09 0.62 0.23 0.06]\n",
      "Happy [0.08 0.59 0.26 0.07]\n",
      "Happy [0.05 0.68 0.23 0.04]\n"
     ]
    },
    {
     "name": "stderr",
     "output_type": "stream",
     "text": [
      "C:\\Users\\sangh\\anaconda3\\lib\\site-packages\\sklearn\\base.py:450: UserWarning: X does not have valid feature names, but StandardScaler was fitted with feature names\n",
      "  warnings.warn(\n",
      "C:\\Users\\sangh\\anaconda3\\lib\\site-packages\\sklearn\\base.py:450: UserWarning: X does not have valid feature names, but StandardScaler was fitted with feature names\n",
      "  warnings.warn(\n",
      "C:\\Users\\sangh\\anaconda3\\lib\\site-packages\\sklearn\\base.py:450: UserWarning: X does not have valid feature names, but StandardScaler was fitted with feature names\n",
      "  warnings.warn(\n",
      "C:\\Users\\sangh\\anaconda3\\lib\\site-packages\\sklearn\\base.py:450: UserWarning: X does not have valid feature names, but StandardScaler was fitted with feature names\n",
      "  warnings.warn(\n",
      "C:\\Users\\sangh\\anaconda3\\lib\\site-packages\\sklearn\\base.py:450: UserWarning: X does not have valid feature names, but StandardScaler was fitted with feature names\n",
      "  warnings.warn(\n",
      "C:\\Users\\sangh\\anaconda3\\lib\\site-packages\\sklearn\\base.py:450: UserWarning: X does not have valid feature names, but StandardScaler was fitted with feature names\n",
      "  warnings.warn(\n"
     ]
    },
    {
     "name": "stdout",
     "output_type": "stream",
     "text": [
      "Happy [0.07 0.62 0.24 0.07]\n",
      "Happy [0.09 0.6  0.24 0.07]\n"
     ]
    },
    {
     "name": "stderr",
     "output_type": "stream",
     "text": [
      "C:\\Users\\sangh\\anaconda3\\lib\\site-packages\\sklearn\\base.py:450: UserWarning: X does not have valid feature names, but StandardScaler was fitted with feature names\n",
      "  warnings.warn(\n",
      "C:\\Users\\sangh\\anaconda3\\lib\\site-packages\\sklearn\\base.py:450: UserWarning: X does not have valid feature names, but StandardScaler was fitted with feature names\n",
      "  warnings.warn(\n",
      "C:\\Users\\sangh\\anaconda3\\lib\\site-packages\\sklearn\\base.py:450: UserWarning: X does not have valid feature names, but StandardScaler was fitted with feature names\n",
      "  warnings.warn(\n",
      "C:\\Users\\sangh\\anaconda3\\lib\\site-packages\\sklearn\\base.py:450: UserWarning: X does not have valid feature names, but StandardScaler was fitted with feature names\n",
      "  warnings.warn(\n"
     ]
    },
    {
     "name": "stdout",
     "output_type": "stream",
     "text": [
      "Happy [0.06 0.68 0.2  0.06]\n",
      "Happy [0.06 0.68 0.18 0.08]\n"
     ]
    },
    {
     "name": "stderr",
     "output_type": "stream",
     "text": [
      "C:\\Users\\sangh\\anaconda3\\lib\\site-packages\\sklearn\\base.py:450: UserWarning: X does not have valid feature names, but StandardScaler was fitted with feature names\n",
      "  warnings.warn(\n",
      "C:\\Users\\sangh\\anaconda3\\lib\\site-packages\\sklearn\\base.py:450: UserWarning: X does not have valid feature names, but StandardScaler was fitted with feature names\n",
      "  warnings.warn(\n",
      "C:\\Users\\sangh\\anaconda3\\lib\\site-packages\\sklearn\\base.py:450: UserWarning: X does not have valid feature names, but StandardScaler was fitted with feature names\n",
      "  warnings.warn(\n"
     ]
    },
    {
     "name": "stdout",
     "output_type": "stream",
     "text": [
      "Happy [0.06 0.7  0.18 0.06]\n"
     ]
    },
    {
     "name": "stderr",
     "output_type": "stream",
     "text": [
      "C:\\Users\\sangh\\anaconda3\\lib\\site-packages\\sklearn\\base.py:450: UserWarning: X does not have valid feature names, but StandardScaler was fitted with feature names\n",
      "  warnings.warn(\n",
      "C:\\Users\\sangh\\anaconda3\\lib\\site-packages\\sklearn\\base.py:450: UserWarning: X does not have valid feature names, but StandardScaler was fitted with feature names\n",
      "  warnings.warn(\n",
      "C:\\Users\\sangh\\anaconda3\\lib\\site-packages\\sklearn\\base.py:450: UserWarning: X does not have valid feature names, but StandardScaler was fitted with feature names\n",
      "  warnings.warn(\n"
     ]
    },
    {
     "name": "stdout",
     "output_type": "stream",
     "text": [
      "Happy [0.06 0.71 0.16 0.07]\n",
      "Happy [0.05 0.69 0.17 0.09]\n"
     ]
    },
    {
     "name": "stderr",
     "output_type": "stream",
     "text": [
      "C:\\Users\\sangh\\anaconda3\\lib\\site-packages\\sklearn\\base.py:450: UserWarning: X does not have valid feature names, but StandardScaler was fitted with feature names\n",
      "  warnings.warn(\n",
      "C:\\Users\\sangh\\anaconda3\\lib\\site-packages\\sklearn\\base.py:450: UserWarning: X does not have valid feature names, but StandardScaler was fitted with feature names\n",
      "  warnings.warn(\n"
     ]
    },
    {
     "name": "stdout",
     "output_type": "stream",
     "text": [
      "Happy [0.07 0.68 0.17 0.08]\n"
     ]
    },
    {
     "name": "stderr",
     "output_type": "stream",
     "text": [
      "C:\\Users\\sangh\\anaconda3\\lib\\site-packages\\sklearn\\base.py:450: UserWarning: X does not have valid feature names, but StandardScaler was fitted with feature names\n",
      "  warnings.warn(\n",
      "C:\\Users\\sangh\\anaconda3\\lib\\site-packages\\sklearn\\base.py:450: UserWarning: X does not have valid feature names, but StandardScaler was fitted with feature names\n",
      "  warnings.warn(\n"
     ]
    },
    {
     "name": "stdout",
     "output_type": "stream",
     "text": [
      "Happy [0.04 0.73 0.19 0.04]\n"
     ]
    },
    {
     "name": "stderr",
     "output_type": "stream",
     "text": [
      "C:\\Users\\sangh\\anaconda3\\lib\\site-packages\\sklearn\\base.py:450: UserWarning: X does not have valid feature names, but StandardScaler was fitted with feature names\n",
      "  warnings.warn(\n",
      "C:\\Users\\sangh\\anaconda3\\lib\\site-packages\\sklearn\\base.py:450: UserWarning: X does not have valid feature names, but StandardScaler was fitted with feature names\n",
      "  warnings.warn(\n",
      "C:\\Users\\sangh\\anaconda3\\lib\\site-packages\\sklearn\\base.py:450: UserWarning: X does not have valid feature names, but StandardScaler was fitted with feature names\n",
      "  warnings.warn(\n",
      "C:\\Users\\sangh\\anaconda3\\lib\\site-packages\\sklearn\\base.py:450: UserWarning: X does not have valid feature names, but StandardScaler was fitted with feature names\n",
      "  warnings.warn(\n"
     ]
    },
    {
     "name": "stdout",
     "output_type": "stream",
     "text": [
      "Happy [0.1  0.47 0.31 0.12]\n",
      "Sad [0.13 0.37 0.48 0.02]\n"
     ]
    },
    {
     "name": "stderr",
     "output_type": "stream",
     "text": [
      "C:\\Users\\sangh\\anaconda3\\lib\\site-packages\\sklearn\\base.py:450: UserWarning: X does not have valid feature names, but StandardScaler was fitted with feature names\n",
      "  warnings.warn(\n",
      "C:\\Users\\sangh\\anaconda3\\lib\\site-packages\\sklearn\\base.py:450: UserWarning: X does not have valid feature names, but StandardScaler was fitted with feature names\n",
      "  warnings.warn(\n"
     ]
    },
    {
     "name": "stdout",
     "output_type": "stream",
     "text": [
      "Happy [0.29 0.41 0.26 0.04]\n"
     ]
    },
    {
     "name": "stderr",
     "output_type": "stream",
     "text": [
      "C:\\Users\\sangh\\anaconda3\\lib\\site-packages\\sklearn\\base.py:450: UserWarning: X does not have valid feature names, but StandardScaler was fitted with feature names\n",
      "  warnings.warn(\n",
      "C:\\Users\\sangh\\anaconda3\\lib\\site-packages\\sklearn\\base.py:450: UserWarning: X does not have valid feature names, but StandardScaler was fitted with feature names\n",
      "  warnings.warn(\n"
     ]
    },
    {
     "name": "stdout",
     "output_type": "stream",
     "text": [
      "Happy [0.29 0.47 0.21 0.03]\n"
     ]
    },
    {
     "name": "stderr",
     "output_type": "stream",
     "text": [
      "C:\\Users\\sangh\\anaconda3\\lib\\site-packages\\sklearn\\base.py:450: UserWarning: X does not have valid feature names, but StandardScaler was fitted with feature names\n",
      "  warnings.warn(\n",
      "C:\\Users\\sangh\\anaconda3\\lib\\site-packages\\sklearn\\base.py:450: UserWarning: X does not have valid feature names, but StandardScaler was fitted with feature names\n",
      "  warnings.warn(\n",
      "C:\\Users\\sangh\\anaconda3\\lib\\site-packages\\sklearn\\base.py:450: UserWarning: X does not have valid feature names, but StandardScaler was fitted with feature names\n",
      "  warnings.warn(\n"
     ]
    },
    {
     "name": "stdout",
     "output_type": "stream",
     "text": [
      "Happy [0.28 0.44 0.28 0.  ]\n"
     ]
    },
    {
     "name": "stderr",
     "output_type": "stream",
     "text": [
      "C:\\Users\\sangh\\anaconda3\\lib\\site-packages\\sklearn\\base.py:450: UserWarning: X does not have valid feature names, but StandardScaler was fitted with feature names\n",
      "  warnings.warn(\n",
      "C:\\Users\\sangh\\anaconda3\\lib\\site-packages\\sklearn\\base.py:450: UserWarning: X does not have valid feature names, but StandardScaler was fitted with feature names\n",
      "  warnings.warn(\n",
      "C:\\Users\\sangh\\anaconda3\\lib\\site-packages\\sklearn\\base.py:450: UserWarning: X does not have valid feature names, but StandardScaler was fitted with feature names\n",
      "  warnings.warn(\n"
     ]
    },
    {
     "name": "stdout",
     "output_type": "stream",
     "text": [
      "Happy [0.32 0.42 0.26 0.  ]\n",
      "Happy [0.29 0.43 0.28 0.  ]\n"
     ]
    },
    {
     "name": "stderr",
     "output_type": "stream",
     "text": [
      "C:\\Users\\sangh\\anaconda3\\lib\\site-packages\\sklearn\\base.py:450: UserWarning: X does not have valid feature names, but StandardScaler was fitted with feature names\n",
      "  warnings.warn(\n",
      "C:\\Users\\sangh\\anaconda3\\lib\\site-packages\\sklearn\\base.py:450: UserWarning: X does not have valid feature names, but StandardScaler was fitted with feature names\n",
      "  warnings.warn(\n",
      "C:\\Users\\sangh\\anaconda3\\lib\\site-packages\\sklearn\\base.py:450: UserWarning: X does not have valid feature names, but StandardScaler was fitted with feature names\n",
      "  warnings.warn(\n",
      "C:\\Users\\sangh\\anaconda3\\lib\\site-packages\\sklearn\\base.py:450: UserWarning: X does not have valid feature names, but StandardScaler was fitted with feature names\n",
      "  warnings.warn(\n"
     ]
    },
    {
     "name": "stdout",
     "output_type": "stream",
     "text": [
      "Happy [0.24 0.48 0.26 0.02]\n",
      "Happy [0.24 0.49 0.25 0.02]\n"
     ]
    },
    {
     "name": "stderr",
     "output_type": "stream",
     "text": [
      "C:\\Users\\sangh\\anaconda3\\lib\\site-packages\\sklearn\\base.py:450: UserWarning: X does not have valid feature names, but StandardScaler was fitted with feature names\n",
      "  warnings.warn(\n",
      "C:\\Users\\sangh\\anaconda3\\lib\\site-packages\\sklearn\\base.py:450: UserWarning: X does not have valid feature names, but StandardScaler was fitted with feature names\n",
      "  warnings.warn(\n",
      "C:\\Users\\sangh\\anaconda3\\lib\\site-packages\\sklearn\\base.py:450: UserWarning: X does not have valid feature names, but StandardScaler was fitted with feature names\n",
      "  warnings.warn(\n",
      "C:\\Users\\sangh\\anaconda3\\lib\\site-packages\\sklearn\\base.py:450: UserWarning: X does not have valid feature names, but StandardScaler was fitted with feature names\n",
      "  warnings.warn(\n"
     ]
    },
    {
     "name": "stdout",
     "output_type": "stream",
     "text": [
      "Happy [0.25 0.47 0.26 0.02]\n",
      "Happy"
     ]
    },
    {
     "name": "stderr",
     "output_type": "stream",
     "text": [
      "C:\\Users\\sangh\\anaconda3\\lib\\site-packages\\sklearn\\base.py:450: UserWarning: X does not have valid feature names, but StandardScaler was fitted with feature names\n",
      "  warnings.warn(\n",
      "C:\\Users\\sangh\\anaconda3\\lib\\site-packages\\sklearn\\base.py:450: UserWarning: X does not have valid feature names, but StandardScaler was fitted with feature names\n",
      "  warnings.warn(\n"
     ]
    },
    {
     "name": "stdout",
     "output_type": "stream",
     "text": [
      " [0.21 0.5  0.27 0.02]\n",
      "Happy [0.21 0.46 0.31 0.02]\n"
     ]
    },
    {
     "name": "stderr",
     "output_type": "stream",
     "text": [
      "C:\\Users\\sangh\\anaconda3\\lib\\site-packages\\sklearn\\base.py:450: UserWarning: X does not have valid feature names, but StandardScaler was fitted with feature names\n",
      "  warnings.warn(\n",
      "C:\\Users\\sangh\\anaconda3\\lib\\site-packages\\sklearn\\base.py:450: UserWarning: X does not have valid feature names, but StandardScaler was fitted with feature names\n",
      "  warnings.warn(\n"
     ]
    },
    {
     "name": "stdout",
     "output_type": "stream",
     "text": [
      "Happy [0.19 0.51 0.28 0.02]\n",
      "Happy [0.19 0.49 0.3  0.02]\n"
     ]
    },
    {
     "name": "stderr",
     "output_type": "stream",
     "text": [
      "C:\\Users\\sangh\\anaconda3\\lib\\site-packages\\sklearn\\base.py:450: UserWarning: X does not have valid feature names, but StandardScaler was fitted with feature names\n",
      "  warnings.warn(\n",
      "C:\\Users\\sangh\\anaconda3\\lib\\site-packages\\sklearn\\base.py:450: UserWarning: X does not have valid feature names, but StandardScaler was fitted with feature names\n",
      "  warnings.warn(\n",
      "C:\\Users\\sangh\\anaconda3\\lib\\site-packages\\sklearn\\base.py:450: UserWarning: X does not have valid feature names, but StandardScaler was fitted with feature names\n",
      "  warnings.warn(\n",
      "C:\\Users\\sangh\\anaconda3\\lib\\site-packages\\sklearn\\base.py:450: UserWarning: X does not have valid feature names, but StandardScaler was fitted with feature names\n",
      "  warnings.warn(\n"
     ]
    },
    {
     "name": "stdout",
     "output_type": "stream",
     "text": [
      "Happy [0.19 0.49 0.3  0.02]\n"
     ]
    },
    {
     "name": "stderr",
     "output_type": "stream",
     "text": [
      "C:\\Users\\sangh\\anaconda3\\lib\\site-packages\\sklearn\\base.py:450: UserWarning: X does not have valid feature names, but StandardScaler was fitted with feature names\n",
      "  warnings.warn(\n",
      "C:\\Users\\sangh\\anaconda3\\lib\\site-packages\\sklearn\\base.py:450: UserWarning: X does not have valid feature names, but StandardScaler was fitted with feature names\n",
      "  warnings.warn(\n"
     ]
    },
    {
     "name": "stdout",
     "output_type": "stream",
     "text": [
      "Happy [0.17 0.52 0.29 0.02]\n"
     ]
    },
    {
     "name": "stderr",
     "output_type": "stream",
     "text": [
      "C:\\Users\\sangh\\anaconda3\\lib\\site-packages\\sklearn\\base.py:450: UserWarning: X does not have valid feature names, but StandardScaler was fitted with feature names\n",
      "  warnings.warn(\n",
      "C:\\Users\\sangh\\anaconda3\\lib\\site-packages\\sklearn\\base.py:450: UserWarning: X does not have valid feature names, but StandardScaler was fitted with feature names\n",
      "  warnings.warn(\n"
     ]
    },
    {
     "name": "stdout",
     "output_type": "stream",
     "text": [
      "Happy [0.18 0.53 0.27 0.02]\n"
     ]
    },
    {
     "name": "stderr",
     "output_type": "stream",
     "text": [
      "C:\\Users\\sangh\\anaconda3\\lib\\site-packages\\sklearn\\base.py:450: UserWarning: X does not have valid feature names, but StandardScaler was fitted with feature names\n",
      "  warnings.warn(\n",
      "C:\\Users\\sangh\\anaconda3\\lib\\site-packages\\sklearn\\base.py:450: UserWarning: X does not have valid feature names, but StandardScaler was fitted with feature names\n",
      "  warnings.warn(\n"
     ]
    },
    {
     "name": "stdout",
     "output_type": "stream",
     "text": [
      "Happy [0.2  0.47 0.32 0.01]\n"
     ]
    },
    {
     "name": "stderr",
     "output_type": "stream",
     "text": [
      "C:\\Users\\sangh\\anaconda3\\lib\\site-packages\\sklearn\\base.py:450: UserWarning: X does not have valid feature names, but StandardScaler was fitted with feature names\n",
      "  warnings.warn(\n",
      "C:\\Users\\sangh\\anaconda3\\lib\\site-packages\\sklearn\\base.py:450: UserWarning: X does not have valid feature names, but StandardScaler was fitted with feature names\n",
      "  warnings.warn(\n"
     ]
    },
    {
     "name": "stdout",
     "output_type": "stream",
     "text": [
      "Happy [0.19 0.48 0.32 0.01]\n"
     ]
    },
    {
     "name": "stderr",
     "output_type": "stream",
     "text": [
      "C:\\Users\\sangh\\anaconda3\\lib\\site-packages\\sklearn\\base.py:450: UserWarning: X does not have valid feature names, but StandardScaler was fitted with feature names\n",
      "  warnings.warn(\n",
      "C:\\Users\\sangh\\anaconda3\\lib\\site-packages\\sklearn\\base.py:450: UserWarning: X does not have valid feature names, but StandardScaler was fitted with feature names\n",
      "  warnings.warn(\n"
     ]
    },
    {
     "name": "stdout",
     "output_type": "stream",
     "text": [
      "Happy [0.21 0.44 0.34 0.01]\n"
     ]
    },
    {
     "name": "stderr",
     "output_type": "stream",
     "text": [
      "C:\\Users\\sangh\\anaconda3\\lib\\site-packages\\sklearn\\base.py:450: UserWarning: X does not have valid feature names, but StandardScaler was fitted with feature names\n",
      "  warnings.warn(\n",
      "C:\\Users\\sangh\\anaconda3\\lib\\site-packages\\sklearn\\base.py:450: UserWarning: X does not have valid feature names, but StandardScaler was fitted with feature names\n",
      "  warnings.warn(\n",
      "C:\\Users\\sangh\\anaconda3\\lib\\site-packages\\sklearn\\base.py:450: UserWarning: X does not have valid feature names, but StandardScaler was fitted with feature names\n",
      "  warnings.warn(\n",
      "C:\\Users\\sangh\\anaconda3\\lib\\site-packages\\sklearn\\base.py:450: UserWarning: X does not have valid feature names, but StandardScaler was fitted with feature names\n",
      "  warnings.warn(\n"
     ]
    },
    {
     "name": "stdout",
     "output_type": "stream",
     "text": [
      "Happy [0.22 0.41 0.36 0.01]\n",
      "Happy [0.23 0.41 0.35 0.01]\n"
     ]
    },
    {
     "name": "stderr",
     "output_type": "stream",
     "text": [
      "C:\\Users\\sangh\\anaconda3\\lib\\site-packages\\sklearn\\base.py:450: UserWarning: X does not have valid feature names, but StandardScaler was fitted with feature names\n",
      "  warnings.warn(\n",
      "C:\\Users\\sangh\\anaconda3\\lib\\site-packages\\sklearn\\base.py:450: UserWarning: X does not have valid feature names, but StandardScaler was fitted with feature names\n",
      "  warnings.warn(\n",
      "C:\\Users\\sangh\\anaconda3\\lib\\site-packages\\sklearn\\base.py:450: UserWarning: X does not have valid feature names, but StandardScaler was fitted with feature names\n",
      "  warnings.warn(\n"
     ]
    },
    {
     "name": "stdout",
     "output_type": "stream",
     "text": [
      "Sad [0.28 0.34 0.37 0.01]\n"
     ]
    },
    {
     "name": "stderr",
     "output_type": "stream",
     "text": [
      "C:\\Users\\sangh\\anaconda3\\lib\\site-packages\\sklearn\\base.py:450: UserWarning: X does not have valid feature names, but StandardScaler was fitted with feature names\n",
      "  warnings.warn(\n"
     ]
    },
    {
     "name": "stdout",
     "output_type": "stream",
     "text": [
      "Sad [0.26 0.35 0.39 0.  ]\n"
     ]
    },
    {
     "name": "stderr",
     "output_type": "stream",
     "text": [
      "C:\\Users\\sangh\\anaconda3\\lib\\site-packages\\sklearn\\base.py:450: UserWarning: X does not have valid feature names, but StandardScaler was fitted with feature names\n",
      "  warnings.warn(\n",
      "C:\\Users\\sangh\\anaconda3\\lib\\site-packages\\sklearn\\base.py:450: UserWarning: X does not have valid feature names, but StandardScaler was fitted with feature names\n",
      "  warnings.warn(\n"
     ]
    },
    {
     "name": "stdout",
     "output_type": "stream",
     "text": [
      "Sad [0.27 0.33 0.39 0.01]\n"
     ]
    },
    {
     "name": "stderr",
     "output_type": "stream",
     "text": [
      "C:\\Users\\sangh\\anaconda3\\lib\\site-packages\\sklearn\\base.py:450: UserWarning: X does not have valid feature names, but StandardScaler was fitted with feature names\n",
      "  warnings.warn(\n",
      "C:\\Users\\sangh\\anaconda3\\lib\\site-packages\\sklearn\\base.py:450: UserWarning: X does not have valid feature names, but StandardScaler was fitted with feature names\n",
      "  warnings.warn(\n"
     ]
    },
    {
     "name": "stdout",
     "output_type": "stream",
     "text": [
      "Sad [0.26 0.32 0.41 0.01]\n"
     ]
    },
    {
     "name": "stderr",
     "output_type": "stream",
     "text": [
      "C:\\Users\\sangh\\anaconda3\\lib\\site-packages\\sklearn\\base.py:450: UserWarning: X does not have valid feature names, but StandardScaler was fitted with feature names\n",
      "  warnings.warn(\n",
      "C:\\Users\\sangh\\anaconda3\\lib\\site-packages\\sklearn\\base.py:450: UserWarning: X does not have valid feature names, but StandardScaler was fitted with feature names\n",
      "  warnings.warn(\n"
     ]
    },
    {
     "name": "stdout",
     "output_type": "stream",
     "text": [
      "Happy [0.21 0.43 0.35 0.01]\n"
     ]
    },
    {
     "name": "stderr",
     "output_type": "stream",
     "text": [
      "C:\\Users\\sangh\\anaconda3\\lib\\site-packages\\sklearn\\base.py:450: UserWarning: X does not have valid feature names, but StandardScaler was fitted with feature names\n",
      "  warnings.warn(\n",
      "C:\\Users\\sangh\\anaconda3\\lib\\site-packages\\sklearn\\base.py:450: UserWarning: X does not have valid feature names, but StandardScaler was fitted with feature names\n",
      "  warnings.warn(\n"
     ]
    },
    {
     "name": "stdout",
     "output_type": "stream",
     "text": [
      "Happy [0.23 0.43 0.33 0.01]\n"
     ]
    },
    {
     "name": "stderr",
     "output_type": "stream",
     "text": [
      "C:\\Users\\sangh\\anaconda3\\lib\\site-packages\\sklearn\\base.py:450: UserWarning: X does not have valid feature names, but StandardScaler was fitted with feature names\n",
      "  warnings.warn(\n",
      "C:\\Users\\sangh\\anaconda3\\lib\\site-packages\\sklearn\\base.py:450: UserWarning: X does not have valid feature names, but StandardScaler was fitted with feature names\n",
      "  warnings.warn(\n"
     ]
    },
    {
     "name": "stdout",
     "output_type": "stream",
     "text": [
      "Happy [0.24 0.39 0.36 0.01]\n"
     ]
    },
    {
     "name": "stderr",
     "output_type": "stream",
     "text": [
      "C:\\Users\\sangh\\anaconda3\\lib\\site-packages\\sklearn\\base.py:450: UserWarning: X does not have valid feature names, but StandardScaler was fitted with feature names\n",
      "  warnings.warn(\n",
      "C:\\Users\\sangh\\anaconda3\\lib\\site-packages\\sklearn\\base.py:450: UserWarning: X does not have valid feature names, but StandardScaler was fitted with feature names\n",
      "  warnings.warn(\n"
     ]
    },
    {
     "name": "stdout",
     "output_type": "stream",
     "text": [
      "Happy [0.22 0.43 0.34 0.01]\n"
     ]
    },
    {
     "name": "stderr",
     "output_type": "stream",
     "text": [
      "C:\\Users\\sangh\\anaconda3\\lib\\site-packages\\sklearn\\base.py:450: UserWarning: X does not have valid feature names, but StandardScaler was fitted with feature names\n",
      "  warnings.warn(\n",
      "C:\\Users\\sangh\\anaconda3\\lib\\site-packages\\sklearn\\base.py:450: UserWarning: X does not have valid feature names, but StandardScaler was fitted with feature names\n",
      "  warnings.warn(\n"
     ]
    },
    {
     "name": "stdout",
     "output_type": "stream",
     "text": [
      "Happy [0.24 0.43 0.32 0.01]\n"
     ]
    },
    {
     "name": "stderr",
     "output_type": "stream",
     "text": [
      "C:\\Users\\sangh\\anaconda3\\lib\\site-packages\\sklearn\\base.py:450: UserWarning: X does not have valid feature names, but StandardScaler was fitted with feature names\n",
      "  warnings.warn(\n",
      "C:\\Users\\sangh\\anaconda3\\lib\\site-packages\\sklearn\\base.py:450: UserWarning: X does not have valid feature names, but StandardScaler was fitted with feature names\n",
      "  warnings.warn(\n"
     ]
    },
    {
     "name": "stdout",
     "output_type": "stream",
     "text": [
      "Happy [0.23 0.4  0.36 0.01]\n"
     ]
    },
    {
     "name": "stderr",
     "output_type": "stream",
     "text": [
      "C:\\Users\\sangh\\anaconda3\\lib\\site-packages\\sklearn\\base.py:450: UserWarning: X does not have valid feature names, but StandardScaler was fitted with feature names\n",
      "  warnings.warn(\n",
      "C:\\Users\\sangh\\anaconda3\\lib\\site-packages\\sklearn\\base.py:450: UserWarning: X does not have valid feature names, but StandardScaler was fitted with feature names\n",
      "  warnings.warn(\n"
     ]
    },
    {
     "name": "stdout",
     "output_type": "stream",
     "text": [
      "Happy [0.2  0.44 0.34 0.02]\n"
     ]
    },
    {
     "name": "stderr",
     "output_type": "stream",
     "text": [
      "C:\\Users\\sangh\\anaconda3\\lib\\site-packages\\sklearn\\base.py:450: UserWarning: X does not have valid feature names, but StandardScaler was fitted with feature names\n",
      "  warnings.warn(\n",
      "C:\\Users\\sangh\\anaconda3\\lib\\site-packages\\sklearn\\base.py:450: UserWarning: X does not have valid feature names, but StandardScaler was fitted with feature names\n",
      "  warnings.warn(\n"
     ]
    },
    {
     "name": "stdout",
     "output_type": "stream",
     "text": [
      "Happy [0.28 0.38 0.31 0.03]\n"
     ]
    },
    {
     "name": "stderr",
     "output_type": "stream",
     "text": [
      "C:\\Users\\sangh\\anaconda3\\lib\\site-packages\\sklearn\\base.py:450: UserWarning: X does not have valid feature names, but StandardScaler was fitted with feature names\n",
      "  warnings.warn(\n",
      "C:\\Users\\sangh\\anaconda3\\lib\\site-packages\\sklearn\\base.py:450: UserWarning: X does not have valid feature names, but StandardScaler was fitted with feature names\n",
      "  warnings.warn(\n"
     ]
    },
    {
     "name": "stdout",
     "output_type": "stream",
     "text": [
      "Happy [0.24 0.38 0.38 0.  ]\n"
     ]
    },
    {
     "name": "stderr",
     "output_type": "stream",
     "text": [
      "C:\\Users\\sangh\\anaconda3\\lib\\site-packages\\sklearn\\base.py:450: UserWarning: X does not have valid feature names, but StandardScaler was fitted with feature names\n",
      "  warnings.warn(\n",
      "C:\\Users\\sangh\\anaconda3\\lib\\site-packages\\sklearn\\base.py:450: UserWarning: X does not have valid feature names, but StandardScaler was fitted with feature names\n",
      "  warnings.warn(\n"
     ]
    },
    {
     "name": "stdout",
     "output_type": "stream",
     "text": [
      "Happy [0.24 0.45 0.29 0.02]\n"
     ]
    },
    {
     "name": "stderr",
     "output_type": "stream",
     "text": [
      "C:\\Users\\sangh\\anaconda3\\lib\\site-packages\\sklearn\\base.py:450: UserWarning: X does not have valid feature names, but StandardScaler was fitted with feature names\n",
      "  warnings.warn(\n",
      "C:\\Users\\sangh\\anaconda3\\lib\\site-packages\\sklearn\\base.py:450: UserWarning: X does not have valid feature names, but StandardScaler was fitted with feature names\n",
      "  warnings.warn(\n"
     ]
    },
    {
     "name": "stdout",
     "output_type": "stream",
     "text": [
      "Happy [0.23 0.46 0.29 0.02]\n"
     ]
    },
    {
     "name": "stderr",
     "output_type": "stream",
     "text": [
      "C:\\Users\\sangh\\anaconda3\\lib\\site-packages\\sklearn\\base.py:450: UserWarning: X does not have valid feature names, but StandardScaler was fitted with feature names\n",
      "  warnings.warn(\n",
      "C:\\Users\\sangh\\anaconda3\\lib\\site-packages\\sklearn\\base.py:450: UserWarning: X does not have valid feature names, but StandardScaler was fitted with feature names\n",
      "  warnings.warn(\n"
     ]
    },
    {
     "name": "stdout",
     "output_type": "stream",
     "text": [
      "Happy [0.23 0.43 0.31 0.03]\n"
     ]
    },
    {
     "name": "stderr",
     "output_type": "stream",
     "text": [
      "C:\\Users\\sangh\\anaconda3\\lib\\site-packages\\sklearn\\base.py:450: UserWarning: X does not have valid feature names, but StandardScaler was fitted with feature names\n",
      "  warnings.warn(\n",
      "C:\\Users\\sangh\\anaconda3\\lib\\site-packages\\sklearn\\base.py:450: UserWarning: X does not have valid feature names, but StandardScaler was fitted with feature names\n",
      "  warnings.warn(\n"
     ]
    },
    {
     "name": "stdout",
     "output_type": "stream",
     "text": [
      "Happy [0.24 0.44 0.3  0.02]\n"
     ]
    },
    {
     "name": "stderr",
     "output_type": "stream",
     "text": [
      "C:\\Users\\sangh\\anaconda3\\lib\\site-packages\\sklearn\\base.py:450: UserWarning: X does not have valid feature names, but StandardScaler was fitted with feature names\n",
      "  warnings.warn(\n",
      "C:\\Users\\sangh\\anaconda3\\lib\\site-packages\\sklearn\\base.py:450: UserWarning: X does not have valid feature names, but StandardScaler was fitted with feature names\n",
      "  warnings.warn(\n"
     ]
    },
    {
     "name": "stdout",
     "output_type": "stream",
     "text": [
      "Happy [0.24 0.43 0.31 0.02]\n"
     ]
    },
    {
     "name": "stderr",
     "output_type": "stream",
     "text": [
      "C:\\Users\\sangh\\anaconda3\\lib\\site-packages\\sklearn\\base.py:450: UserWarning: X does not have valid feature names, but StandardScaler was fitted with feature names\n",
      "  warnings.warn(\n",
      "C:\\Users\\sangh\\anaconda3\\lib\\site-packages\\sklearn\\base.py:450: UserWarning: X does not have valid feature names, but StandardScaler was fitted with feature names\n",
      "  warnings.warn(\n"
     ]
    },
    {
     "name": "stdout",
     "output_type": "stream",
     "text": [
      "Happy [0.22 0.44 0.31 0.03]\n"
     ]
    },
    {
     "name": "stderr",
     "output_type": "stream",
     "text": [
      "C:\\Users\\sangh\\anaconda3\\lib\\site-packages\\sklearn\\base.py:450: UserWarning: X does not have valid feature names, but StandardScaler was fitted with feature names\n",
      "  warnings.warn(\n",
      "C:\\Users\\sangh\\anaconda3\\lib\\site-packages\\sklearn\\base.py:450: UserWarning: X does not have valid feature names, but StandardScaler was fitted with feature names\n",
      "  warnings.warn(\n"
     ]
    },
    {
     "name": "stdout",
     "output_type": "stream",
     "text": [
      "Happy [0.24 0.43 0.32 0.01]\n"
     ]
    },
    {
     "name": "stderr",
     "output_type": "stream",
     "text": [
      "C:\\Users\\sangh\\anaconda3\\lib\\site-packages\\sklearn\\base.py:450: UserWarning: X does not have valid feature names, but StandardScaler was fitted with feature names\n",
      "  warnings.warn(\n",
      "C:\\Users\\sangh\\anaconda3\\lib\\site-packages\\sklearn\\base.py:450: UserWarning: X does not have valid feature names, but StandardScaler was fitted with feature names\n",
      "  warnings.warn(\n"
     ]
    },
    {
     "name": "stdout",
     "output_type": "stream",
     "text": [
      "Happy [0.25 0.42 0.31 0.02]\n"
     ]
    },
    {
     "name": "stderr",
     "output_type": "stream",
     "text": [
      "C:\\Users\\sangh\\anaconda3\\lib\\site-packages\\sklearn\\base.py:450: UserWarning: X does not have valid feature names, but StandardScaler was fitted with feature names\n",
      "  warnings.warn(\n",
      "C:\\Users\\sangh\\anaconda3\\lib\\site-packages\\sklearn\\base.py:450: UserWarning: X does not have valid feature names, but StandardScaler was fitted with feature names\n",
      "  warnings.warn(\n"
     ]
    },
    {
     "name": "stdout",
     "output_type": "stream",
     "text": [
      "Happy [0.25 0.42 0.32 0.01]\n"
     ]
    },
    {
     "name": "stderr",
     "output_type": "stream",
     "text": [
      "C:\\Users\\sangh\\anaconda3\\lib\\site-packages\\sklearn\\base.py:450: UserWarning: X does not have valid feature names, but StandardScaler was fitted with feature names\n",
      "  warnings.warn(\n",
      "C:\\Users\\sangh\\anaconda3\\lib\\site-packages\\sklearn\\base.py:450: UserWarning: X does not have valid feature names, but StandardScaler was fitted with feature names\n",
      "  warnings.warn(\n"
     ]
    },
    {
     "name": "stdout",
     "output_type": "stream",
     "text": [
      "Happy [0.25 0.41 0.33 0.01]\n"
     ]
    },
    {
     "name": "stderr",
     "output_type": "stream",
     "text": [
      "C:\\Users\\sangh\\anaconda3\\lib\\site-packages\\sklearn\\base.py:450: UserWarning: X does not have valid feature names, but StandardScaler was fitted with feature names\n",
      "  warnings.warn(\n",
      "C:\\Users\\sangh\\anaconda3\\lib\\site-packages\\sklearn\\base.py:450: UserWarning: X does not have valid feature names, but StandardScaler was fitted with feature names\n",
      "  warnings.warn(\n"
     ]
    },
    {
     "name": "stdout",
     "output_type": "stream",
     "text": [
      "Happy [0.26 0.42 0.31 0.01]\n"
     ]
    },
    {
     "name": "stderr",
     "output_type": "stream",
     "text": [
      "C:\\Users\\sangh\\anaconda3\\lib\\site-packages\\sklearn\\base.py:450: UserWarning: X does not have valid feature names, but StandardScaler was fitted with feature names\n",
      "  warnings.warn(\n",
      "C:\\Users\\sangh\\anaconda3\\lib\\site-packages\\sklearn\\base.py:450: UserWarning: X does not have valid feature names, but StandardScaler was fitted with feature names\n",
      "  warnings.warn(\n"
     ]
    },
    {
     "name": "stdout",
     "output_type": "stream",
     "text": [
      "Happy [0.23 0.41 0.35 0.01]\n"
     ]
    },
    {
     "name": "stderr",
     "output_type": "stream",
     "text": [
      "C:\\Users\\sangh\\anaconda3\\lib\\site-packages\\sklearn\\base.py:450: UserWarning: X does not have valid feature names, but StandardScaler was fitted with feature names\n",
      "  warnings.warn(\n",
      "C:\\Users\\sangh\\anaconda3\\lib\\site-packages\\sklearn\\base.py:450: UserWarning: X does not have valid feature names, but StandardScaler was fitted with feature names\n",
      "  warnings.warn(\n"
     ]
    },
    {
     "name": "stdout",
     "output_type": "stream",
     "text": [
      "Happy [0.25 0.42 0.31 0.02]\n"
     ]
    }
   ],
   "source": [
    "cap = cv2.VideoCapture(0)\n",
    "# Initiate holistic model\n",
    "width= int(cap.get(cv2.CAP_PROP_FRAME_WIDTH))\n",
    "height= int(cap.get(cv2.CAP_PROP_FRAME_HEIGHT))\n",
    "emotions=[]\n",
    "writer= cv2.VideoWriter('basicvideo.mp4', cv2.VideoWriter_fourcc(*'DIVX'), 20, (width,height))\n",
    "with mp_holistic.Holistic(min_detection_confidence=0.5, min_tracking_confidence=0.5) as holistic:\n",
    "    \n",
    "    while cap.isOpened():\n",
    "        ret, frame = cap.read()\n",
    "        \n",
    "        \n",
    "        # Recolor Feed\n",
    "        image = cv2.cvtColor(frame, cv2.COLOR_BGR2RGB)\n",
    "        image.flags.writeable = False        \n",
    "        \n",
    "        # Make Detections\n",
    "        results = holistic.process(image)\n",
    "        # print(results.face_landmarks)\n",
    "        \n",
    "        # face_landmarks, pose_landmarks, left_hand_landmarks, right_hand_landmarks\n",
    "        \n",
    "        # Recolor image back to BGR for rendering\n",
    "        image.flags.writeable = True   \n",
    "        image = cv2.cvtColor(image, cv2.COLOR_RGB2BGR)\n",
    "        \n",
    "        # 1. Draw face landmarks\n",
    "        mp_drawing.draw_landmarks(image, results.face_landmarks, mp_holistic.FACEMESH_CONTOURS, \n",
    "                                 mp_drawing.DrawingSpec(color=(80,110,10), thickness=1, circle_radius=1),\n",
    "                                 mp_drawing.DrawingSpec(color=(80,256,121), thickness=1, circle_radius=1)\n",
    "                                 )\n",
    "        \n",
    "        # 2. Right hand\n",
    "        mp_drawing.draw_landmarks(image, results.right_hand_landmarks, mp_holistic.HAND_CONNECTIONS, \n",
    "                                 mp_drawing.DrawingSpec(color=(80,22,10), thickness=2, circle_radius=4),\n",
    "                                 mp_drawing.DrawingSpec(color=(80,44,121), thickness=2, circle_radius=2)\n",
    "                                 )\n",
    "\n",
    "        # 3. Left Hand\n",
    "        mp_drawing.draw_landmarks(image, results.left_hand_landmarks, mp_holistic.HAND_CONNECTIONS, \n",
    "                                 mp_drawing.DrawingSpec(color=(121,22,76), thickness=2, circle_radius=4),\n",
    "                                 mp_drawing.DrawingSpec(color=(121,44,250), thickness=2, circle_radius=2)\n",
    "                                 )\n",
    "        \n",
    "        # 4. Pose Detections\n",
    "        mp_drawing.draw_landmarks(image, results.pose_landmarks, mp_holistic.POSE_CONNECTIONS, \n",
    "                                 mp_drawing.DrawingSpec(color=(245,117,66), thickness=2, circle_radius=4),\n",
    "                                 mp_drawing.DrawingSpec(color=(245,66,230), thickness=2, circle_radius=2)\n",
    "                                 )\n",
    "        # Export coordinates\n",
    "        try:\n",
    "            # Extract Pose landmarks\n",
    "            pose = results.pose_landmarks.landmark\n",
    "            pose_row = list(np.array([[landmark.x, landmark.y, landmark.z, landmark.visibility] for landmark in pose]).flatten())\n",
    "            \n",
    "            # Extract Face landmarks\n",
    "            face = results.face_landmarks.landmark\n",
    "            face_row = list(np.array([[landmark.x, landmark.y, landmark.z, landmark.visibility] for landmark in face]).flatten())\n",
    "            \n",
    "            # Concate rows\n",
    "            row = pose_row+face_row\n",
    "            \n",
    "#             # Append class name \n",
    "#             row.insert(0, class_name)\n",
    "            \n",
    "#             # Export to CSV\n",
    "#             with open('coords.csv', mode='a', newline='') as f:\n",
    "#                 csv_writer = csv.writer(f, delimiter=',', quotechar='\"', quoting=csv.QUOTE_MINIMAL)\n",
    "#                 csv_writer.writerow(row) \n",
    "\n",
    "            # Make Detections\n",
    "            X = pd.DataFrame([row])\n",
    "            body_language_class = model.predict(X)[0]\n",
    "            body_language_prob = model.predict_proba(X)[0]\n",
    "            print(body_language_class, body_language_prob)\n",
    "            \n",
    "            # Grab ear coords\n",
    "            coords = tuple(np.multiply(\n",
    "                            np.array(\n",
    "                                (results.pose_landmarks.landmark[mp_holistic.PoseLandmark.LEFT_EAR].x, \n",
    "                                 results.pose_landmarks.landmark[mp_holistic.PoseLandmark.LEFT_EAR].y))\n",
    "                        , [640,480]).astype(int))\n",
    "            \n",
    "            cv2.rectangle(image, \n",
    "                          (coords[0], coords[1]+5), \n",
    "                          (coords[0]+len(body_language_class)*20, coords[1]-30), \n",
    "                          (245, 117, 16), -1)\n",
    "            cv2.putText(image, body_language_class, coords, \n",
    "                        cv2.FONT_HERSHEY_SIMPLEX, 1, (255, 255, 255), 2, cv2.LINE_AA)\n",
    "            \n",
    "            # Get status box\n",
    "            cv2.rectangle(image, (0,0), (250, 60), (245, 117, 16), -1)\n",
    "            \n",
    "            # Display Class\n",
    "            cv2.putText(image, 'CLASS'\n",
    "                        , (95,12), cv2.FONT_HERSHEY_SIMPLEX, 0.5, (0, 0, 0), 1, cv2.LINE_AA)\n",
    "            cv2.putText(image, body_language_class.split(' ')[0]\n",
    "                        , (90,40), cv2.FONT_HERSHEY_SIMPLEX, 1, (255, 255, 255), 2, cv2.LINE_AA)\n",
    "            \n",
    "            \n",
    "            # Display Probability\n",
    "            cv2.putText(image, 'PROB'\n",
    "                        , (15,12), cv2.FONT_HERSHEY_SIMPLEX, 0.5, (0, 0, 0), 1, cv2.LINE_AA)\n",
    "            cv2.putText(image, str(round(body_language_prob[np.argmax(body_language_prob)],2))\n",
    "                        , (10,40), cv2.FONT_HERSHEY_SIMPLEX, 1, (255, 255, 255), 2, cv2.LINE_AA)\n",
    "            \n",
    "            emotions += [body_language_class.split(' ')[0]]\n",
    "            \n",
    "            writer.write(frame)\n",
    "            \n",
    "        except:\n",
    "            pass\n",
    "                        \n",
    "        cv2.imshow('Raw Webcam Feed', image)\n",
    "\n",
    "        if cv2.waitKey(10) & 0xFF == ord('q'):\n",
    "            break\n",
    "\n",
    "cap.release()\n",
    "writer.release()\n",
    "cv2.destroyAllWindows()"
   ]
  },
  {
   "cell_type": "code",
   "execution_count": 78,
   "metadata": {
    "scrolled": true
   },
   "outputs": [
    {
     "name": "stdout",
     "output_type": "stream",
     "text": [
      "Counter({'Angry': 109, 'Happy': 23, 'Sad': 4})\n"
     ]
    },
    {
     "data": {
      "text/plain": [
       "[<matplotlib.lines.Line2D at 0x163aa516400>]"
      ]
     },
     "execution_count": 78,
     "metadata": {},
     "output_type": "execute_result"
    },
    {
     "data": {
      "image/png": "[encoded data removed]",
      "text/plain": [
       "<Figure size 432x288 with 1 Axes>"
      ]
     },
     "metadata": {
      "needs_background": "light"
     },
     "output_type": "display_data"
    }
   ],
   "source": [
    "from collections import Counter\n",
    "import matplotlib.pyplot as plt\n",
    "frequency = Counter(emotions)\n",
    "xa=[]\n",
    "ya=[]\n",
    "print(frequency)\n",
    "for string, frequency in frequency.items():\n",
    "    xa += [string]\n",
    "    ya.append(frequency)\n",
    "\n",
    "plt.plot(xa, ya, color='green', linestyle='dashed', linewidth = 3,\n",
    "         marker='o', markerfacecolor='blue', markersize=12)\n",
    "  "
   ]
  },
  {
   "cell_type": "code",
   "execution_count": 1,
   "metadata": {},
   "outputs": [
    {
     "name": "stderr",
     "output_type": "stream",
     "text": [
      "C:\\Users\\sangh\\anaconda3\\lib\\site-packages\\customtkinter\\windows\\widgets\\core_widget_classes\\ctk_base_class.py:179: UserWarning: CTkLabel Warning: Given image is not CTkImage but <class 'PIL.ImageTk.PhotoImage'>. Image can not be scaled on HighDPI displays, use CTkImage instead.\n",
      "\n",
      "  warnings.warn(f\"{type(self).__name__} Warning: Given image is not CTkImage but {type(image)}. Image can not be scaled on HighDPI displays, use CTkImage instead.\\n\")\n",
      "Exception in Tkinter callback\n",
      "Traceback (most recent call last):\n",
      "  File \"C:\\Users\\sangh\\anaconda3\\lib\\tkinter\\__init__.py\", line 1892, in __call__\n",
      "    return self.func(*args)\n",
      "  File \"C:\\Users\\sangh\\anaconda3\\lib\\site-packages\\customtkinter\\windows\\widgets\\ctk_button.py\", line 553, in _clicked\n",
      "    self._command()\n",
      "  File \"C:\\Users\\sangh\\AppData\\Local\\Temp\\ipykernel_26736\\218148285.py\", line 89, in login\n",
      "    video()\n",
      "  File \"C:\\Users\\sangh\\AppData\\Local\\Temp\\ipykernel_26736\\218148285.py\", line 69, in video\n",
      "    vlabel.configure(image=photo)\n",
      "  File \"C:\\Users\\sangh\\anaconda3\\lib\\site-packages\\customtkinter\\windows\\widgets\\ctk_label.py\", line 207, in configure\n",
      "    self._update_image()\n",
      "  File \"C:\\Users\\sangh\\anaconda3\\lib\\site-packages\\customtkinter\\windows\\widgets\\ctk_label.py\", line 135, in _update_image\n",
      "    self._label.configure(image=self._image)\n",
      "  File \"C:\\Users\\sangh\\anaconda3\\lib\\tkinter\\__init__.py\", line 1646, in configure\n",
      "    return self._configure('configure', cnf, kw)\n",
      "  File \"C:\\Users\\sangh\\anaconda3\\lib\\tkinter\\__init__.py\", line 1636, in _configure\n",
      "    self.tk.call(_flatten((self._w, cmd)) + self._options(cnf))\n",
      "_tkinter.TclError: image \"pyimage1\" doesn't exist\n"
     ]
    },
    {
     "ename": "KeyboardInterrupt",
     "evalue": "",
     "output_type": "error",
     "traceback": [
      "\u001b[1;31m---------------------------------------------------------------------------\u001b[0m",
      "\u001b[1;31mKeyboardInterrupt\u001b[0m                         Traceback (most recent call last)",
      "Input \u001b[1;32mIn [1]\u001b[0m, in \u001b[0;36m<cell line: 123>\u001b[1;34m()\u001b[0m\n\u001b[0;32m    118\u001b[0m button \u001b[38;5;241m=\u001b[39m ctk\u001b[38;5;241m.\u001b[39mCTkButton(master\u001b[38;5;241m=\u001b[39mframe,text\u001b[38;5;241m=\u001b[39m\u001b[38;5;124m'\u001b[39m\u001b[38;5;124mLogin\u001b[39m\u001b[38;5;124m'\u001b[39m,command\u001b[38;5;241m=\u001b[39mlogin)\n\u001b[0;32m    119\u001b[0m button\u001b[38;5;241m.\u001b[39mpack(pady\u001b[38;5;241m=\u001b[39m\u001b[38;5;241m12\u001b[39m,padx\u001b[38;5;241m=\u001b[39m\u001b[38;5;241m10\u001b[39m)\n\u001b[1;32m--> 123\u001b[0m \u001b[43mapp\u001b[49m\u001b[38;5;241;43m.\u001b[39;49m\u001b[43mmainloop\u001b[49m\u001b[43m(\u001b[49m\u001b[43m)\u001b[49m\n",
      "File \u001b[1;32m~\\anaconda3\\lib\\site-packages\\customtkinter\\windows\\ctk_tk.py:163\u001b[0m, in \u001b[0;36mCTk.mainloop\u001b[1;34m(self, *args, **kwargs)\u001b[0m\n\u001b[0;32m    159\u001b[0m             \u001b[38;5;28mself\u001b[39m\u001b[38;5;241m.\u001b[39mdeiconify()\n\u001b[0;32m    161\u001b[0m     \u001b[38;5;28mself\u001b[39m\u001b[38;5;241m.\u001b[39m_window_exists \u001b[38;5;241m=\u001b[39m \u001b[38;5;28;01mTrue\u001b[39;00m\n\u001b[1;32m--> 163\u001b[0m \u001b[38;5;28msuper\u001b[39m()\u001b[38;5;241m.\u001b[39mmainloop(\u001b[38;5;241m*\u001b[39margs, \u001b[38;5;241m*\u001b[39m\u001b[38;5;241m*\u001b[39mkwargs)\n",
      "File \u001b[1;32m~\\anaconda3\\lib\\tkinter\\__init__.py:1429\u001b[0m, in \u001b[0;36mMisc.mainloop\u001b[1;34m(self, n)\u001b[0m\n\u001b[0;32m   1427\u001b[0m \u001b[38;5;28;01mdef\u001b[39;00m \u001b[38;5;21mmainloop\u001b[39m(\u001b[38;5;28mself\u001b[39m, n\u001b[38;5;241m=\u001b[39m\u001b[38;5;241m0\u001b[39m):\n\u001b[0;32m   1428\u001b[0m     \u001b[38;5;124;03m\"\"\"Call the mainloop of Tk.\"\"\"\u001b[39;00m\n\u001b[1;32m-> 1429\u001b[0m     \u001b[38;5;28;43mself\u001b[39;49m\u001b[38;5;241;43m.\u001b[39;49m\u001b[43mtk\u001b[49m\u001b[38;5;241;43m.\u001b[39;49m\u001b[43mmainloop\u001b[49m\u001b[43m(\u001b[49m\u001b[43mn\u001b[49m\u001b[43m)\u001b[49m\n",
      "\u001b[1;31mKeyboardInterrupt\u001b[0m: "
     ]
    }
   ],
   "source": [
    "import customtkinter as ctk\n",
    "import tkinter.messagebox as tkmb\n",
    "import cv2\n",
    "from PIL import Image, ImageTk\n",
    "  \n",
    "# Selecting GUI theme - dark, light , system (for system default)\n",
    "ctk.set_appearance_mode(\"dark\")\n",
    "  \n",
    "# Selecting color theme - blue, green, dark-blue\n",
    "ctk.set_default_color_theme(\"blue\")\n",
    "  \n",
    "app = ctk.CTk()\n",
    "app.geometry(\"400x400\")\n",
    "app.title(\"Modern Login UI using Customtkinter\")\n",
    "  \n",
    "def process_frames():\n",
    "    _, frame = cap.read()\n",
    "    # Perform any necessary image processing or analysis on the frame\n",
    "    # ...\n",
    "\n",
    "    # Display the processed frame in the GUI\n",
    "    image = cv2.cvtColor(frame, cv2.COLOR_BGR2RGB)\n",
    "    photo = ImageTk.PhotoImage(image=Image.fromarray(image))\n",
    "    video_label.config(image=photo)\n",
    "    video_label.image = photo\n",
    "\n",
    "    # Call this function again after a delay to process the next frame\n",
    "    window.after(10, process_frames)\n",
    "\n",
    "# Function to start video recording\n",
    "def start_recording():\n",
    "    global is_recording, out\n",
    "    if not is_recording:\n",
    "        is_recording = True\n",
    "        out = cv2.VideoWriter('output.mp4', cv2.VideoWriter_fourcc(*'DIVX'), 30, (640, 480))\n",
    "\n",
    "# Function to stop video recording\n",
    "def stop_recording():\n",
    "    global is_recording, out\n",
    "    if is_recording:\n",
    "        is_recording = False\n",
    "        out.release()\n",
    "\n",
    "def video():\n",
    "    video_app=ctk.CTk()\n",
    "    video_app.geometry(\"400x400\")\n",
    "    video_app.title(\"Recording page\")\n",
    "    vlabel = ctk.CTkLabel(app,text=\"This is the main recording page\")\n",
    "    label.pack(pady=20)\n",
    "    vframe = ctk.CTkFrame(master=video_app)\n",
    "    vframe.pack(pady=20,padx=40,fill='both',expand=True)\n",
    "    vlabel = ctk.CTkLabel(master=vframe,text=\"Main recording page\")\n",
    "    vlabel.pack(pady=12,padx=10)\n",
    "    record_button = ctk.CTkButton(master=vframe, text=\"Start Recording\",command=start_recording)\n",
    "    record_button.pack(pady=12,padx=10)\n",
    "    stop_button = ctk.CTkButton(master=vframe, text=\"Stop Recording\",command=stop_recording)\n",
    "    stop_button.pack(pady=12,padx=10)\n",
    "    cap = cv2.VideoCapture(0)\n",
    "    is_recording = False\n",
    "    out = None\n",
    "    # Start processing video frames\n",
    "    _, frame = cap.read()\n",
    "    # Perform any necessary image processing or analysis on the frame\n",
    "    # ...\n",
    "\n",
    "    # Display the processed frame in the GUI\n",
    "    image = cv2.cvtColor(frame, cv2.COLOR_BGR2RGB)\n",
    "    photo = ImageTk.PhotoImage(image=Image.fromarray(image))\n",
    "    vlabel.configure(image=photo)\n",
    "    vlabel.image = photo\n",
    "\n",
    "    # Call this function again after a delay to process the next frame\n",
    "    video_app.after(10, process_frames)\n",
    "    cap.release\n",
    "    video_app.mainloop()\n",
    "\n",
    "def login():\n",
    "  \n",
    "    username = \"Geeks\"\n",
    "    password = \"12345\"\n",
    "    new_window = ctk.CTkToplevel(app)\n",
    "  \n",
    "    new_window.title(\"New Window\")\n",
    "  \n",
    "    new_window.geometry(\"350x150\")\n",
    "  \n",
    "    if user_entry.get() == username and user_pass.get() == password:\n",
    "        tkmb.showinfo(title=\"Login Successful\",message=\"You have logged in Successfully\")\n",
    "        video()\n",
    "    elif user_entry.get() == username and user_pass.get() != password:\n",
    "        tkmb.showwarning(title='Wrong password',message='Please check your password')\n",
    "    elif user_entry.get() != username and user_pass.get() == password:\n",
    "        tkmb.showwarning(title='Wrong username',message='Please check your username')\n",
    "    else:\n",
    "        tkmb.showerror(title=\"Login Failed\",message=\"Invalid Username and password\")\n",
    "  \n",
    "  \n",
    "  \n",
    "label = ctk.CTkLabel(app,text=\"This is the main UI page\")\n",
    "  \n",
    "label.pack(pady=20)\n",
    "  \n",
    "  \n",
    "frame = ctk.CTkFrame(master=app)\n",
    "frame.pack(pady=20,padx=40,fill='both',expand=True)\n",
    "  \n",
    "label = ctk.CTkLabel(master=frame,text='Modern Login System UI')\n",
    "label.pack(pady=12,padx=10)\n",
    "  \n",
    "  \n",
    "user_entry= ctk.CTkEntry(master=frame,placeholder_text=\"Username\")\n",
    "user_entry.pack(pady=12,padx=10)\n",
    "  \n",
    "user_pass= ctk.CTkEntry(master=frame,placeholder_text=\"Password\",show=\"*\")\n",
    "user_pass.pack(pady=12,padx=10)\n",
    "  \n",
    "  \n",
    "button = ctk.CTkButton(master=frame,text='Login',command=login)\n",
    "button.pack(pady=12,padx=10)\n",
    "  \n",
    "  \n",
    "  \n",
    "app.mainloop()"
   ]
  },
  {
   "cell_type": "code",
   "execution_count": null,
   "metadata": {},
   "outputs": [],
   "source": []
  }
 ],
 "metadata": {
  "kernelspec": {
   "display_name": "Python 3",
   "language": "python",
   "name": "python3"
  },
  "language_info": {
   "codemirror_mode": {
    "name": "ipython",
    "version": 3
   },
   "file_extension": ".py",
   "mimetype": "text/x-python",
   "name": "python",
   "nbconvert_exporter": "python",
   "pygments_lexer": "ipython3",
   "version": "3.8.5"
  }
 },
 "nbformat": 4,
 "nbformat_minor": 5
}
